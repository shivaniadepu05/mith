{
  "nbformat": 4,
  "nbformat_minor": 0,
  "metadata": {
    "colab": {
      "provenance": []
    },
    "kernelspec": {
      "name": "python3",
      "display_name": "Python 3"
    },
    "language_info": {
      "name": "python"
    }
  },
  "cells": [
    {
      "cell_type": "code",
      "execution_count": null,
      "metadata": {
        "id": "2KcPNIBo2kUT"
      },
      "outputs": [],
      "source": [
        "\n",
        "\n",
        "import pandas as pd\n",
        "import numpy as np"
      ]
    },
    {
      "cell_type": "code",
      "source": [
        "data = pd.read_csv('/content/train_data-1611220940820.csv')"
      ],
      "metadata": {
        "id": "LF1mYoUN3oyE"
      },
      "execution_count": null,
      "outputs": []
    },
    {
      "cell_type": "code",
      "source": [
        "data"
      ],
      "metadata": {
        "colab": {
          "base_uri": "https://localhost:8080/",
          "height": 661
        },
        "id": "pliPo4qU4IHY",
        "outputId": "3b20c3da-b43a-4787-d114-f8cc6963ba79"
      },
      "execution_count": null,
      "outputs": [
        {
          "output_type": "execute_result",
          "data": {
            "text/plain": [
              "       transaction_number   user_id           payment_method  partner_id  \\\n",
              "0            144703125000  17539344   sbi_atm_cum_debit_card       47334   \n",
              "1          77406814453032  24710841        e_wallet_payments       78890   \n",
              "2         308929485482801  24265476        e_wallet_payments       78890   \n",
              "3         665270027747073  10240000        other_debit_cards      102557   \n",
              "4          38276160171101   5880625        other_debit_cards      118335   \n",
              "...                   ...       ...                      ...         ...   \n",
              "76524     179759462245453  19686969   sbi_atm_cum_debit_card       47334   \n",
              "76525    2693567760244353  11662225  visa_master_debit_cards      118335   \n",
              "76526     119750257089000    374544   sbi_atm_cum_debit_card       47334   \n",
              "76527    1949798765017089   1687401   sbi_atm_cum_debit_card       47334   \n",
              "76528    1051344513778987   6754801   sbi_atm_cum_debit_card       47334   \n",
              "\n",
              "      partner_category  country      device_type  money_transacted  \\\n",
              "0                cat_1  IND_INR  android_devices              -5.0   \n",
              "1                cat_2  IND_INR        other_pcs             100.0   \n",
              "2                cat_2  IND_INR        other_pcs              50.0   \n",
              "3                cat_3  IND_INR        other_pcs            1000.0   \n",
              "4                cat_1  IND_INR        other_pcs             200.0   \n",
              "...                ...      ...              ...               ...   \n",
              "76524            cat_1  IND_INR  android_devices            -100.0   \n",
              "76525            cat_1  IND_INR        other_pcs             200.0   \n",
              "76526            cat_1  IND_INR  android_devices              -3.5   \n",
              "76527            cat_1  IND_INR  android_devices             -20.0   \n",
              "76528            cat_1  IND_INR  android_devices            -100.0   \n",
              "\n",
              "          transaction_initiation  partner_pricing_category  is_fraud  \n",
              "0      2016-11-15 19:16:12+00:00                         2         0  \n",
              "1      2017-01-11 09:25:33+00:00                         2         0  \n",
              "2      2016-12-07 07:58:09+00:00                         2         0  \n",
              "3      2017-01-11 16:15:44+00:00                         2         0  \n",
              "4      2016-11-16 17:04:42+00:00                         2         0  \n",
              "...                          ...                       ...       ...  \n",
              "76524  2016-11-30 13:40:45+00:00                         2         0  \n",
              "76525  2017-01-08 08:35:31+00:00                         2         0  \n",
              "76526  2016-12-26 21:47:08+00:00                         2         0  \n",
              "76527  2016-12-11 13:44:06+00:00                         2         0  \n",
              "76528  2017-01-11 19:08:18+00:00                         2         0  \n",
              "\n",
              "[76529 rows x 11 columns]"
            ],
            "text/html": [
              "\n",
              "  <div id=\"df-499435d0-a181-4a3c-9edf-c66f265fa156\">\n",
              "    <div class=\"colab-df-container\">\n",
              "      <div>\n",
              "<style scoped>\n",
              "    .dataframe tbody tr th:only-of-type {\n",
              "        vertical-align: middle;\n",
              "    }\n",
              "\n",
              "    .dataframe tbody tr th {\n",
              "        vertical-align: top;\n",
              "    }\n",
              "\n",
              "    .dataframe thead th {\n",
              "        text-align: right;\n",
              "    }\n",
              "</style>\n",
              "<table border=\"1\" class=\"dataframe\">\n",
              "  <thead>\n",
              "    <tr style=\"text-align: right;\">\n",
              "      <th></th>\n",
              "      <th>transaction_number</th>\n",
              "      <th>user_id</th>\n",
              "      <th>payment_method</th>\n",
              "      <th>partner_id</th>\n",
              "      <th>partner_category</th>\n",
              "      <th>country</th>\n",
              "      <th>device_type</th>\n",
              "      <th>money_transacted</th>\n",
              "      <th>transaction_initiation</th>\n",
              "      <th>partner_pricing_category</th>\n",
              "      <th>is_fraud</th>\n",
              "    </tr>\n",
              "  </thead>\n",
              "  <tbody>\n",
              "    <tr>\n",
              "      <th>0</th>\n",
              "      <td>144703125000</td>\n",
              "      <td>17539344</td>\n",
              "      <td>sbi_atm_cum_debit_card</td>\n",
              "      <td>47334</td>\n",
              "      <td>cat_1</td>\n",
              "      <td>IND_INR</td>\n",
              "      <td>android_devices</td>\n",
              "      <td>-5.0</td>\n",
              "      <td>2016-11-15 19:16:12+00:00</td>\n",
              "      <td>2</td>\n",
              "      <td>0</td>\n",
              "    </tr>\n",
              "    <tr>\n",
              "      <th>1</th>\n",
              "      <td>77406814453032</td>\n",
              "      <td>24710841</td>\n",
              "      <td>e_wallet_payments</td>\n",
              "      <td>78890</td>\n",
              "      <td>cat_2</td>\n",
              "      <td>IND_INR</td>\n",
              "      <td>other_pcs</td>\n",
              "      <td>100.0</td>\n",
              "      <td>2017-01-11 09:25:33+00:00</td>\n",
              "      <td>2</td>\n",
              "      <td>0</td>\n",
              "    </tr>\n",
              "    <tr>\n",
              "      <th>2</th>\n",
              "      <td>308929485482801</td>\n",
              "      <td>24265476</td>\n",
              "      <td>e_wallet_payments</td>\n",
              "      <td>78890</td>\n",
              "      <td>cat_2</td>\n",
              "      <td>IND_INR</td>\n",
              "      <td>other_pcs</td>\n",
              "      <td>50.0</td>\n",
              "      <td>2016-12-07 07:58:09+00:00</td>\n",
              "      <td>2</td>\n",
              "      <td>0</td>\n",
              "    </tr>\n",
              "    <tr>\n",
              "      <th>3</th>\n",
              "      <td>665270027747073</td>\n",
              "      <td>10240000</td>\n",
              "      <td>other_debit_cards</td>\n",
              "      <td>102557</td>\n",
              "      <td>cat_3</td>\n",
              "      <td>IND_INR</td>\n",
              "      <td>other_pcs</td>\n",
              "      <td>1000.0</td>\n",
              "      <td>2017-01-11 16:15:44+00:00</td>\n",
              "      <td>2</td>\n",
              "      <td>0</td>\n",
              "    </tr>\n",
              "    <tr>\n",
              "      <th>4</th>\n",
              "      <td>38276160171101</td>\n",
              "      <td>5880625</td>\n",
              "      <td>other_debit_cards</td>\n",
              "      <td>118335</td>\n",
              "      <td>cat_1</td>\n",
              "      <td>IND_INR</td>\n",
              "      <td>other_pcs</td>\n",
              "      <td>200.0</td>\n",
              "      <td>2016-11-16 17:04:42+00:00</td>\n",
              "      <td>2</td>\n",
              "      <td>0</td>\n",
              "    </tr>\n",
              "    <tr>\n",
              "      <th>...</th>\n",
              "      <td>...</td>\n",
              "      <td>...</td>\n",
              "      <td>...</td>\n",
              "      <td>...</td>\n",
              "      <td>...</td>\n",
              "      <td>...</td>\n",
              "      <td>...</td>\n",
              "      <td>...</td>\n",
              "      <td>...</td>\n",
              "      <td>...</td>\n",
              "      <td>...</td>\n",
              "    </tr>\n",
              "    <tr>\n",
              "      <th>76524</th>\n",
              "      <td>179759462245453</td>\n",
              "      <td>19686969</td>\n",
              "      <td>sbi_atm_cum_debit_card</td>\n",
              "      <td>47334</td>\n",
              "      <td>cat_1</td>\n",
              "      <td>IND_INR</td>\n",
              "      <td>android_devices</td>\n",
              "      <td>-100.0</td>\n",
              "      <td>2016-11-30 13:40:45+00:00</td>\n",
              "      <td>2</td>\n",
              "      <td>0</td>\n",
              "    </tr>\n",
              "    <tr>\n",
              "      <th>76525</th>\n",
              "      <td>2693567760244353</td>\n",
              "      <td>11662225</td>\n",
              "      <td>visa_master_debit_cards</td>\n",
              "      <td>118335</td>\n",
              "      <td>cat_1</td>\n",
              "      <td>IND_INR</td>\n",
              "      <td>other_pcs</td>\n",
              "      <td>200.0</td>\n",
              "      <td>2017-01-08 08:35:31+00:00</td>\n",
              "      <td>2</td>\n",
              "      <td>0</td>\n",
              "    </tr>\n",
              "    <tr>\n",
              "      <th>76526</th>\n",
              "      <td>119750257089000</td>\n",
              "      <td>374544</td>\n",
              "      <td>sbi_atm_cum_debit_card</td>\n",
              "      <td>47334</td>\n",
              "      <td>cat_1</td>\n",
              "      <td>IND_INR</td>\n",
              "      <td>android_devices</td>\n",
              "      <td>-3.5</td>\n",
              "      <td>2016-12-26 21:47:08+00:00</td>\n",
              "      <td>2</td>\n",
              "      <td>0</td>\n",
              "    </tr>\n",
              "    <tr>\n",
              "      <th>76527</th>\n",
              "      <td>1949798765017089</td>\n",
              "      <td>1687401</td>\n",
              "      <td>sbi_atm_cum_debit_card</td>\n",
              "      <td>47334</td>\n",
              "      <td>cat_1</td>\n",
              "      <td>IND_INR</td>\n",
              "      <td>android_devices</td>\n",
              "      <td>-20.0</td>\n",
              "      <td>2016-12-11 13:44:06+00:00</td>\n",
              "      <td>2</td>\n",
              "      <td>0</td>\n",
              "    </tr>\n",
              "    <tr>\n",
              "      <th>76528</th>\n",
              "      <td>1051344513778987</td>\n",
              "      <td>6754801</td>\n",
              "      <td>sbi_atm_cum_debit_card</td>\n",
              "      <td>47334</td>\n",
              "      <td>cat_1</td>\n",
              "      <td>IND_INR</td>\n",
              "      <td>android_devices</td>\n",
              "      <td>-100.0</td>\n",
              "      <td>2017-01-11 19:08:18+00:00</td>\n",
              "      <td>2</td>\n",
              "      <td>0</td>\n",
              "    </tr>\n",
              "  </tbody>\n",
              "</table>\n",
              "<p>76529 rows × 11 columns</p>\n",
              "</div>\n",
              "      <button class=\"colab-df-convert\" onclick=\"convertToInteractive('df-499435d0-a181-4a3c-9edf-c66f265fa156')\"\n",
              "              title=\"Convert this dataframe to an interactive table.\"\n",
              "              style=\"display:none;\">\n",
              "        \n",
              "  <svg xmlns=\"http://www.w3.org/2000/svg\" height=\"24px\"viewBox=\"0 0 24 24\"\n",
              "       width=\"24px\">\n",
              "    <path d=\"M0 0h24v24H0V0z\" fill=\"none\"/>\n",
              "    <path d=\"M18.56 5.44l.94 2.06.94-2.06 2.06-.94-2.06-.94-.94-2.06-.94 2.06-2.06.94zm-11 1L8.5 8.5l.94-2.06 2.06-.94-2.06-.94L8.5 2.5l-.94 2.06-2.06.94zm10 10l.94 2.06.94-2.06 2.06-.94-2.06-.94-.94-2.06-.94 2.06-2.06.94z\"/><path d=\"M17.41 7.96l-1.37-1.37c-.4-.4-.92-.59-1.43-.59-.52 0-1.04.2-1.43.59L10.3 9.45l-7.72 7.72c-.78.78-.78 2.05 0 2.83L4 21.41c.39.39.9.59 1.41.59.51 0 1.02-.2 1.41-.59l7.78-7.78 2.81-2.81c.8-.78.8-2.07 0-2.86zM5.41 20L4 18.59l7.72-7.72 1.47 1.35L5.41 20z\"/>\n",
              "  </svg>\n",
              "      </button>\n",
              "      \n",
              "  <style>\n",
              "    .colab-df-container {\n",
              "      display:flex;\n",
              "      flex-wrap:wrap;\n",
              "      gap: 12px;\n",
              "    }\n",
              "\n",
              "    .colab-df-convert {\n",
              "      background-color: #E8F0FE;\n",
              "      border: none;\n",
              "      border-radius: 50%;\n",
              "      cursor: pointer;\n",
              "      display: none;\n",
              "      fill: #1967D2;\n",
              "      height: 32px;\n",
              "      padding: 0 0 0 0;\n",
              "      width: 32px;\n",
              "    }\n",
              "\n",
              "    .colab-df-convert:hover {\n",
              "      background-color: #E2EBFA;\n",
              "      box-shadow: 0px 1px 2px rgba(60, 64, 67, 0.3), 0px 1px 3px 1px rgba(60, 64, 67, 0.15);\n",
              "      fill: #174EA6;\n",
              "    }\n",
              "\n",
              "    [theme=dark] .colab-df-convert {\n",
              "      background-color: #3B4455;\n",
              "      fill: #D2E3FC;\n",
              "    }\n",
              "\n",
              "    [theme=dark] .colab-df-convert:hover {\n",
              "      background-color: #434B5C;\n",
              "      box-shadow: 0px 1px 3px 1px rgba(0, 0, 0, 0.15);\n",
              "      filter: drop-shadow(0px 1px 2px rgba(0, 0, 0, 0.3));\n",
              "      fill: #FFFFFF;\n",
              "    }\n",
              "  </style>\n",
              "\n",
              "      <script>\n",
              "        const buttonEl =\n",
              "          document.querySelector('#df-499435d0-a181-4a3c-9edf-c66f265fa156 button.colab-df-convert');\n",
              "        buttonEl.style.display =\n",
              "          google.colab.kernel.accessAllowed ? 'block' : 'none';\n",
              "\n",
              "        async function convertToInteractive(key) {\n",
              "          const element = document.querySelector('#df-499435d0-a181-4a3c-9edf-c66f265fa156');\n",
              "          const dataTable =\n",
              "            await google.colab.kernel.invokeFunction('convertToInteractive',\n",
              "                                                     [key], {});\n",
              "          if (!dataTable) return;\n",
              "\n",
              "          const docLinkHtml = 'Like what you see? Visit the ' +\n",
              "            '<a target=\"_blank\" href=https://colab.research.google.com/notebooks/data_table.ipynb>data table notebook</a>'\n",
              "            + ' to learn more about interactive tables.';\n",
              "          element.innerHTML = '';\n",
              "          dataTable['output_type'] = 'display_data';\n",
              "          await google.colab.output.renderOutput(dataTable, element);\n",
              "          const docLink = document.createElement('div');\n",
              "          docLink.innerHTML = docLinkHtml;\n",
              "          element.appendChild(docLink);\n",
              "        }\n",
              "      </script>\n",
              "    </div>\n",
              "  </div>\n",
              "  "
            ]
          },
          "metadata": {},
          "execution_count": 695
        }
      ]
    },
    {
      "cell_type": "markdown",
      "source": [
        "preprocessing"
      ],
      "metadata": {
        "id": "isqv4bgP_ZEP"
      }
    },
    {
      "cell_type": "code",
      "source": [
        "data.head(5)"
      ],
      "metadata": {
        "colab": {
          "base_uri": "https://localhost:8080/",
          "height": 357
        },
        "id": "AgbAU-C14IKd",
        "outputId": "675b063a-fbfa-49c0-b5b5-3bc5e755f029"
      },
      "execution_count": null,
      "outputs": [
        {
          "output_type": "execute_result",
          "data": {
            "text/plain": [
              "   transaction_number   user_id          payment_method  partner_id  \\\n",
              "0        144703125000  17539344  sbi_atm_cum_debit_card       47334   \n",
              "1      77406814453032  24710841       e_wallet_payments       78890   \n",
              "2     308929485482801  24265476       e_wallet_payments       78890   \n",
              "3     665270027747073  10240000       other_debit_cards      102557   \n",
              "4      38276160171101   5880625       other_debit_cards      118335   \n",
              "\n",
              "  partner_category  country      device_type  money_transacted  \\\n",
              "0            cat_1  IND_INR  android_devices              -5.0   \n",
              "1            cat_2  IND_INR        other_pcs             100.0   \n",
              "2            cat_2  IND_INR        other_pcs              50.0   \n",
              "3            cat_3  IND_INR        other_pcs            1000.0   \n",
              "4            cat_1  IND_INR        other_pcs             200.0   \n",
              "\n",
              "      transaction_initiation  partner_pricing_category  is_fraud  \n",
              "0  2016-11-15 19:16:12+00:00                         2         0  \n",
              "1  2017-01-11 09:25:33+00:00                         2         0  \n",
              "2  2016-12-07 07:58:09+00:00                         2         0  \n",
              "3  2017-01-11 16:15:44+00:00                         2         0  \n",
              "4  2016-11-16 17:04:42+00:00                         2         0  "
            ],
            "text/html": [
              "\n",
              "  <div id=\"df-4a73272e-f5db-42c0-adf5-a6e1444b590d\">\n",
              "    <div class=\"colab-df-container\">\n",
              "      <div>\n",
              "<style scoped>\n",
              "    .dataframe tbody tr th:only-of-type {\n",
              "        vertical-align: middle;\n",
              "    }\n",
              "\n",
              "    .dataframe tbody tr th {\n",
              "        vertical-align: top;\n",
              "    }\n",
              "\n",
              "    .dataframe thead th {\n",
              "        text-align: right;\n",
              "    }\n",
              "</style>\n",
              "<table border=\"1\" class=\"dataframe\">\n",
              "  <thead>\n",
              "    <tr style=\"text-align: right;\">\n",
              "      <th></th>\n",
              "      <th>transaction_number</th>\n",
              "      <th>user_id</th>\n",
              "      <th>payment_method</th>\n",
              "      <th>partner_id</th>\n",
              "      <th>partner_category</th>\n",
              "      <th>country</th>\n",
              "      <th>device_type</th>\n",
              "      <th>money_transacted</th>\n",
              "      <th>transaction_initiation</th>\n",
              "      <th>partner_pricing_category</th>\n",
              "      <th>is_fraud</th>\n",
              "    </tr>\n",
              "  </thead>\n",
              "  <tbody>\n",
              "    <tr>\n",
              "      <th>0</th>\n",
              "      <td>144703125000</td>\n",
              "      <td>17539344</td>\n",
              "      <td>sbi_atm_cum_debit_card</td>\n",
              "      <td>47334</td>\n",
              "      <td>cat_1</td>\n",
              "      <td>IND_INR</td>\n",
              "      <td>android_devices</td>\n",
              "      <td>-5.0</td>\n",
              "      <td>2016-11-15 19:16:12+00:00</td>\n",
              "      <td>2</td>\n",
              "      <td>0</td>\n",
              "    </tr>\n",
              "    <tr>\n",
              "      <th>1</th>\n",
              "      <td>77406814453032</td>\n",
              "      <td>24710841</td>\n",
              "      <td>e_wallet_payments</td>\n",
              "      <td>78890</td>\n",
              "      <td>cat_2</td>\n",
              "      <td>IND_INR</td>\n",
              "      <td>other_pcs</td>\n",
              "      <td>100.0</td>\n",
              "      <td>2017-01-11 09:25:33+00:00</td>\n",
              "      <td>2</td>\n",
              "      <td>0</td>\n",
              "    </tr>\n",
              "    <tr>\n",
              "      <th>2</th>\n",
              "      <td>308929485482801</td>\n",
              "      <td>24265476</td>\n",
              "      <td>e_wallet_payments</td>\n",
              "      <td>78890</td>\n",
              "      <td>cat_2</td>\n",
              "      <td>IND_INR</td>\n",
              "      <td>other_pcs</td>\n",
              "      <td>50.0</td>\n",
              "      <td>2016-12-07 07:58:09+00:00</td>\n",
              "      <td>2</td>\n",
              "      <td>0</td>\n",
              "    </tr>\n",
              "    <tr>\n",
              "      <th>3</th>\n",
              "      <td>665270027747073</td>\n",
              "      <td>10240000</td>\n",
              "      <td>other_debit_cards</td>\n",
              "      <td>102557</td>\n",
              "      <td>cat_3</td>\n",
              "      <td>IND_INR</td>\n",
              "      <td>other_pcs</td>\n",
              "      <td>1000.0</td>\n",
              "      <td>2017-01-11 16:15:44+00:00</td>\n",
              "      <td>2</td>\n",
              "      <td>0</td>\n",
              "    </tr>\n",
              "    <tr>\n",
              "      <th>4</th>\n",
              "      <td>38276160171101</td>\n",
              "      <td>5880625</td>\n",
              "      <td>other_debit_cards</td>\n",
              "      <td>118335</td>\n",
              "      <td>cat_1</td>\n",
              "      <td>IND_INR</td>\n",
              "      <td>other_pcs</td>\n",
              "      <td>200.0</td>\n",
              "      <td>2016-11-16 17:04:42+00:00</td>\n",
              "      <td>2</td>\n",
              "      <td>0</td>\n",
              "    </tr>\n",
              "  </tbody>\n",
              "</table>\n",
              "</div>\n",
              "      <button class=\"colab-df-convert\" onclick=\"convertToInteractive('df-4a73272e-f5db-42c0-adf5-a6e1444b590d')\"\n",
              "              title=\"Convert this dataframe to an interactive table.\"\n",
              "              style=\"display:none;\">\n",
              "        \n",
              "  <svg xmlns=\"http://www.w3.org/2000/svg\" height=\"24px\"viewBox=\"0 0 24 24\"\n",
              "       width=\"24px\">\n",
              "    <path d=\"M0 0h24v24H0V0z\" fill=\"none\"/>\n",
              "    <path d=\"M18.56 5.44l.94 2.06.94-2.06 2.06-.94-2.06-.94-.94-2.06-.94 2.06-2.06.94zm-11 1L8.5 8.5l.94-2.06 2.06-.94-2.06-.94L8.5 2.5l-.94 2.06-2.06.94zm10 10l.94 2.06.94-2.06 2.06-.94-2.06-.94-.94-2.06-.94 2.06-2.06.94z\"/><path d=\"M17.41 7.96l-1.37-1.37c-.4-.4-.92-.59-1.43-.59-.52 0-1.04.2-1.43.59L10.3 9.45l-7.72 7.72c-.78.78-.78 2.05 0 2.83L4 21.41c.39.39.9.59 1.41.59.51 0 1.02-.2 1.41-.59l7.78-7.78 2.81-2.81c.8-.78.8-2.07 0-2.86zM5.41 20L4 18.59l7.72-7.72 1.47 1.35L5.41 20z\"/>\n",
              "  </svg>\n",
              "      </button>\n",
              "      \n",
              "  <style>\n",
              "    .colab-df-container {\n",
              "      display:flex;\n",
              "      flex-wrap:wrap;\n",
              "      gap: 12px;\n",
              "    }\n",
              "\n",
              "    .colab-df-convert {\n",
              "      background-color: #E8F0FE;\n",
              "      border: none;\n",
              "      border-radius: 50%;\n",
              "      cursor: pointer;\n",
              "      display: none;\n",
              "      fill: #1967D2;\n",
              "      height: 32px;\n",
              "      padding: 0 0 0 0;\n",
              "      width: 32px;\n",
              "    }\n",
              "\n",
              "    .colab-df-convert:hover {\n",
              "      background-color: #E2EBFA;\n",
              "      box-shadow: 0px 1px 2px rgba(60, 64, 67, 0.3), 0px 1px 3px 1px rgba(60, 64, 67, 0.15);\n",
              "      fill: #174EA6;\n",
              "    }\n",
              "\n",
              "    [theme=dark] .colab-df-convert {\n",
              "      background-color: #3B4455;\n",
              "      fill: #D2E3FC;\n",
              "    }\n",
              "\n",
              "    [theme=dark] .colab-df-convert:hover {\n",
              "      background-color: #434B5C;\n",
              "      box-shadow: 0px 1px 3px 1px rgba(0, 0, 0, 0.15);\n",
              "      filter: drop-shadow(0px 1px 2px rgba(0, 0, 0, 0.3));\n",
              "      fill: #FFFFFF;\n",
              "    }\n",
              "  </style>\n",
              "\n",
              "      <script>\n",
              "        const buttonEl =\n",
              "          document.querySelector('#df-4a73272e-f5db-42c0-adf5-a6e1444b590d button.colab-df-convert');\n",
              "        buttonEl.style.display =\n",
              "          google.colab.kernel.accessAllowed ? 'block' : 'none';\n",
              "\n",
              "        async function convertToInteractive(key) {\n",
              "          const element = document.querySelector('#df-4a73272e-f5db-42c0-adf5-a6e1444b590d');\n",
              "          const dataTable =\n",
              "            await google.colab.kernel.invokeFunction('convertToInteractive',\n",
              "                                                     [key], {});\n",
              "          if (!dataTable) return;\n",
              "\n",
              "          const docLinkHtml = 'Like what you see? Visit the ' +\n",
              "            '<a target=\"_blank\" href=https://colab.research.google.com/notebooks/data_table.ipynb>data table notebook</a>'\n",
              "            + ' to learn more about interactive tables.';\n",
              "          element.innerHTML = '';\n",
              "          dataTable['output_type'] = 'display_data';\n",
              "          await google.colab.output.renderOutput(dataTable, element);\n",
              "          const docLink = document.createElement('div');\n",
              "          docLink.innerHTML = docLinkHtml;\n",
              "          element.appendChild(docLink);\n",
              "        }\n",
              "      </script>\n",
              "    </div>\n",
              "  </div>\n",
              "  "
            ]
          },
          "metadata": {},
          "execution_count": 696
        }
      ]
    },
    {
      "cell_type": "code",
      "source": [
        "data.tail(5)"
      ],
      "metadata": {
        "colab": {
          "base_uri": "https://localhost:8080/",
          "height": 357
        },
        "id": "w13q0M1N4vLl",
        "outputId": "5aa3fc27-f3bc-4cb8-e2d4-f69c31f9f89b"
      },
      "execution_count": null,
      "outputs": [
        {
          "output_type": "execute_result",
          "data": {
            "text/plain": [
              "       transaction_number   user_id           payment_method  partner_id  \\\n",
              "76524     179759462245453  19686969   sbi_atm_cum_debit_card       47334   \n",
              "76525    2693567760244353  11662225  visa_master_debit_cards      118335   \n",
              "76526     119750257089000    374544   sbi_atm_cum_debit_card       47334   \n",
              "76527    1949798765017089   1687401   sbi_atm_cum_debit_card       47334   \n",
              "76528    1051344513778987   6754801   sbi_atm_cum_debit_card       47334   \n",
              "\n",
              "      partner_category  country      device_type  money_transacted  \\\n",
              "76524            cat_1  IND_INR  android_devices            -100.0   \n",
              "76525            cat_1  IND_INR        other_pcs             200.0   \n",
              "76526            cat_1  IND_INR  android_devices              -3.5   \n",
              "76527            cat_1  IND_INR  android_devices             -20.0   \n",
              "76528            cat_1  IND_INR  android_devices            -100.0   \n",
              "\n",
              "          transaction_initiation  partner_pricing_category  is_fraud  \n",
              "76524  2016-11-30 13:40:45+00:00                         2         0  \n",
              "76525  2017-01-08 08:35:31+00:00                         2         0  \n",
              "76526  2016-12-26 21:47:08+00:00                         2         0  \n",
              "76527  2016-12-11 13:44:06+00:00                         2         0  \n",
              "76528  2017-01-11 19:08:18+00:00                         2         0  "
            ],
            "text/html": [
              "\n",
              "  <div id=\"df-9b72b163-c1b3-48a2-b50c-1a486c691159\">\n",
              "    <div class=\"colab-df-container\">\n",
              "      <div>\n",
              "<style scoped>\n",
              "    .dataframe tbody tr th:only-of-type {\n",
              "        vertical-align: middle;\n",
              "    }\n",
              "\n",
              "    .dataframe tbody tr th {\n",
              "        vertical-align: top;\n",
              "    }\n",
              "\n",
              "    .dataframe thead th {\n",
              "        text-align: right;\n",
              "    }\n",
              "</style>\n",
              "<table border=\"1\" class=\"dataframe\">\n",
              "  <thead>\n",
              "    <tr style=\"text-align: right;\">\n",
              "      <th></th>\n",
              "      <th>transaction_number</th>\n",
              "      <th>user_id</th>\n",
              "      <th>payment_method</th>\n",
              "      <th>partner_id</th>\n",
              "      <th>partner_category</th>\n",
              "      <th>country</th>\n",
              "      <th>device_type</th>\n",
              "      <th>money_transacted</th>\n",
              "      <th>transaction_initiation</th>\n",
              "      <th>partner_pricing_category</th>\n",
              "      <th>is_fraud</th>\n",
              "    </tr>\n",
              "  </thead>\n",
              "  <tbody>\n",
              "    <tr>\n",
              "      <th>76524</th>\n",
              "      <td>179759462245453</td>\n",
              "      <td>19686969</td>\n",
              "      <td>sbi_atm_cum_debit_card</td>\n",
              "      <td>47334</td>\n",
              "      <td>cat_1</td>\n",
              "      <td>IND_INR</td>\n",
              "      <td>android_devices</td>\n",
              "      <td>-100.0</td>\n",
              "      <td>2016-11-30 13:40:45+00:00</td>\n",
              "      <td>2</td>\n",
              "      <td>0</td>\n",
              "    </tr>\n",
              "    <tr>\n",
              "      <th>76525</th>\n",
              "      <td>2693567760244353</td>\n",
              "      <td>11662225</td>\n",
              "      <td>visa_master_debit_cards</td>\n",
              "      <td>118335</td>\n",
              "      <td>cat_1</td>\n",
              "      <td>IND_INR</td>\n",
              "      <td>other_pcs</td>\n",
              "      <td>200.0</td>\n",
              "      <td>2017-01-08 08:35:31+00:00</td>\n",
              "      <td>2</td>\n",
              "      <td>0</td>\n",
              "    </tr>\n",
              "    <tr>\n",
              "      <th>76526</th>\n",
              "      <td>119750257089000</td>\n",
              "      <td>374544</td>\n",
              "      <td>sbi_atm_cum_debit_card</td>\n",
              "      <td>47334</td>\n",
              "      <td>cat_1</td>\n",
              "      <td>IND_INR</td>\n",
              "      <td>android_devices</td>\n",
              "      <td>-3.5</td>\n",
              "      <td>2016-12-26 21:47:08+00:00</td>\n",
              "      <td>2</td>\n",
              "      <td>0</td>\n",
              "    </tr>\n",
              "    <tr>\n",
              "      <th>76527</th>\n",
              "      <td>1949798765017089</td>\n",
              "      <td>1687401</td>\n",
              "      <td>sbi_atm_cum_debit_card</td>\n",
              "      <td>47334</td>\n",
              "      <td>cat_1</td>\n",
              "      <td>IND_INR</td>\n",
              "      <td>android_devices</td>\n",
              "      <td>-20.0</td>\n",
              "      <td>2016-12-11 13:44:06+00:00</td>\n",
              "      <td>2</td>\n",
              "      <td>0</td>\n",
              "    </tr>\n",
              "    <tr>\n",
              "      <th>76528</th>\n",
              "      <td>1051344513778987</td>\n",
              "      <td>6754801</td>\n",
              "      <td>sbi_atm_cum_debit_card</td>\n",
              "      <td>47334</td>\n",
              "      <td>cat_1</td>\n",
              "      <td>IND_INR</td>\n",
              "      <td>android_devices</td>\n",
              "      <td>-100.0</td>\n",
              "      <td>2017-01-11 19:08:18+00:00</td>\n",
              "      <td>2</td>\n",
              "      <td>0</td>\n",
              "    </tr>\n",
              "  </tbody>\n",
              "</table>\n",
              "</div>\n",
              "      <button class=\"colab-df-convert\" onclick=\"convertToInteractive('df-9b72b163-c1b3-48a2-b50c-1a486c691159')\"\n",
              "              title=\"Convert this dataframe to an interactive table.\"\n",
              "              style=\"display:none;\">\n",
              "        \n",
              "  <svg xmlns=\"http://www.w3.org/2000/svg\" height=\"24px\"viewBox=\"0 0 24 24\"\n",
              "       width=\"24px\">\n",
              "    <path d=\"M0 0h24v24H0V0z\" fill=\"none\"/>\n",
              "    <path d=\"M18.56 5.44l.94 2.06.94-2.06 2.06-.94-2.06-.94-.94-2.06-.94 2.06-2.06.94zm-11 1L8.5 8.5l.94-2.06 2.06-.94-2.06-.94L8.5 2.5l-.94 2.06-2.06.94zm10 10l.94 2.06.94-2.06 2.06-.94-2.06-.94-.94-2.06-.94 2.06-2.06.94z\"/><path d=\"M17.41 7.96l-1.37-1.37c-.4-.4-.92-.59-1.43-.59-.52 0-1.04.2-1.43.59L10.3 9.45l-7.72 7.72c-.78.78-.78 2.05 0 2.83L4 21.41c.39.39.9.59 1.41.59.51 0 1.02-.2 1.41-.59l7.78-7.78 2.81-2.81c.8-.78.8-2.07 0-2.86zM5.41 20L4 18.59l7.72-7.72 1.47 1.35L5.41 20z\"/>\n",
              "  </svg>\n",
              "      </button>\n",
              "      \n",
              "  <style>\n",
              "    .colab-df-container {\n",
              "      display:flex;\n",
              "      flex-wrap:wrap;\n",
              "      gap: 12px;\n",
              "    }\n",
              "\n",
              "    .colab-df-convert {\n",
              "      background-color: #E8F0FE;\n",
              "      border: none;\n",
              "      border-radius: 50%;\n",
              "      cursor: pointer;\n",
              "      display: none;\n",
              "      fill: #1967D2;\n",
              "      height: 32px;\n",
              "      padding: 0 0 0 0;\n",
              "      width: 32px;\n",
              "    }\n",
              "\n",
              "    .colab-df-convert:hover {\n",
              "      background-color: #E2EBFA;\n",
              "      box-shadow: 0px 1px 2px rgba(60, 64, 67, 0.3), 0px 1px 3px 1px rgba(60, 64, 67, 0.15);\n",
              "      fill: #174EA6;\n",
              "    }\n",
              "\n",
              "    [theme=dark] .colab-df-convert {\n",
              "      background-color: #3B4455;\n",
              "      fill: #D2E3FC;\n",
              "    }\n",
              "\n",
              "    [theme=dark] .colab-df-convert:hover {\n",
              "      background-color: #434B5C;\n",
              "      box-shadow: 0px 1px 3px 1px rgba(0, 0, 0, 0.15);\n",
              "      filter: drop-shadow(0px 1px 2px rgba(0, 0, 0, 0.3));\n",
              "      fill: #FFFFFF;\n",
              "    }\n",
              "  </style>\n",
              "\n",
              "      <script>\n",
              "        const buttonEl =\n",
              "          document.querySelector('#df-9b72b163-c1b3-48a2-b50c-1a486c691159 button.colab-df-convert');\n",
              "        buttonEl.style.display =\n",
              "          google.colab.kernel.accessAllowed ? 'block' : 'none';\n",
              "\n",
              "        async function convertToInteractive(key) {\n",
              "          const element = document.querySelector('#df-9b72b163-c1b3-48a2-b50c-1a486c691159');\n",
              "          const dataTable =\n",
              "            await google.colab.kernel.invokeFunction('convertToInteractive',\n",
              "                                                     [key], {});\n",
              "          if (!dataTable) return;\n",
              "\n",
              "          const docLinkHtml = 'Like what you see? Visit the ' +\n",
              "            '<a target=\"_blank\" href=https://colab.research.google.com/notebooks/data_table.ipynb>data table notebook</a>'\n",
              "            + ' to learn more about interactive tables.';\n",
              "          element.innerHTML = '';\n",
              "          dataTable['output_type'] = 'display_data';\n",
              "          await google.colab.output.renderOutput(dataTable, element);\n",
              "          const docLink = document.createElement('div');\n",
              "          docLink.innerHTML = docLinkHtml;\n",
              "          element.appendChild(docLink);\n",
              "        }\n",
              "      </script>\n",
              "    </div>\n",
              "  </div>\n",
              "  "
            ]
          },
          "metadata": {},
          "execution_count": 697
        }
      ]
    },
    {
      "cell_type": "code",
      "source": [
        "data.shape"
      ],
      "metadata": {
        "colab": {
          "base_uri": "https://localhost:8080/"
        },
        "id": "e_UZbrAo4vOb",
        "outputId": "9862df4d-6be7-438f-9df8-73efc40734e5"
      },
      "execution_count": null,
      "outputs": [
        {
          "output_type": "execute_result",
          "data": {
            "text/plain": [
              "(76529, 11)"
            ]
          },
          "metadata": {},
          "execution_count": 698
        }
      ]
    },
    {
      "cell_type": "code",
      "source": [
        "data.columns"
      ],
      "metadata": {
        "colab": {
          "base_uri": "https://localhost:8080/"
        },
        "id": "w49nfUn66LGD",
        "outputId": "e5d70a5d-a71f-4ccb-b1b5-b4987bf28dd2"
      },
      "execution_count": null,
      "outputs": [
        {
          "output_type": "execute_result",
          "data": {
            "text/plain": [
              "Index(['transaction_number', 'user_id', 'payment_method', 'partner_id',\n",
              "       'partner_category', 'country', 'device_type', 'money_transacted',\n",
              "       'transaction_initiation', 'partner_pricing_category', 'is_fraud'],\n",
              "      dtype='object')"
            ]
          },
          "metadata": {},
          "execution_count": 699
        }
      ]
    },
    {
      "cell_type": "code",
      "source": [
        "data.describe(include='all')"
      ],
      "metadata": {
        "colab": {
          "base_uri": "https://localhost:8080/",
          "height": 476
        },
        "id": "oWmf3xn86LJI",
        "outputId": "81a9269c-835b-4963-8b91-ed5a7c18ea67"
      },
      "execution_count": null,
      "outputs": [
        {
          "output_type": "execute_result",
          "data": {
            "text/plain": [
              "        transaction_number       user_id          payment_method  \\\n",
              "count         7.652900e+04  7.652900e+04                   76529   \n",
              "unique                 NaN           NaN                       6   \n",
              "top                    NaN           NaN  sbi_atm_cum_debit_card   \n",
              "freq                   NaN           NaN                   30538   \n",
              "mean          6.940200e+14  1.247483e+07                     NaN   \n",
              "std           7.867885e+14  1.205878e+07                     NaN   \n",
              "min           8.000000e+00  1.000000e+00                     NaN   \n",
              "25%           4.387866e+13  3.515625e+06                     NaN   \n",
              "50%           3.452540e+14  9.753129e+06                     NaN   \n",
              "75%           1.173440e+15  1.788444e+07                     NaN   \n",
              "max           2.784238e+15  5.592048e+07                     NaN   \n",
              "\n",
              "           partner_id partner_category  country device_type  money_transacted  \\\n",
              "count    76529.000000            76529    76529       76529      76529.000000   \n",
              "unique            NaN                9        1           4               NaN   \n",
              "top               NaN            cat_1  IND_INR   other_pcs               NaN   \n",
              "freq              NaN            36306    76529       45560               NaN   \n",
              "mean     58497.189105              NaN      NaN         NaN        132.724348   \n",
              "std      36740.216787              NaN      NaN         NaN       2350.110900   \n",
              "min       7889.000000              NaN      NaN         NaN     -20000.000000   \n",
              "25%      23667.000000              NaN      NaN         NaN         -1.000000   \n",
              "50%      47334.000000              NaN      NaN         NaN         20.000000   \n",
              "75%      78890.000000              NaN      NaN         NaN         52.000000   \n",
              "max     213003.000000              NaN      NaN         NaN     197217.760000   \n",
              "\n",
              "           transaction_initiation  partner_pricing_category      is_fraud  \n",
              "count                       76529              76529.000000  76529.000000  \n",
              "unique                      75811                       NaN           NaN  \n",
              "top     2016-12-24 16:30:13+00:00                       NaN           NaN  \n",
              "freq                           12                       NaN           NaN  \n",
              "mean                          NaN                  2.255707      0.002012  \n",
              "std                           NaN                  0.732174      0.044814  \n",
              "min                           NaN                  0.000000      0.000000  \n",
              "25%                           NaN                  2.000000      0.000000  \n",
              "50%                           NaN                  2.000000      0.000000  \n",
              "75%                           NaN                  2.000000      0.000000  \n",
              "max                           NaN                  4.000000      1.000000  "
            ],
            "text/html": [
              "\n",
              "  <div id=\"df-1553f783-702d-40e6-ac6e-3e73a93e08b5\">\n",
              "    <div class=\"colab-df-container\">\n",
              "      <div>\n",
              "<style scoped>\n",
              "    .dataframe tbody tr th:only-of-type {\n",
              "        vertical-align: middle;\n",
              "    }\n",
              "\n",
              "    .dataframe tbody tr th {\n",
              "        vertical-align: top;\n",
              "    }\n",
              "\n",
              "    .dataframe thead th {\n",
              "        text-align: right;\n",
              "    }\n",
              "</style>\n",
              "<table border=\"1\" class=\"dataframe\">\n",
              "  <thead>\n",
              "    <tr style=\"text-align: right;\">\n",
              "      <th></th>\n",
              "      <th>transaction_number</th>\n",
              "      <th>user_id</th>\n",
              "      <th>payment_method</th>\n",
              "      <th>partner_id</th>\n",
              "      <th>partner_category</th>\n",
              "      <th>country</th>\n",
              "      <th>device_type</th>\n",
              "      <th>money_transacted</th>\n",
              "      <th>transaction_initiation</th>\n",
              "      <th>partner_pricing_category</th>\n",
              "      <th>is_fraud</th>\n",
              "    </tr>\n",
              "  </thead>\n",
              "  <tbody>\n",
              "    <tr>\n",
              "      <th>count</th>\n",
              "      <td>7.652900e+04</td>\n",
              "      <td>7.652900e+04</td>\n",
              "      <td>76529</td>\n",
              "      <td>76529.000000</td>\n",
              "      <td>76529</td>\n",
              "      <td>76529</td>\n",
              "      <td>76529</td>\n",
              "      <td>76529.000000</td>\n",
              "      <td>76529</td>\n",
              "      <td>76529.000000</td>\n",
              "      <td>76529.000000</td>\n",
              "    </tr>\n",
              "    <tr>\n",
              "      <th>unique</th>\n",
              "      <td>NaN</td>\n",
              "      <td>NaN</td>\n",
              "      <td>6</td>\n",
              "      <td>NaN</td>\n",
              "      <td>9</td>\n",
              "      <td>1</td>\n",
              "      <td>4</td>\n",
              "      <td>NaN</td>\n",
              "      <td>75811</td>\n",
              "      <td>NaN</td>\n",
              "      <td>NaN</td>\n",
              "    </tr>\n",
              "    <tr>\n",
              "      <th>top</th>\n",
              "      <td>NaN</td>\n",
              "      <td>NaN</td>\n",
              "      <td>sbi_atm_cum_debit_card</td>\n",
              "      <td>NaN</td>\n",
              "      <td>cat_1</td>\n",
              "      <td>IND_INR</td>\n",
              "      <td>other_pcs</td>\n",
              "      <td>NaN</td>\n",
              "      <td>2016-12-24 16:30:13+00:00</td>\n",
              "      <td>NaN</td>\n",
              "      <td>NaN</td>\n",
              "    </tr>\n",
              "    <tr>\n",
              "      <th>freq</th>\n",
              "      <td>NaN</td>\n",
              "      <td>NaN</td>\n",
              "      <td>30538</td>\n",
              "      <td>NaN</td>\n",
              "      <td>36306</td>\n",
              "      <td>76529</td>\n",
              "      <td>45560</td>\n",
              "      <td>NaN</td>\n",
              "      <td>12</td>\n",
              "      <td>NaN</td>\n",
              "      <td>NaN</td>\n",
              "    </tr>\n",
              "    <tr>\n",
              "      <th>mean</th>\n",
              "      <td>6.940200e+14</td>\n",
              "      <td>1.247483e+07</td>\n",
              "      <td>NaN</td>\n",
              "      <td>58497.189105</td>\n",
              "      <td>NaN</td>\n",
              "      <td>NaN</td>\n",
              "      <td>NaN</td>\n",
              "      <td>132.724348</td>\n",
              "      <td>NaN</td>\n",
              "      <td>2.255707</td>\n",
              "      <td>0.002012</td>\n",
              "    </tr>\n",
              "    <tr>\n",
              "      <th>std</th>\n",
              "      <td>7.867885e+14</td>\n",
              "      <td>1.205878e+07</td>\n",
              "      <td>NaN</td>\n",
              "      <td>36740.216787</td>\n",
              "      <td>NaN</td>\n",
              "      <td>NaN</td>\n",
              "      <td>NaN</td>\n",
              "      <td>2350.110900</td>\n",
              "      <td>NaN</td>\n",
              "      <td>0.732174</td>\n",
              "      <td>0.044814</td>\n",
              "    </tr>\n",
              "    <tr>\n",
              "      <th>min</th>\n",
              "      <td>8.000000e+00</td>\n",
              "      <td>1.000000e+00</td>\n",
              "      <td>NaN</td>\n",
              "      <td>7889.000000</td>\n",
              "      <td>NaN</td>\n",
              "      <td>NaN</td>\n",
              "      <td>NaN</td>\n",
              "      <td>-20000.000000</td>\n",
              "      <td>NaN</td>\n",
              "      <td>0.000000</td>\n",
              "      <td>0.000000</td>\n",
              "    </tr>\n",
              "    <tr>\n",
              "      <th>25%</th>\n",
              "      <td>4.387866e+13</td>\n",
              "      <td>3.515625e+06</td>\n",
              "      <td>NaN</td>\n",
              "      <td>23667.000000</td>\n",
              "      <td>NaN</td>\n",
              "      <td>NaN</td>\n",
              "      <td>NaN</td>\n",
              "      <td>-1.000000</td>\n",
              "      <td>NaN</td>\n",
              "      <td>2.000000</td>\n",
              "      <td>0.000000</td>\n",
              "    </tr>\n",
              "    <tr>\n",
              "      <th>50%</th>\n",
              "      <td>3.452540e+14</td>\n",
              "      <td>9.753129e+06</td>\n",
              "      <td>NaN</td>\n",
              "      <td>47334.000000</td>\n",
              "      <td>NaN</td>\n",
              "      <td>NaN</td>\n",
              "      <td>NaN</td>\n",
              "      <td>20.000000</td>\n",
              "      <td>NaN</td>\n",
              "      <td>2.000000</td>\n",
              "      <td>0.000000</td>\n",
              "    </tr>\n",
              "    <tr>\n",
              "      <th>75%</th>\n",
              "      <td>1.173440e+15</td>\n",
              "      <td>1.788444e+07</td>\n",
              "      <td>NaN</td>\n",
              "      <td>78890.000000</td>\n",
              "      <td>NaN</td>\n",
              "      <td>NaN</td>\n",
              "      <td>NaN</td>\n",
              "      <td>52.000000</td>\n",
              "      <td>NaN</td>\n",
              "      <td>2.000000</td>\n",
              "      <td>0.000000</td>\n",
              "    </tr>\n",
              "    <tr>\n",
              "      <th>max</th>\n",
              "      <td>2.784238e+15</td>\n",
              "      <td>5.592048e+07</td>\n",
              "      <td>NaN</td>\n",
              "      <td>213003.000000</td>\n",
              "      <td>NaN</td>\n",
              "      <td>NaN</td>\n",
              "      <td>NaN</td>\n",
              "      <td>197217.760000</td>\n",
              "      <td>NaN</td>\n",
              "      <td>4.000000</td>\n",
              "      <td>1.000000</td>\n",
              "    </tr>\n",
              "  </tbody>\n",
              "</table>\n",
              "</div>\n",
              "      <button class=\"colab-df-convert\" onclick=\"convertToInteractive('df-1553f783-702d-40e6-ac6e-3e73a93e08b5')\"\n",
              "              title=\"Convert this dataframe to an interactive table.\"\n",
              "              style=\"display:none;\">\n",
              "        \n",
              "  <svg xmlns=\"http://www.w3.org/2000/svg\" height=\"24px\"viewBox=\"0 0 24 24\"\n",
              "       width=\"24px\">\n",
              "    <path d=\"M0 0h24v24H0V0z\" fill=\"none\"/>\n",
              "    <path d=\"M18.56 5.44l.94 2.06.94-2.06 2.06-.94-2.06-.94-.94-2.06-.94 2.06-2.06.94zm-11 1L8.5 8.5l.94-2.06 2.06-.94-2.06-.94L8.5 2.5l-.94 2.06-2.06.94zm10 10l.94 2.06.94-2.06 2.06-.94-2.06-.94-.94-2.06-.94 2.06-2.06.94z\"/><path d=\"M17.41 7.96l-1.37-1.37c-.4-.4-.92-.59-1.43-.59-.52 0-1.04.2-1.43.59L10.3 9.45l-7.72 7.72c-.78.78-.78 2.05 0 2.83L4 21.41c.39.39.9.59 1.41.59.51 0 1.02-.2 1.41-.59l7.78-7.78 2.81-2.81c.8-.78.8-2.07 0-2.86zM5.41 20L4 18.59l7.72-7.72 1.47 1.35L5.41 20z\"/>\n",
              "  </svg>\n",
              "      </button>\n",
              "      \n",
              "  <style>\n",
              "    .colab-df-container {\n",
              "      display:flex;\n",
              "      flex-wrap:wrap;\n",
              "      gap: 12px;\n",
              "    }\n",
              "\n",
              "    .colab-df-convert {\n",
              "      background-color: #E8F0FE;\n",
              "      border: none;\n",
              "      border-radius: 50%;\n",
              "      cursor: pointer;\n",
              "      display: none;\n",
              "      fill: #1967D2;\n",
              "      height: 32px;\n",
              "      padding: 0 0 0 0;\n",
              "      width: 32px;\n",
              "    }\n",
              "\n",
              "    .colab-df-convert:hover {\n",
              "      background-color: #E2EBFA;\n",
              "      box-shadow: 0px 1px 2px rgba(60, 64, 67, 0.3), 0px 1px 3px 1px rgba(60, 64, 67, 0.15);\n",
              "      fill: #174EA6;\n",
              "    }\n",
              "\n",
              "    [theme=dark] .colab-df-convert {\n",
              "      background-color: #3B4455;\n",
              "      fill: #D2E3FC;\n",
              "    }\n",
              "\n",
              "    [theme=dark] .colab-df-convert:hover {\n",
              "      background-color: #434B5C;\n",
              "      box-shadow: 0px 1px 3px 1px rgba(0, 0, 0, 0.15);\n",
              "      filter: drop-shadow(0px 1px 2px rgba(0, 0, 0, 0.3));\n",
              "      fill: #FFFFFF;\n",
              "    }\n",
              "  </style>\n",
              "\n",
              "      <script>\n",
              "        const buttonEl =\n",
              "          document.querySelector('#df-1553f783-702d-40e6-ac6e-3e73a93e08b5 button.colab-df-convert');\n",
              "        buttonEl.style.display =\n",
              "          google.colab.kernel.accessAllowed ? 'block' : 'none';\n",
              "\n",
              "        async function convertToInteractive(key) {\n",
              "          const element = document.querySelector('#df-1553f783-702d-40e6-ac6e-3e73a93e08b5');\n",
              "          const dataTable =\n",
              "            await google.colab.kernel.invokeFunction('convertToInteractive',\n",
              "                                                     [key], {});\n",
              "          if (!dataTable) return;\n",
              "\n",
              "          const docLinkHtml = 'Like what you see? Visit the ' +\n",
              "            '<a target=\"_blank\" href=https://colab.research.google.com/notebooks/data_table.ipynb>data table notebook</a>'\n",
              "            + ' to learn more about interactive tables.';\n",
              "          element.innerHTML = '';\n",
              "          dataTable['output_type'] = 'display_data';\n",
              "          await google.colab.output.renderOutput(dataTable, element);\n",
              "          const docLink = document.createElement('div');\n",
              "          docLink.innerHTML = docLinkHtml;\n",
              "          element.appendChild(docLink);\n",
              "        }\n",
              "      </script>\n",
              "    </div>\n",
              "  </div>\n",
              "  "
            ]
          },
          "metadata": {},
          "execution_count": 700
        }
      ]
    },
    {
      "cell_type": "code",
      "source": [
        "data.dtypes"
      ],
      "metadata": {
        "colab": {
          "base_uri": "https://localhost:8080/"
        },
        "id": "j-TOBx3u7EYM",
        "outputId": "038b1936-6bff-4fff-af4d-50f073991b4b"
      },
      "execution_count": null,
      "outputs": [
        {
          "output_type": "execute_result",
          "data": {
            "text/plain": [
              "transaction_number            int64\n",
              "user_id                       int64\n",
              "payment_method               object\n",
              "partner_id                    int64\n",
              "partner_category             object\n",
              "country                      object\n",
              "device_type                  object\n",
              "money_transacted            float64\n",
              "transaction_initiation       object\n",
              "partner_pricing_category      int64\n",
              "is_fraud                      int64\n",
              "dtype: object"
            ]
          },
          "metadata": {},
          "execution_count": 701
        }
      ]
    },
    {
      "cell_type": "code",
      "source": [
        "data.corr()\n"
      ],
      "metadata": {
        "colab": {
          "base_uri": "https://localhost:8080/",
          "height": 282
        },
        "id": "Sda9obt57Ep7",
        "outputId": "bb848caa-6713-4acc-c6de-06562302087e"
      },
      "execution_count": null,
      "outputs": [
        {
          "output_type": "execute_result",
          "data": {
            "text/plain": [
              "                          transaction_number   user_id  partner_id  \\\n",
              "transaction_number                  1.000000 -0.006608    0.001564   \n",
              "user_id                            -0.006608  1.000000   -0.037846   \n",
              "partner_id                          0.001564 -0.037846    1.000000   \n",
              "money_transacted                    0.001049 -0.045650    0.092432   \n",
              "partner_pricing_category           -0.006492  0.424626   -0.185584   \n",
              "is_fraud                            0.002447 -0.000064    0.062991   \n",
              "\n",
              "                          money_transacted  partner_pricing_category  is_fraud  \n",
              "transaction_number                0.001049                 -0.006492  0.002447  \n",
              "user_id                          -0.045650                  0.424626 -0.000064  \n",
              "partner_id                        0.092432                 -0.185584  0.062991  \n",
              "money_transacted                  1.000000                 -0.066396  0.570388  \n",
              "partner_pricing_category         -0.066396                  1.000000 -0.034002  \n",
              "is_fraud                          0.570388                 -0.034002  1.000000  "
            ],
            "text/html": [
              "\n",
              "  <div id=\"df-1f85b782-cdd2-495b-8399-dd67b93a617b\">\n",
              "    <div class=\"colab-df-container\">\n",
              "      <div>\n",
              "<style scoped>\n",
              "    .dataframe tbody tr th:only-of-type {\n",
              "        vertical-align: middle;\n",
              "    }\n",
              "\n",
              "    .dataframe tbody tr th {\n",
              "        vertical-align: top;\n",
              "    }\n",
              "\n",
              "    .dataframe thead th {\n",
              "        text-align: right;\n",
              "    }\n",
              "</style>\n",
              "<table border=\"1\" class=\"dataframe\">\n",
              "  <thead>\n",
              "    <tr style=\"text-align: right;\">\n",
              "      <th></th>\n",
              "      <th>transaction_number</th>\n",
              "      <th>user_id</th>\n",
              "      <th>partner_id</th>\n",
              "      <th>money_transacted</th>\n",
              "      <th>partner_pricing_category</th>\n",
              "      <th>is_fraud</th>\n",
              "    </tr>\n",
              "  </thead>\n",
              "  <tbody>\n",
              "    <tr>\n",
              "      <th>transaction_number</th>\n",
              "      <td>1.000000</td>\n",
              "      <td>-0.006608</td>\n",
              "      <td>0.001564</td>\n",
              "      <td>0.001049</td>\n",
              "      <td>-0.006492</td>\n",
              "      <td>0.002447</td>\n",
              "    </tr>\n",
              "    <tr>\n",
              "      <th>user_id</th>\n",
              "      <td>-0.006608</td>\n",
              "      <td>1.000000</td>\n",
              "      <td>-0.037846</td>\n",
              "      <td>-0.045650</td>\n",
              "      <td>0.424626</td>\n",
              "      <td>-0.000064</td>\n",
              "    </tr>\n",
              "    <tr>\n",
              "      <th>partner_id</th>\n",
              "      <td>0.001564</td>\n",
              "      <td>-0.037846</td>\n",
              "      <td>1.000000</td>\n",
              "      <td>0.092432</td>\n",
              "      <td>-0.185584</td>\n",
              "      <td>0.062991</td>\n",
              "    </tr>\n",
              "    <tr>\n",
              "      <th>money_transacted</th>\n",
              "      <td>0.001049</td>\n",
              "      <td>-0.045650</td>\n",
              "      <td>0.092432</td>\n",
              "      <td>1.000000</td>\n",
              "      <td>-0.066396</td>\n",
              "      <td>0.570388</td>\n",
              "    </tr>\n",
              "    <tr>\n",
              "      <th>partner_pricing_category</th>\n",
              "      <td>-0.006492</td>\n",
              "      <td>0.424626</td>\n",
              "      <td>-0.185584</td>\n",
              "      <td>-0.066396</td>\n",
              "      <td>1.000000</td>\n",
              "      <td>-0.034002</td>\n",
              "    </tr>\n",
              "    <tr>\n",
              "      <th>is_fraud</th>\n",
              "      <td>0.002447</td>\n",
              "      <td>-0.000064</td>\n",
              "      <td>0.062991</td>\n",
              "      <td>0.570388</td>\n",
              "      <td>-0.034002</td>\n",
              "      <td>1.000000</td>\n",
              "    </tr>\n",
              "  </tbody>\n",
              "</table>\n",
              "</div>\n",
              "      <button class=\"colab-df-convert\" onclick=\"convertToInteractive('df-1f85b782-cdd2-495b-8399-dd67b93a617b')\"\n",
              "              title=\"Convert this dataframe to an interactive table.\"\n",
              "              style=\"display:none;\">\n",
              "        \n",
              "  <svg xmlns=\"http://www.w3.org/2000/svg\" height=\"24px\"viewBox=\"0 0 24 24\"\n",
              "       width=\"24px\">\n",
              "    <path d=\"M0 0h24v24H0V0z\" fill=\"none\"/>\n",
              "    <path d=\"M18.56 5.44l.94 2.06.94-2.06 2.06-.94-2.06-.94-.94-2.06-.94 2.06-2.06.94zm-11 1L8.5 8.5l.94-2.06 2.06-.94-2.06-.94L8.5 2.5l-.94 2.06-2.06.94zm10 10l.94 2.06.94-2.06 2.06-.94-2.06-.94-.94-2.06-.94 2.06-2.06.94z\"/><path d=\"M17.41 7.96l-1.37-1.37c-.4-.4-.92-.59-1.43-.59-.52 0-1.04.2-1.43.59L10.3 9.45l-7.72 7.72c-.78.78-.78 2.05 0 2.83L4 21.41c.39.39.9.59 1.41.59.51 0 1.02-.2 1.41-.59l7.78-7.78 2.81-2.81c.8-.78.8-2.07 0-2.86zM5.41 20L4 18.59l7.72-7.72 1.47 1.35L5.41 20z\"/>\n",
              "  </svg>\n",
              "      </button>\n",
              "      \n",
              "  <style>\n",
              "    .colab-df-container {\n",
              "      display:flex;\n",
              "      flex-wrap:wrap;\n",
              "      gap: 12px;\n",
              "    }\n",
              "\n",
              "    .colab-df-convert {\n",
              "      background-color: #E8F0FE;\n",
              "      border: none;\n",
              "      border-radius: 50%;\n",
              "      cursor: pointer;\n",
              "      display: none;\n",
              "      fill: #1967D2;\n",
              "      height: 32px;\n",
              "      padding: 0 0 0 0;\n",
              "      width: 32px;\n",
              "    }\n",
              "\n",
              "    .colab-df-convert:hover {\n",
              "      background-color: #E2EBFA;\n",
              "      box-shadow: 0px 1px 2px rgba(60, 64, 67, 0.3), 0px 1px 3px 1px rgba(60, 64, 67, 0.15);\n",
              "      fill: #174EA6;\n",
              "    }\n",
              "\n",
              "    [theme=dark] .colab-df-convert {\n",
              "      background-color: #3B4455;\n",
              "      fill: #D2E3FC;\n",
              "    }\n",
              "\n",
              "    [theme=dark] .colab-df-convert:hover {\n",
              "      background-color: #434B5C;\n",
              "      box-shadow: 0px 1px 3px 1px rgba(0, 0, 0, 0.15);\n",
              "      filter: drop-shadow(0px 1px 2px rgba(0, 0, 0, 0.3));\n",
              "      fill: #FFFFFF;\n",
              "    }\n",
              "  </style>\n",
              "\n",
              "      <script>\n",
              "        const buttonEl =\n",
              "          document.querySelector('#df-1f85b782-cdd2-495b-8399-dd67b93a617b button.colab-df-convert');\n",
              "        buttonEl.style.display =\n",
              "          google.colab.kernel.accessAllowed ? 'block' : 'none';\n",
              "\n",
              "        async function convertToInteractive(key) {\n",
              "          const element = document.querySelector('#df-1f85b782-cdd2-495b-8399-dd67b93a617b');\n",
              "          const dataTable =\n",
              "            await google.colab.kernel.invokeFunction('convertToInteractive',\n",
              "                                                     [key], {});\n",
              "          if (!dataTable) return;\n",
              "\n",
              "          const docLinkHtml = 'Like what you see? Visit the ' +\n",
              "            '<a target=\"_blank\" href=https://colab.research.google.com/notebooks/data_table.ipynb>data table notebook</a>'\n",
              "            + ' to learn more about interactive tables.';\n",
              "          element.innerHTML = '';\n",
              "          dataTable['output_type'] = 'display_data';\n",
              "          await google.colab.output.renderOutput(dataTable, element);\n",
              "          const docLink = document.createElement('div');\n",
              "          docLink.innerHTML = docLinkHtml;\n",
              "          element.appendChild(docLink);\n",
              "        }\n",
              "      </script>\n",
              "    </div>\n",
              "  </div>\n",
              "  "
            ]
          },
          "metadata": {},
          "execution_count": 702
        }
      ]
    },
    {
      "cell_type": "markdown",
      "source": [
        "droping"
      ],
      "metadata": {
        "id": "n3SPIUqD_utP"
      }
    },
    {
      "cell_type": "code",
      "source": [
        "import seaborn as sns\n",
        "sns.heatmap(data.corr(),cmap='Blues',annot=True)"
      ],
      "metadata": {
        "colab": {
          "base_uri": "https://localhost:8080/",
          "height": 402
        },
        "id": "QAD00e7i7kk0",
        "outputId": "75c37f8a-227a-4b69-8ee9-f80322cc3273"
      },
      "execution_count": null,
      "outputs": [
        {
          "output_type": "execute_result",
          "data": {
            "text/plain": [
              "<matplotlib.axes._subplots.AxesSubplot at 0x7fbdd2d1af50>"
            ]
          },
          "metadata": {},
          "execution_count": 703
        },
        {
          "output_type": "display_data",
          "data": {
            "text/plain": [
              "<Figure size 432x288 with 2 Axes>"
            ],
            "image/png": "[encoded data removed]"
          },
          "metadata": {
            "needs_background": "light"
          }
        }
      ]
    },
    {
      "cell_type": "code",
      "source": [
        "import matplotlib.pyplot as plt\n",
        "plt.figure(figsize=(4,6))\n",
        "sns.countplot(x=\"is_fraud\",data=data)\n",
        "plt.show()\n",
        "\n",
        "data.is_fraud.value_counts()"
      ],
      "metadata": {
        "colab": {
          "base_uri": "https://localhost:8080/",
          "height": 444
        },
        "id": "xyH2LDV9fZ-W",
        "outputId": "209b0ee9-30b5-4e1e-a126-1f7c8790226e"
      },
      "execution_count": null,
      "outputs": [
        {
          "output_type": "display_data",
          "data": {
            "text/plain": [
              "<Figure size 288x432 with 1 Axes>"
            ],
            "image/png": "[encoded data removed]"
          },
          "metadata": {
            "needs_background": "light"
          }
        },
        {
          "output_type": "execute_result",
          "data": {
            "text/plain": [
              "0    76375\n",
              "1      154\n",
              "Name: is_fraud, dtype: int64"
            ]
          },
          "metadata": {},
          "execution_count": 704
        }
      ]
    },
    {
      "cell_type": "code",
      "source": [
        "data.is_fraud.value_counts(normalize = True)*100"
      ],
      "metadata": {
        "colab": {
          "base_uri": "https://localhost:8080/"
        },
        "id": "7FQoOvNlgWmx",
        "outputId": "e1baffb4-fe14-4424-ebc6-ff7c77264407"
      },
      "execution_count": null,
      "outputs": [
        {
          "output_type": "execute_result",
          "data": {
            "text/plain": [
              "0    99.798769\n",
              "1     0.201231\n",
              "Name: is_fraud, dtype: float64"
            ]
          },
          "metadata": {},
          "execution_count": 705
        }
      ]
    },
    {
      "cell_type": "code",
      "source": [
        "frauds =len(data[data.is_fraud == 1])\n",
        "nonfrauds = len(data[data.is_fraud ==0])\n",
        "print(\"frauds\",frauds)\n",
        "print(\"non-frauds\",nonfrauds)\n"
      ],
      "metadata": {
        "colab": {
          "base_uri": "https://localhost:8080/"
        },
        "id": "cEBqp1tTgnih",
        "outputId": "769b982f-bab2-43db-8fe1-31105612c8dc"
      },
      "execution_count": null,
      "outputs": [
        {
          "output_type": "stream",
          "name": "stdout",
          "text": [
            "frauds 154\n",
            "non-frauds 76375\n"
          ]
        }
      ]
    },
    {
      "cell_type": "code",
      "source": [
        "plt.figure(figsize=(14,12))\n",
        "sns.countplot(x=\"payment_method\",data=data)\n",
        "plt.show()\n",
        "\n",
        "data.payment_method.value_counts()"
      ],
      "metadata": {
        "colab": {
          "base_uri": "https://localhost:8080/",
          "height": 838
        },
        "id": "UcW2I_Lkh_uN",
        "outputId": "a162ce1a-5ee7-46a8-e486-219a9c33b4c7"
      },
      "execution_count": null,
      "outputs": [
        {
          "output_type": "display_data",
          "data": {
            "text/plain": [
              "<Figure size 1008x864 with 1 Axes>"
            ],
            "image/png": "[encoded data removed]"
          },
          "metadata": {
            "needs_background": "light"
          }
        },
        {
          "output_type": "execute_result",
          "data": {
            "text/plain": [
              "sbi_atm_cum_debit_card        30538\n",
              "e_wallet_payments             27384\n",
              "visa_master_debit_cards       11643\n",
              "other_debit_cards              4495\n",
              "visa_master_credit_cards       2454\n",
              "unified_payments_interface       15\n",
              "Name: payment_method, dtype: int64"
            ]
          },
          "metadata": {},
          "execution_count": 707
        }
      ]
    },
    {
      "cell_type": "code",
      "source": [
        "plt.figure(figsize=(14,12))\n",
        "sns.countplot(x=\"partner_category\",data=data)\n",
        "plt.show()\n",
        "\n",
        "data.partner_category.value_counts()"
      ],
      "metadata": {
        "colab": {
          "base_uri": "https://localhost:8080/",
          "height": 890
        },
        "id": "Uo2g3PiJjIPi",
        "outputId": "c63ccb08-d089-4a24-e389-e9ddb795e53c"
      },
      "execution_count": null,
      "outputs": [
        {
          "output_type": "display_data",
          "data": {
            "text/plain": [
              "<Figure size 1008x864 with 1 Axes>"
            ],
            "image/png": "[encoded data removed]"
          },
          "metadata": {
            "needs_background": "light"
          }
        },
        {
          "output_type": "execute_result",
          "data": {
            "text/plain": [
              "cat_1    36306\n",
              "cat_2    36019\n",
              "cat_3     1536\n",
              "cat_4     1310\n",
              "cat_5     1026\n",
              "cat_7      165\n",
              "cat_6      146\n",
              "cat_8       19\n",
              "cat_9        2\n",
              "Name: partner_category, dtype: int64"
            ]
          },
          "metadata": {},
          "execution_count": 708
        }
      ]
    },
    {
      "cell_type": "code",
      "source": [
        "obj_attr=data.select_dtypes('object').columns\n",
        "for i in obj_attr:\n",
        "  print(data[i].nunique())\n",
        "  print(data[i].value_counts())"
      ],
      "metadata": {
        "colab": {
          "base_uri": "https://localhost:8080/"
        },
        "id": "N52B5Tbu8S1V",
        "outputId": "17ccb894-86d8-4969-b76e-be2ae52b464b"
      },
      "execution_count": null,
      "outputs": [
        {
          "output_type": "stream",
          "name": "stdout",
          "text": [
            "6\n",
            "sbi_atm_cum_debit_card        30538\n",
            "e_wallet_payments             27384\n",
            "visa_master_debit_cards       11643\n",
            "other_debit_cards              4495\n",
            "visa_master_credit_cards       2454\n",
            "unified_payments_interface       15\n",
            "Name: payment_method, dtype: int64\n",
            "9\n",
            "cat_1    36306\n",
            "cat_2    36019\n",
            "cat_3     1536\n",
            "cat_4     1310\n",
            "cat_5     1026\n",
            "cat_7      165\n",
            "cat_6      146\n",
            "cat_8       19\n",
            "cat_9        2\n",
            "Name: partner_category, dtype: int64\n",
            "1\n",
            "IND_INR    76529\n",
            "Name: country, dtype: int64\n",
            "4\n",
            "other_pcs          45560\n",
            "android_devices    29662\n",
            "ios_devices          876\n",
            "windows_pcs          431\n",
            "Name: device_type, dtype: int64\n",
            "75811\n",
            "2016-12-24 16:30:13+00:00    12\n",
            "2016-11-15 07:03:26+00:00     7\n",
            "2016-12-24 16:30:12+00:00     6\n",
            "2017-01-04 04:29:41+00:00     4\n",
            "2017-02-01 10:58:34+00:00     4\n",
            "                             ..\n",
            "2016-11-19 06:18:42+00:00     1\n",
            "2016-11-21 08:57:53+00:00     1\n",
            "2016-12-13 08:52:02+00:00     1\n",
            "2016-11-26 11:07:53+00:00     1\n",
            "2017-01-11 19:08:18+00:00     1\n",
            "Name: transaction_initiation, Length: 75811, dtype: int64\n"
          ]
        }
      ]
    },
    {
      "cell_type": "code",
      "source": [
        "data.drop([\"partner_id\",\"country\"],axis=1,inplace=True))"
      ],
      "metadata": {
        "id": "vnLIW58q8TI5"
      },
      "execution_count": null,
      "outputs": []
    },
    {
      "cell_type": "code",
      "source": [
        "data.columns"
      ],
      "metadata": {
        "colab": {
          "base_uri": "https://localhost:8080/"
        },
        "id": "g2MG9u77_0xF",
        "outputId": "52890d27-a27d-4cd4-e8f0-5f6ed4cb8c2f"
      },
      "execution_count": null,
      "outputs": [
        {
          "output_type": "execute_result",
          "data": {
            "text/plain": [
              "Index(['transaction_number', 'user_id', 'payment_method', 'partner_category',\n",
              "       'device_type', 'money_transacted', 'transaction_initiation',\n",
              "       'partner_pricing_category', 'is_fraud'],\n",
              "      dtype='object')"
            ]
          },
          "metadata": {},
          "execution_count": 711
        }
      ]
    },
    {
      "cell_type": "markdown",
      "source": [
        "converting into category"
      ],
      "metadata": {
        "id": "stJXBpkVASXy"
      }
    },
    {
      "cell_type": "code",
      "source": [
        "data.dtypes"
      ],
      "metadata": {
        "colab": {
          "base_uri": "https://localhost:8080/"
        },
        "id": "m4dbFahkADdo",
        "outputId": "8b5bf768-ebf2-4965-d7ed-fd94af69f75e"
      },
      "execution_count": null,
      "outputs": [
        {
          "output_type": "execute_result",
          "data": {
            "text/plain": [
              "transaction_number            int64\n",
              "user_id                       int64\n",
              "payment_method               object\n",
              "partner_category             object\n",
              "device_type                  object\n",
              "money_transacted            float64\n",
              "transaction_initiation       object\n",
              "partner_pricing_category      int64\n",
              "is_fraud                      int64\n",
              "dtype: object"
            ]
          },
          "metadata": {},
          "execution_count": 712
        }
      ]
    },
    {
      "cell_type": "code",
      "source": [
        "dataCatt = ([\"payment_method\",\"partner_category\",\"device_type\"])\n",
        "data[dataCatt]=data[dataCatt].astype('category')"
      ],
      "metadata": {
        "id": "HezjZ_7mAZ7T"
      },
      "execution_count": null,
      "outputs": []
    },
    {
      "cell_type": "code",
      "source": [
        "data.dtypes"
      ],
      "metadata": {
        "colab": {
          "base_uri": "https://localhost:8080/"
        },
        "id": "nnEKJakiAaMa",
        "outputId": "d05aafc6-87f6-480d-dae0-3fb1a044bc06"
      },
      "execution_count": null,
      "outputs": [
        {
          "output_type": "execute_result",
          "data": {
            "text/plain": [
              "transaction_number             int64\n",
              "user_id                        int64\n",
              "payment_method              category\n",
              "partner_category            category\n",
              "device_type                 category\n",
              "money_transacted             float64\n",
              "transaction_initiation        object\n",
              "partner_pricing_category       int64\n",
              "is_fraud                       int64\n",
              "dtype: object"
            ]
          },
          "metadata": {},
          "execution_count": 714
        }
      ]
    },
    {
      "cell_type": "code",
      "source": [
        "data.isnull().sum()"
      ],
      "metadata": {
        "colab": {
          "base_uri": "https://localhost:8080/"
        },
        "id": "5yDw7tMTBCOH",
        "outputId": "1f00ef48-7a76-473b-f8b1-fea83d8f2777"
      },
      "execution_count": null,
      "outputs": [
        {
          "output_type": "execute_result",
          "data": {
            "text/plain": [
              "transaction_number          0\n",
              "user_id                     0\n",
              "payment_method              0\n",
              "partner_category            0\n",
              "device_type                 0\n",
              "money_transacted            0\n",
              "transaction_initiation      0\n",
              "partner_pricing_category    0\n",
              "is_fraud                    0\n",
              "dtype: int64"
            ]
          },
          "metadata": {},
          "execution_count": 715
        }
      ]
    },
    {
      "cell_type": "code",
      "source": [
        "data['transaction_year']= data['transaction_initiation'].apply(lambda x:np.int(x[0:4]))\n",
        "data['transaction_month']=data['transaction_initiation'].apply(lambda x:np.int(x[5:7]))\n",
        "data['transaction_day']=data['transaction_initiation'].apply(lambda x:np.int(x[8:10]))\n",
        "data['transaction_time']=data['transaction_initiation'].apply(lambda x:(x[11:19]))\n",
        "\n"
      ],
      "metadata": {
        "colab": {
          "base_uri": "https://localhost:8080/"
        },
        "id": "r_q6knBL1WcU",
        "outputId": "5e321fd3-9d02-43a4-b99f-5626e73945b5"
      },
      "execution_count": null,
      "outputs": [
        {
          "output_type": "stream",
          "name": "stderr",
          "text": [
            "/usr/local/lib/python3.7/dist-packages/ipykernel_launcher.py:1: DeprecationWarning: `np.int` is a deprecated alias for the builtin `int`. To silence this warning, use `int` by itself. Doing this will not modify any behavior and is safe. When replacing `np.int`, you may wish to use e.g. `np.int64` or `np.int32` to specify the precision. If you wish to review your current use, check the release note link for additional information.\n",
            "Deprecated in NumPy 1.20; for more details and guidance: https://numpy.org/devdocs/release/1.20.0-notes.html#deprecations\n",
            "  \"\"\"Entry point for launching an IPython kernel.\n",
            "/usr/local/lib/python3.7/dist-packages/ipykernel_launcher.py:2: DeprecationWarning: `np.int` is a deprecated alias for the builtin `int`. To silence this warning, use `int` by itself. Doing this will not modify any behavior and is safe. When replacing `np.int`, you may wish to use e.g. `np.int64` or `np.int32` to specify the precision. If you wish to review your current use, check the release note link for additional information.\n",
            "Deprecated in NumPy 1.20; for more details and guidance: https://numpy.org/devdocs/release/1.20.0-notes.html#deprecations\n",
            "  \n",
            "/usr/local/lib/python3.7/dist-packages/ipykernel_launcher.py:3: DeprecationWarning: `np.int` is a deprecated alias for the builtin `int`. To silence this warning, use `int` by itself. Doing this will not modify any behavior and is safe. When replacing `np.int`, you may wish to use e.g. `np.int64` or `np.int32` to specify the precision. If you wish to review your current use, check the release note link for additional information.\n",
            "Deprecated in NumPy 1.20; for more details and guidance: https://numpy.org/devdocs/release/1.20.0-notes.html#deprecations\n",
            "  This is separate from the ipykernel package so we can avoid doing imports until\n"
          ]
        }
      ]
    },
    {
      "cell_type": "code",
      "source": [
        "def get_sec(time_str):\n",
        "  h,m,s =time_str.split(':')\n",
        "  return int(h) * 3600 + int(m) * 60 + int(s)"
      ],
      "metadata": {
        "id": "skwqC2EX4vuI"
      },
      "execution_count": null,
      "outputs": []
    },
    {
      "cell_type": "code",
      "source": [
        "data['transaction_time']=data['transaction_time'].apply(lambda x:get_sec(x))\n"
      ],
      "metadata": {
        "id": "hGz6f29l4vxP"
      },
      "execution_count": null,
      "outputs": []
    },
    {
      "cell_type": "code",
      "source": [
        "data=data.drop(['transaction_initiation'],axis=1)"
      ],
      "metadata": {
        "id": "4lcTGj7U5xtR"
      },
      "execution_count": null,
      "outputs": []
    },
    {
      "cell_type": "markdown",
      "source": [
        "label encoding"
      ],
      "metadata": {
        "id": "IbGJsp1aJcJ2"
      }
    },
    {
      "cell_type": "code",
      "source": [
        "from sklearn.preprocessing import LabelEncoder"
      ],
      "metadata": {
        "id": "nD9cwsEAQDzz"
      },
      "execution_count": null,
      "outputs": []
    },
    {
      "cell_type": "code",
      "source": [
        "le=LabelEncoder()\n",
        "data['partner_category']=le.fit_transform(data['partner_category'])\n",
        "data['device_type']=le.fit_transform(data['device_type'])\n",
        "data['partner_pricing_category']=le.fit_transform(data['partner_pricing_category'])\n",
        "data['payment_method']=le.fit_transform(data['payment_method'])\n",
        "data['transaction_number']=le.fit_transform(data['transaction_number'])\n"
      ],
      "metadata": {
        "id": "MobJStEYQQfm"
      },
      "execution_count": null,
      "outputs": []
    },
    {
      "cell_type": "markdown",
      "source": [
        "train test split"
      ],
      "metadata": {
        "id": "H3hBswyzFryN"
      }
    },
    {
      "cell_type": "code",
      "source": [
        "from sklearn.model_selection import train_test_split"
      ],
      "metadata": {
        "id": "2djktCi1FpG0"
      },
      "execution_count": null,
      "outputs": []
    },
    {
      "cell_type": "code",
      "source": [
        "y = data[\"is_fraud\"]\n",
        "x = data.drop('is_fraud',axis = 1)"
      ],
      "metadata": {
        "id": "JeQyVNy8FpWG"
      },
      "execution_count": null,
      "outputs": []
    },
    {
      "cell_type": "code",
      "source": [
        "x_train,x_test,y_train,y_test = train_test_split(x,y,test_size=0.30,random_state=123)"
      ],
      "metadata": {
        "id": "cwTzv1KLHxG3"
      },
      "execution_count": null,
      "outputs": []
    },
    {
      "cell_type": "code",
      "source": [
        "print(x_train.shape)\n",
        "print(x_test.shape)\n",
        "print(y_train.shape)\n",
        "print(y_train.shape)\n"
      ],
      "metadata": {
        "id": "MeXlq090IZhX",
        "colab": {
          "base_uri": "https://localhost:8080/"
        },
        "outputId": "0dbf024f-24c9-4a1c-9538-9e34e210a3d6"
      },
      "execution_count": null,
      "outputs": [
        {
          "output_type": "stream",
          "name": "stdout",
          "text": [
            "(53570, 11)\n",
            "(22959, 11)\n",
            "(53570,)\n",
            "(53570,)\n"
          ]
        }
      ]
    },
    {
      "cell_type": "markdown",
      "source": [
        "standardization"
      ],
      "metadata": {
        "id": "mFo320U2I0wC"
      }
    },
    {
      "cell_type": "code",
      "source": [
        "from sklearn.preprocessing import StandardScaler"
      ],
      "metadata": {
        "id": "er1dmWDtIyRx"
      },
      "execution_count": null,
      "outputs": []
    },
    {
      "cell_type": "code",
      "source": [
        "num_attr=x_train.select_dtypes(['int64','float64']).columns\n",
        "num_attr"
      ],
      "metadata": {
        "colab": {
          "base_uri": "https://localhost:8080/"
        },
        "id": "3fQfasPpnGrX",
        "outputId": "b4a03984-7261-47c7-9074-7787e13df3e0"
      },
      "execution_count": null,
      "outputs": [
        {
          "output_type": "execute_result",
          "data": {
            "text/plain": [
              "Index(['transaction_number', 'user_id', 'payment_method', 'partner_category',\n",
              "       'device_type', 'money_transacted', 'partner_pricing_category',\n",
              "       'transaction_year', 'transaction_month', 'transaction_day',\n",
              "       'transaction_time'],\n",
              "      dtype='object')"
            ]
          },
          "metadata": {},
          "execution_count": 727
        }
      ]
    },
    {
      "cell_type": "code",
      "source": [
        "Scalar=StandardScaler()\n",
        "Scalar.fit(x_train[num_attr])\n"
      ],
      "metadata": {
        "id": "NbfqBJrcI9s6",
        "colab": {
          "base_uri": "https://localhost:8080/"
        },
        "outputId": "50d44131-2940-4847-e328-7b651ca8af01"
      },
      "execution_count": null,
      "outputs": [
        {
          "output_type": "execute_result",
          "data": {
            "text/plain": [
              "StandardScaler()"
            ]
          },
          "metadata": {},
          "execution_count": 728
        }
      ]
    },
    {
      "cell_type": "code",
      "source": [
        "x_train[num_attr] = Scalar.transform(x_train[num_attr])\n",
        "x_test = Scalar.transform(x_test[num_attr])"
      ],
      "metadata": {
        "id": "aIkFcDbzI948"
      },
      "execution_count": null,
      "outputs": []
    },
    {
      "cell_type": "code",
      "source": [
        "print(x_train.shape)\n",
        "print(x_test.shape)"
      ],
      "metadata": {
        "id": "09zTZLcPKQjK",
        "colab": {
          "base_uri": "https://localhost:8080/"
        },
        "outputId": "fd2aa0f8-3ae3-45a5-e50a-a081db6f3001"
      },
      "execution_count": null,
      "outputs": [
        {
          "output_type": "stream",
          "name": "stdout",
          "text": [
            "(53570, 11)\n",
            "(22959, 11)\n"
          ]
        }
      ]
    },
    {
      "cell_type": "markdown",
      "source": [
        "model building"
      ],
      "metadata": {
        "id": "k_d_O3aXnwwU"
      }
    },
    {
      "cell_type": "markdown",
      "source": [
        "logistic regression"
      ],
      "metadata": {
        "id": "Bp3CpsEfn2YH"
      }
    },
    {
      "cell_type": "code",
      "source": [
        "\n",
        "from sklearn.linear_model import LogisticRegression\n",
        "from sklearn.metrics import f1_score,confusion_matrix,classification_report"
      ],
      "metadata": {
        "id": "JMTfcw10n1MC"
      },
      "execution_count": null,
      "outputs": []
    },
    {
      "cell_type": "code",
      "source": [
        "Lr=LogisticRegression()\n",
        "Lr.fit(x_train,y_train)"
      ],
      "metadata": {
        "colab": {
          "base_uri": "https://localhost:8080/"
        },
        "id": "W1MuuOL7n-fp",
        "outputId": "17901259-8275-44ba-fc10-70b96d0aa093"
      },
      "execution_count": null,
      "outputs": [
        {
          "output_type": "execute_result",
          "data": {
            "text/plain": [
              "LogisticRegression()"
            ]
          },
          "metadata": {},
          "execution_count": 732
        }
      ]
    },
    {
      "cell_type": "code",
      "source": [
        "y_pred_train = Lr.predict(x_train)\n",
        "y_pred_test = Lr.predict(x_test)"
      ],
      "metadata": {
        "colab": {
          "base_uri": "https://localhost:8080/"
        },
        "id": "L1N2MAogoESo",
        "outputId": "f2d0aea3-5b30-4d5c-c486-74bddc18d4e6"
      },
      "execution_count": null,
      "outputs": [
        {
          "output_type": "stream",
          "name": "stderr",
          "text": [
            "/usr/local/lib/python3.7/dist-packages/sklearn/base.py:451: UserWarning: X does not have valid feature names, but LogisticRegression was fitted with feature names\n",
            "  \"X does not have valid feature names, but\"\n"
          ]
        }
      ]
    },
    {
      "cell_type": "code",
      "source": [
        "f1_score(y_train,y_pred_train)"
      ],
      "metadata": {
        "colab": {
          "base_uri": "https://localhost:8080/"
        },
        "id": "VQwAN9O1oI03",
        "outputId": "494ceaad-f317-4df5-a9f3-a0a61679de9c"
      },
      "execution_count": null,
      "outputs": [
        {
          "output_type": "execute_result",
          "data": {
            "text/plain": [
              "0.42666666666666664"
            ]
          },
          "metadata": {},
          "execution_count": 734
        }
      ]
    },
    {
      "cell_type": "code",
      "source": [
        "f1_score(y_test,y_pred_test)"
      ],
      "metadata": {
        "colab": {
          "base_uri": "https://localhost:8080/"
        },
        "id": "6s4c7S0LoM0C",
        "outputId": "70c8502a-e104-4387-e6af-eee3ad958f60"
      },
      "execution_count": null,
      "outputs": [
        {
          "output_type": "execute_result",
          "data": {
            "text/plain": [
              "0.4871794871794871"
            ]
          },
          "metadata": {},
          "execution_count": 735
        }
      ]
    },
    {
      "cell_type": "code",
      "source": [
        "print(classification_report(y_test,y_pred_test))"
      ],
      "metadata": {
        "colab": {
          "base_uri": "https://localhost:8080/"
        },
        "id": "KDdzrvd2TBVH",
        "outputId": "a746afcd-c035-462b-f963-873eb58f46a0"
      },
      "execution_count": null,
      "outputs": [
        {
          "output_type": "stream",
          "name": "stdout",
          "text": [
            "              precision    recall  f1-score   support\n",
            "\n",
            "           0       1.00      1.00      1.00     22907\n",
            "           1       0.73      0.37      0.49        52\n",
            "\n",
            "    accuracy                           1.00     22959\n",
            "   macro avg       0.86      0.68      0.74     22959\n",
            "weighted avg       1.00      1.00      1.00     22959\n",
            "\n"
          ]
        }
      ]
    },
    {
      "cell_type": "markdown",
      "source": [
        "decision tree"
      ],
      "metadata": {
        "id": "vA-bMCZu6fzG"
      }
    },
    {
      "cell_type": "code",
      "source": [
        "from sklearn.tree import DecisionTreeClassifier"
      ],
      "metadata": {
        "id": "tO_d2bhY6ZCG"
      },
      "execution_count": null,
      "outputs": []
    },
    {
      "cell_type": "code",
      "source": [
        "dt = DecisionTreeClassifier()"
      ],
      "metadata": {
        "id": "7NFiRwL06ZFM"
      },
      "execution_count": null,
      "outputs": []
    },
    {
      "cell_type": "code",
      "source": [
        "dt.fit(x_train,y_train)"
      ],
      "metadata": {
        "colab": {
          "base_uri": "https://localhost:8080/"
        },
        "id": "m8UXYv0Y75MH",
        "outputId": "a3f6a1c0-a7dc-4672-afab-c091a9b342bb"
      },
      "execution_count": null,
      "outputs": [
        {
          "output_type": "execute_result",
          "data": {
            "text/plain": [
              "DecisionTreeClassifier()"
            ]
          },
          "metadata": {},
          "execution_count": 739
        }
      ]
    },
    {
      "cell_type": "code",
      "source": [
        "y_pred_train = dt.predict(x_train)\n",
        "y_pred_test = dt.predict(x_test)"
      ],
      "metadata": {
        "colab": {
          "base_uri": "https://localhost:8080/"
        },
        "id": "ubxbuUvQ75Ou",
        "outputId": "a3ff17f8-1015-4b47-d4cf-fa7aede99283"
      },
      "execution_count": null,
      "outputs": [
        {
          "output_type": "stream",
          "name": "stderr",
          "text": [
            "/usr/local/lib/python3.7/dist-packages/sklearn/base.py:451: UserWarning: X does not have valid feature names, but DecisionTreeClassifier was fitted with feature names\n",
            "  \"X does not have valid feature names, but\"\n"
          ]
        }
      ]
    },
    {
      "cell_type": "code",
      "source": [
        "f1_score(y_train,y_pred_train)\n"
      ],
      "metadata": {
        "colab": {
          "base_uri": "https://localhost:8080/"
        },
        "id": "awD7HVKj75Rh",
        "outputId": "b5ddac41-590e-4e23-d58f-9f24f3a5c0a1"
      },
      "execution_count": null,
      "outputs": [
        {
          "output_type": "execute_result",
          "data": {
            "text/plain": [
              "1.0"
            ]
          },
          "metadata": {},
          "execution_count": 741
        }
      ]
    },
    {
      "cell_type": "code",
      "source": [
        "f1_score(y_test,y_pred_test)"
      ],
      "metadata": {
        "colab": {
          "base_uri": "https://localhost:8080/"
        },
        "id": "2hobV1FI75TL",
        "outputId": "2aa9c087-cb63-4ff2-91f7-80ee86986cf9"
      },
      "execution_count": null,
      "outputs": [
        {
          "output_type": "execute_result",
          "data": {
            "text/plain": [
              "0.8461538461538461"
            ]
          },
          "metadata": {},
          "execution_count": 742
        }
      ]
    },
    {
      "cell_type": "code",
      "source": [
        "print(classification_report(y_test,y_pred_test))"
      ],
      "metadata": {
        "colab": {
          "base_uri": "https://localhost:8080/"
        },
        "id": "AsbMq33wTVJy",
        "outputId": "c926e9fe-2c76-4c49-e755-b788c4117a8f"
      },
      "execution_count": null,
      "outputs": [
        {
          "output_type": "stream",
          "name": "stdout",
          "text": [
            "              precision    recall  f1-score   support\n",
            "\n",
            "           0       1.00      1.00      1.00     22907\n",
            "           1       0.85      0.85      0.85        52\n",
            "\n",
            "    accuracy                           1.00     22959\n",
            "   macro avg       0.92      0.92      0.92     22959\n",
            "weighted avg       1.00      1.00      1.00     22959\n",
            "\n"
          ]
        }
      ]
    },
    {
      "cell_type": "markdown",
      "source": [
        "random forest"
      ],
      "metadata": {
        "id": "MLdFSg2j-B9r"
      }
    },
    {
      "cell_type": "code",
      "source": [
        "from sklearn.ensemble import RandomForestClassifier"
      ],
      "metadata": {
        "id": "7lWsF0rA75U_"
      },
      "execution_count": null,
      "outputs": []
    },
    {
      "cell_type": "code",
      "source": [
        "rf = RandomForestClassifier()"
      ],
      "metadata": {
        "id": "dobcClRX-U09"
      },
      "execution_count": null,
      "outputs": []
    },
    {
      "cell_type": "code",
      "source": [
        "rf.fit(x_train,y_train)"
      ],
      "metadata": {
        "colab": {
          "base_uri": "https://localhost:8080/"
        },
        "id": "UhtSE-fp-c7f",
        "outputId": "5f972b3d-3466-4b4f-9bbe-80a891d66e5c"
      },
      "execution_count": null,
      "outputs": [
        {
          "output_type": "execute_result",
          "data": {
            "text/plain": [
              "RandomForestClassifier()"
            ]
          },
          "metadata": {},
          "execution_count": 746
        }
      ]
    },
    {
      "cell_type": "code",
      "source": [
        "y_pred_train = rf.predict(x_train)\n",
        "y_pred_test = rf.predict(x_test)"
      ],
      "metadata": {
        "colab": {
          "base_uri": "https://localhost:8080/"
        },
        "id": "zn-G3qL8-l1q",
        "outputId": "8e42eea1-ba05-4316-ea57-ad3b8f8f2136"
      },
      "execution_count": null,
      "outputs": [
        {
          "output_type": "stream",
          "name": "stderr",
          "text": [
            "/usr/local/lib/python3.7/dist-packages/sklearn/base.py:451: UserWarning: X does not have valid feature names, but RandomForestClassifier was fitted with feature names\n",
            "  \"X does not have valid feature names, but\"\n"
          ]
        }
      ]
    },
    {
      "cell_type": "code",
      "source": [
        "f1_score(y_train,y_pred_train)\n"
      ],
      "metadata": {
        "colab": {
          "base_uri": "https://localhost:8080/"
        },
        "id": "n4h-uzmO_doq",
        "outputId": "ed4701ba-4269-42a3-8c43-6da37f742555"
      },
      "execution_count": null,
      "outputs": [
        {
          "output_type": "execute_result",
          "data": {
            "text/plain": [
              "1.0"
            ]
          },
          "metadata": {},
          "execution_count": 748
        }
      ]
    },
    {
      "cell_type": "code",
      "source": [
        "f1_score(y_test,y_pred_test)"
      ],
      "metadata": {
        "colab": {
          "base_uri": "https://localhost:8080/"
        },
        "id": "VCXHePa3_pne",
        "outputId": "0577da03-1428-4670-9bd5-357e71dbf365"
      },
      "execution_count": null,
      "outputs": [
        {
          "output_type": "execute_result",
          "data": {
            "text/plain": [
              "0.8333333333333333"
            ]
          },
          "metadata": {},
          "execution_count": 749
        }
      ]
    },
    {
      "cell_type": "code",
      "source": [
        "print(classification_report(y_test,y_pred_test))"
      ],
      "metadata": {
        "colab": {
          "base_uri": "https://localhost:8080/"
        },
        "id": "6mpkoMswTq-x",
        "outputId": "560cd07e-535a-41ec-9ffc-07ee2c467133"
      },
      "execution_count": null,
      "outputs": [
        {
          "output_type": "stream",
          "name": "stdout",
          "text": [
            "              precision    recall  f1-score   support\n",
            "\n",
            "           0       1.00      1.00      1.00     22907\n",
            "           1       0.91      0.77      0.83        52\n",
            "\n",
            "    accuracy                           1.00     22959\n",
            "   macro avg       0.95      0.88      0.92     22959\n",
            "weighted avg       1.00      1.00      1.00     22959\n",
            "\n"
          ]
        }
      ]
    },
    {
      "cell_type": "markdown",
      "source": [
        "support vector machine"
      ],
      "metadata": {
        "id": "bYKzDxKhCJJZ"
      }
    },
    {
      "cell_type": "code",
      "source": [
        "from sklearn import svm"
      ],
      "metadata": {
        "id": "raoFkP2SBvuk"
      },
      "execution_count": null,
      "outputs": []
    },
    {
      "cell_type": "code",
      "source": [
        "svm1 = svm.SVC"
      ],
      "metadata": {
        "id": "AHHjtuRWCVoQ"
      },
      "execution_count": null,
      "outputs": []
    },
    {
      "cell_type": "code",
      "source": [
        "svm1 = svm.SVC(C=0.002,kernel='linear')\n",
        "svm1.fit(x_train,y_train)"
      ],
      "metadata": {
        "colab": {
          "base_uri": "https://localhost:8080/"
        },
        "id": "BLaU85VjCZcH",
        "outputId": "cb31bf17-8d1c-4660-e604-dd946c767180"
      },
      "execution_count": null,
      "outputs": [
        {
          "output_type": "execute_result",
          "data": {
            "text/plain": [
              "SVC(C=0.002, kernel='linear')"
            ]
          },
          "metadata": {},
          "execution_count": 753
        }
      ]
    },
    {
      "cell_type": "code",
      "source": [
        "y_pred_train = svm1.predict(x_train)\n",
        "y_pred_test = svm1.predict(x_test)"
      ],
      "metadata": {
        "colab": {
          "base_uri": "https://localhost:8080/"
        },
        "id": "VMgU5RE8Bvxj",
        "outputId": "c76fd3fa-05d9-41d6-8943-b60d4155cef0"
      },
      "execution_count": null,
      "outputs": [
        {
          "output_type": "stream",
          "name": "stderr",
          "text": [
            "/usr/local/lib/python3.7/dist-packages/sklearn/base.py:451: UserWarning: X does not have valid feature names, but SVC was fitted with feature names\n",
            "  \"X does not have valid feature names, but\"\n"
          ]
        }
      ]
    },
    {
      "cell_type": "code",
      "source": [
        "f1_score(y_train,y_pred_train)\n"
      ],
      "metadata": {
        "colab": {
          "base_uri": "https://localhost:8080/"
        },
        "id": "NdVrMITZDhyH",
        "outputId": "6ad2a782-e745-4159-b1f8-7d0ba839b22c"
      },
      "execution_count": null,
      "outputs": [
        {
          "output_type": "execute_result",
          "data": {
            "text/plain": [
              "0.38571428571428573"
            ]
          },
          "metadata": {},
          "execution_count": 755
        }
      ]
    },
    {
      "cell_type": "code",
      "source": [
        "f1_score(y_test,y_pred_test)"
      ],
      "metadata": {
        "colab": {
          "base_uri": "https://localhost:8080/"
        },
        "id": "mM171y29DsP7",
        "outputId": "628da3fb-9cb9-49be-87f4-657172bc36e4"
      },
      "execution_count": null,
      "outputs": [
        {
          "output_type": "execute_result",
          "data": {
            "text/plain": [
              "0.39999999999999997"
            ]
          },
          "metadata": {},
          "execution_count": 756
        }
      ]
    },
    {
      "cell_type": "code",
      "source": [
        "print(classification_report(y_test,y_pred_test))"
      ],
      "metadata": {
        "colab": {
          "base_uri": "https://localhost:8080/"
        },
        "id": "mm_BFUcET1mj",
        "outputId": "5b773547-a201-405a-b728-72e76fedc869"
      },
      "execution_count": null,
      "outputs": [
        {
          "output_type": "stream",
          "name": "stdout",
          "text": [
            "              precision    recall  f1-score   support\n",
            "\n",
            "           0       1.00      1.00      1.00     22907\n",
            "           1       0.78      0.27      0.40        52\n",
            "\n",
            "    accuracy                           1.00     22959\n",
            "   macro avg       0.89      0.63      0.70     22959\n",
            "weighted avg       1.00      1.00      1.00     22959\n",
            "\n"
          ]
        }
      ]
    },
    {
      "cell_type": "markdown",
      "source": [
        "knearest neighbours"
      ],
      "metadata": {
        "id": "wJLxPqsvD0c_"
      }
    },
    {
      "cell_type": "code",
      "source": [
        "from sklearn.neighbors import KNeighborsClassifier"
      ],
      "metadata": {
        "id": "x2Ped57sD6jY"
      },
      "execution_count": null,
      "outputs": []
    },
    {
      "cell_type": "code",
      "source": [
        "knn = KNeighborsClassifier()\n",
        "knn.fit(x_train,y_train)"
      ],
      "metadata": {
        "colab": {
          "base_uri": "https://localhost:8080/"
        },
        "id": "LqWQh2tKEGJS",
        "outputId": "66f29a89-3150-4ec5-b760-cea35bdd8a56"
      },
      "execution_count": null,
      "outputs": [
        {
          "output_type": "execute_result",
          "data": {
            "text/plain": [
              "KNeighborsClassifier()"
            ]
          },
          "metadata": {},
          "execution_count": 759
        }
      ]
    },
    {
      "cell_type": "code",
      "source": [
        "y_pred_train = knn.predict(x_train)\n",
        "y_pred_test = knn.predict(x_test)"
      ],
      "metadata": {
        "colab": {
          "base_uri": "https://localhost:8080/"
        },
        "id": "akC4Q_erEQZx",
        "outputId": "5af7016c-a323-4f22-bc14-7d3cfa826542"
      },
      "execution_count": null,
      "outputs": [
        {
          "output_type": "stream",
          "name": "stderr",
          "text": [
            "/usr/local/lib/python3.7/dist-packages/sklearn/base.py:451: UserWarning: X does not have valid feature names, but KNeighborsClassifier was fitted with feature names\n",
            "  \"X does not have valid feature names, but\"\n"
          ]
        }
      ]
    },
    {
      "cell_type": "code",
      "source": [
        "f1_score(y_train,y_pred_train)"
      ],
      "metadata": {
        "colab": {
          "base_uri": "https://localhost:8080/"
        },
        "id": "Athf81_qEl5h",
        "outputId": "e6728211-357d-4b50-ae24-5a688d70c165"
      },
      "execution_count": null,
      "outputs": [
        {
          "output_type": "execute_result",
          "data": {
            "text/plain": [
              "0.8202247191011237"
            ]
          },
          "metadata": {},
          "execution_count": 761
        }
      ]
    },
    {
      "cell_type": "code",
      "source": [
        "f1_score(y_test,y_pred_test)"
      ],
      "metadata": {
        "colab": {
          "base_uri": "https://localhost:8080/"
        },
        "id": "ahdgx8InEtA7",
        "outputId": "8e61fc0f-8771-4498-ca3b-4de3dcab6990"
      },
      "execution_count": null,
      "outputs": [
        {
          "output_type": "execute_result",
          "data": {
            "text/plain": [
              "0.7674418604651162"
            ]
          },
          "metadata": {},
          "execution_count": 762
        }
      ]
    },
    {
      "cell_type": "code",
      "source": [
        "print(classification_report(y_test,y_pred_test))"
      ],
      "metadata": {
        "colab": {
          "base_uri": "https://localhost:8080/"
        },
        "id": "9udC629mT7tp",
        "outputId": "a04eef6c-6992-4f20-ee42-1a3eb81432c9"
      },
      "execution_count": null,
      "outputs": [
        {
          "output_type": "stream",
          "name": "stdout",
          "text": [
            "              precision    recall  f1-score   support\n",
            "\n",
            "           0       1.00      1.00      1.00     22907\n",
            "           1       0.97      0.63      0.77        52\n",
            "\n",
            "    accuracy                           1.00     22959\n",
            "   macro avg       0.98      0.82      0.88     22959\n",
            "weighted avg       1.00      1.00      1.00     22959\n",
            "\n"
          ]
        }
      ]
    },
    {
      "cell_type": "code",
      "source": [
        "test_data = pd.read_csv('/content/test_data-1611220982388.csv')"
      ],
      "metadata": {
        "id": "HsbzZyCqE2SR"
      },
      "execution_count": null,
      "outputs": []
    },
    {
      "cell_type": "code",
      "source": [
        "test_data"
      ],
      "metadata": {
        "colab": {
          "base_uri": "https://localhost:8080/",
          "height": 661
        },
        "id": "CWmKISIVE2Ue",
        "outputId": "bdda6410-3fde-4145-8a05-9009bda179ef"
      },
      "execution_count": null,
      "outputs": [
        {
          "output_type": "execute_result",
          "data": {
            "text/plain": [
              "       transaction_number   user_id            payment_method  partner_id  \\\n",
              "0         857050141038272   3802500   visa_master_debit_cards      118335   \n",
              "1           4400462872603    200704         e_wallet_payments       23667   \n",
              "2        1207915598569499  25150225    sbi_atm_cum_debit_card       47334   \n",
              "3        2009725616777536  21827584  visa_master_credit_cards       78890   \n",
              "4        2319205210274863    576081         e_wallet_payments       23667   \n",
              "...                   ...       ...                       ...         ...   \n",
              "19128       5332775378111  13235044         e_wallet_payments       23667   \n",
              "19129     939262915465237  12257001         e_wallet_payments       78890   \n",
              "19130      18324574916544   5958481   visa_master_debit_cards       23667   \n",
              "19131     893473728055875  53919649    sbi_atm_cum_debit_card       78890   \n",
              "19132      84390778936647  14500864         e_wallet_payments       78890   \n",
              "\n",
              "      partner_category  country      device_type  money_transacted  \\\n",
              "0                cat_1  IND_INR        other_pcs             200.0   \n",
              "1                cat_2  IND_INR        other_pcs              20.0   \n",
              "2                cat_1  IND_INR  android_devices            -100.0   \n",
              "3                cat_2  IND_INR        other_pcs             200.0   \n",
              "4                cat_2  IND_INR        other_pcs             100.0   \n",
              "...                ...      ...              ...               ...   \n",
              "19128            cat_2  IND_INR        other_pcs              20.0   \n",
              "19129            cat_2  IND_INR        other_pcs              30.0   \n",
              "19130            cat_2  IND_INR        other_pcs              20.0   \n",
              "19131            cat_2  IND_INR  android_devices            -500.0   \n",
              "19132            cat_2  IND_INR        other_pcs              40.0   \n",
              "\n",
              "          transaction_initiation  partner_pricing_category  \n",
              "0      2016-12-28 14:44:37+00:00                         2  \n",
              "1      2016-12-14 17:49:48+00:00                         2  \n",
              "2      2017-01-21 10:18:11+00:00                         2  \n",
              "3      2017-01-16 13:25:10+00:00                         1  \n",
              "4      2017-02-09 12:47:28+00:00                         2  \n",
              "...                          ...                       ...  \n",
              "19128  2017-01-01 13:02:16+00:00                         2  \n",
              "19129  2016-12-26 19:41:23+00:00                         2  \n",
              "19130  2016-12-24 04:29:06+00:00                         4  \n",
              "19131  2016-12-04 15:38:47+00:00                         4  \n",
              "19132  2017-01-12 21:24:24+00:00                         2  \n",
              "\n",
              "[19133 rows x 10 columns]"
            ],
            "text/html": [
              "\n",
              "  <div id=\"df-eb9f2870-dd7d-4194-9ffa-e710b474d0c0\">\n",
              "    <div class=\"colab-df-container\">\n",
              "      <div>\n",
              "<style scoped>\n",
              "    .dataframe tbody tr th:only-of-type {\n",
              "        vertical-align: middle;\n",
              "    }\n",
              "\n",
              "    .dataframe tbody tr th {\n",
              "        vertical-align: top;\n",
              "    }\n",
              "\n",
              "    .dataframe thead th {\n",
              "        text-align: right;\n",
              "    }\n",
              "</style>\n",
              "<table border=\"1\" class=\"dataframe\">\n",
              "  <thead>\n",
              "    <tr style=\"text-align: right;\">\n",
              "      <th></th>\n",
              "      <th>transaction_number</th>\n",
              "      <th>user_id</th>\n",
              "      <th>payment_method</th>\n",
              "      <th>partner_id</th>\n",
              "      <th>partner_category</th>\n",
              "      <th>country</th>\n",
              "      <th>device_type</th>\n",
              "      <th>money_transacted</th>\n",
              "      <th>transaction_initiation</th>\n",
              "      <th>partner_pricing_category</th>\n",
              "    </tr>\n",
              "  </thead>\n",
              "  <tbody>\n",
              "    <tr>\n",
              "      <th>0</th>\n",
              "      <td>857050141038272</td>\n",
              "      <td>3802500</td>\n",
              "      <td>visa_master_debit_cards</td>\n",
              "      <td>118335</td>\n",
              "      <td>cat_1</td>\n",
              "      <td>IND_INR</td>\n",
              "      <td>other_pcs</td>\n",
              "      <td>200.0</td>\n",
              "      <td>2016-12-28 14:44:37+00:00</td>\n",
              "      <td>2</td>\n",
              "    </tr>\n",
              "    <tr>\n",
              "      <th>1</th>\n",
              "      <td>4400462872603</td>\n",
              "      <td>200704</td>\n",
              "      <td>e_wallet_payments</td>\n",
              "      <td>23667</td>\n",
              "      <td>cat_2</td>\n",
              "      <td>IND_INR</td>\n",
              "      <td>other_pcs</td>\n",
              "      <td>20.0</td>\n",
              "      <td>2016-12-14 17:49:48+00:00</td>\n",
              "      <td>2</td>\n",
              "    </tr>\n",
              "    <tr>\n",
              "      <th>2</th>\n",
              "      <td>1207915598569499</td>\n",
              "      <td>25150225</td>\n",
              "      <td>sbi_atm_cum_debit_card</td>\n",
              "      <td>47334</td>\n",
              "      <td>cat_1</td>\n",
              "      <td>IND_INR</td>\n",
              "      <td>android_devices</td>\n",
              "      <td>-100.0</td>\n",
              "      <td>2017-01-21 10:18:11+00:00</td>\n",
              "      <td>2</td>\n",
              "    </tr>\n",
              "    <tr>\n",
              "      <th>3</th>\n",
              "      <td>2009725616777536</td>\n",
              "      <td>21827584</td>\n",
              "      <td>visa_master_credit_cards</td>\n",
              "      <td>78890</td>\n",
              "      <td>cat_2</td>\n",
              "      <td>IND_INR</td>\n",
              "      <td>other_pcs</td>\n",
              "      <td>200.0</td>\n",
              "      <td>2017-01-16 13:25:10+00:00</td>\n",
              "      <td>1</td>\n",
              "    </tr>\n",
              "    <tr>\n",
              "      <th>4</th>\n",
              "      <td>2319205210274863</td>\n",
              "      <td>576081</td>\n",
              "      <td>e_wallet_payments</td>\n",
              "      <td>23667</td>\n",
              "      <td>cat_2</td>\n",
              "      <td>IND_INR</td>\n",
              "      <td>other_pcs</td>\n",
              "      <td>100.0</td>\n",
              "      <td>2017-02-09 12:47:28+00:00</td>\n",
              "      <td>2</td>\n",
              "    </tr>\n",
              "    <tr>\n",
              "      <th>...</th>\n",
              "      <td>...</td>\n",
              "      <td>...</td>\n",
              "      <td>...</td>\n",
              "      <td>...</td>\n",
              "      <td>...</td>\n",
              "      <td>...</td>\n",
              "      <td>...</td>\n",
              "      <td>...</td>\n",
              "      <td>...</td>\n",
              "      <td>...</td>\n",
              "    </tr>\n",
              "    <tr>\n",
              "      <th>19128</th>\n",
              "      <td>5332775378111</td>\n",
              "      <td>13235044</td>\n",
              "      <td>e_wallet_payments</td>\n",
              "      <td>23667</td>\n",
              "      <td>cat_2</td>\n",
              "      <td>IND_INR</td>\n",
              "      <td>other_pcs</td>\n",
              "      <td>20.0</td>\n",
              "      <td>2017-01-01 13:02:16+00:00</td>\n",
              "      <td>2</td>\n",
              "    </tr>\n",
              "    <tr>\n",
              "      <th>19129</th>\n",
              "      <td>939262915465237</td>\n",
              "      <td>12257001</td>\n",
              "      <td>e_wallet_payments</td>\n",
              "      <td>78890</td>\n",
              "      <td>cat_2</td>\n",
              "      <td>IND_INR</td>\n",
              "      <td>other_pcs</td>\n",
              "      <td>30.0</td>\n",
              "      <td>2016-12-26 19:41:23+00:00</td>\n",
              "      <td>2</td>\n",
              "    </tr>\n",
              "    <tr>\n",
              "      <th>19130</th>\n",
              "      <td>18324574916544</td>\n",
              "      <td>5958481</td>\n",
              "      <td>visa_master_debit_cards</td>\n",
              "      <td>23667</td>\n",
              "      <td>cat_2</td>\n",
              "      <td>IND_INR</td>\n",
              "      <td>other_pcs</td>\n",
              "      <td>20.0</td>\n",
              "      <td>2016-12-24 04:29:06+00:00</td>\n",
              "      <td>4</td>\n",
              "    </tr>\n",
              "    <tr>\n",
              "      <th>19131</th>\n",
              "      <td>893473728055875</td>\n",
              "      <td>53919649</td>\n",
              "      <td>sbi_atm_cum_debit_card</td>\n",
              "      <td>78890</td>\n",
              "      <td>cat_2</td>\n",
              "      <td>IND_INR</td>\n",
              "      <td>android_devices</td>\n",
              "      <td>-500.0</td>\n",
              "      <td>2016-12-04 15:38:47+00:00</td>\n",
              "      <td>4</td>\n",
              "    </tr>\n",
              "    <tr>\n",
              "      <th>19132</th>\n",
              "      <td>84390778936647</td>\n",
              "      <td>14500864</td>\n",
              "      <td>e_wallet_payments</td>\n",
              "      <td>78890</td>\n",
              "      <td>cat_2</td>\n",
              "      <td>IND_INR</td>\n",
              "      <td>other_pcs</td>\n",
              "      <td>40.0</td>\n",
              "      <td>2017-01-12 21:24:24+00:00</td>\n",
              "      <td>2</td>\n",
              "    </tr>\n",
              "  </tbody>\n",
              "</table>\n",
              "<p>19133 rows × 10 columns</p>\n",
              "</div>\n",
              "      <button class=\"colab-df-convert\" onclick=\"convertToInteractive('df-eb9f2870-dd7d-4194-9ffa-e710b474d0c0')\"\n",
              "              title=\"Convert this dataframe to an interactive table.\"\n",
              "              style=\"display:none;\">\n",
              "        \n",
              "  <svg xmlns=\"http://www.w3.org/2000/svg\" height=\"24px\"viewBox=\"0 0 24 24\"\n",
              "       width=\"24px\">\n",
              "    <path d=\"M0 0h24v24H0V0z\" fill=\"none\"/>\n",
              "    <path d=\"M18.56 5.44l.94 2.06.94-2.06 2.06-.94-2.06-.94-.94-2.06-.94 2.06-2.06.94zm-11 1L8.5 8.5l.94-2.06 2.06-.94-2.06-.94L8.5 2.5l-.94 2.06-2.06.94zm10 10l.94 2.06.94-2.06 2.06-.94-2.06-.94-.94-2.06-.94 2.06-2.06.94z\"/><path d=\"M17.41 7.96l-1.37-1.37c-.4-.4-.92-.59-1.43-.59-.52 0-1.04.2-1.43.59L10.3 9.45l-7.72 7.72c-.78.78-.78 2.05 0 2.83L4 21.41c.39.39.9.59 1.41.59.51 0 1.02-.2 1.41-.59l7.78-7.78 2.81-2.81c.8-.78.8-2.07 0-2.86zM5.41 20L4 18.59l7.72-7.72 1.47 1.35L5.41 20z\"/>\n",
              "  </svg>\n",
              "      </button>\n",
              "      \n",
              "  <style>\n",
              "    .colab-df-container {\n",
              "      display:flex;\n",
              "      flex-wrap:wrap;\n",
              "      gap: 12px;\n",
              "    }\n",
              "\n",
              "    .colab-df-convert {\n",
              "      background-color: #E8F0FE;\n",
              "      border: none;\n",
              "      border-radius: 50%;\n",
              "      cursor: pointer;\n",
              "      display: none;\n",
              "      fill: #1967D2;\n",
              "      height: 32px;\n",
              "      padding: 0 0 0 0;\n",
              "      width: 32px;\n",
              "    }\n",
              "\n",
              "    .colab-df-convert:hover {\n",
              "      background-color: #E2EBFA;\n",
              "      box-shadow: 0px 1px 2px rgba(60, 64, 67, 0.3), 0px 1px 3px 1px rgba(60, 64, 67, 0.15);\n",
              "      fill: #174EA6;\n",
              "    }\n",
              "\n",
              "    [theme=dark] .colab-df-convert {\n",
              "      background-color: #3B4455;\n",
              "      fill: #D2E3FC;\n",
              "    }\n",
              "\n",
              "    [theme=dark] .colab-df-convert:hover {\n",
              "      background-color: #434B5C;\n",
              "      box-shadow: 0px 1px 3px 1px rgba(0, 0, 0, 0.15);\n",
              "      filter: drop-shadow(0px 1px 2px rgba(0, 0, 0, 0.3));\n",
              "      fill: #FFFFFF;\n",
              "    }\n",
              "  </style>\n",
              "\n",
              "      <script>\n",
              "        const buttonEl =\n",
              "          document.querySelector('#df-eb9f2870-dd7d-4194-9ffa-e710b474d0c0 button.colab-df-convert');\n",
              "        buttonEl.style.display =\n",
              "          google.colab.kernel.accessAllowed ? 'block' : 'none';\n",
              "\n",
              "        async function convertToInteractive(key) {\n",
              "          const element = document.querySelector('#df-eb9f2870-dd7d-4194-9ffa-e710b474d0c0');\n",
              "          const dataTable =\n",
              "            await google.colab.kernel.invokeFunction('convertToInteractive',\n",
              "                                                     [key], {});\n",
              "          if (!dataTable) return;\n",
              "\n",
              "          const docLinkHtml = 'Like what you see? Visit the ' +\n",
              "            '<a target=\"_blank\" href=https://colab.research.google.com/notebooks/data_table.ipynb>data table notebook</a>'\n",
              "            + ' to learn more about interactive tables.';\n",
              "          element.innerHTML = '';\n",
              "          dataTable['output_type'] = 'display_data';\n",
              "          await google.colab.output.renderOutput(dataTable, element);\n",
              "          const docLink = document.createElement('div');\n",
              "          docLink.innerHTML = docLinkHtml;\n",
              "          element.appendChild(docLink);\n",
              "        }\n",
              "      </script>\n",
              "    </div>\n",
              "  </div>\n",
              "  "
            ]
          },
          "metadata": {},
          "execution_count": 765
        }
      ]
    },
    {
      "cell_type": "code",
      "source": [
        "test_data.head()"
      ],
      "metadata": {
        "colab": {
          "base_uri": "https://localhost:8080/",
          "height": 357
        },
        "id": "lqURwy1zE2XV",
        "outputId": "12e56b24-3c60-4b37-89c7-9234dbbf61fe"
      },
      "execution_count": null,
      "outputs": [
        {
          "output_type": "execute_result",
          "data": {
            "text/plain": [
              "   transaction_number   user_id            payment_method  partner_id  \\\n",
              "0     857050141038272   3802500   visa_master_debit_cards      118335   \n",
              "1       4400462872603    200704         e_wallet_payments       23667   \n",
              "2    1207915598569499  25150225    sbi_atm_cum_debit_card       47334   \n",
              "3    2009725616777536  21827584  visa_master_credit_cards       78890   \n",
              "4    2319205210274863    576081         e_wallet_payments       23667   \n",
              "\n",
              "  partner_category  country      device_type  money_transacted  \\\n",
              "0            cat_1  IND_INR        other_pcs             200.0   \n",
              "1            cat_2  IND_INR        other_pcs              20.0   \n",
              "2            cat_1  IND_INR  android_devices            -100.0   \n",
              "3            cat_2  IND_INR        other_pcs             200.0   \n",
              "4            cat_2  IND_INR        other_pcs             100.0   \n",
              "\n",
              "      transaction_initiation  partner_pricing_category  \n",
              "0  2016-12-28 14:44:37+00:00                         2  \n",
              "1  2016-12-14 17:49:48+00:00                         2  \n",
              "2  2017-01-21 10:18:11+00:00                         2  \n",
              "3  2017-01-16 13:25:10+00:00                         1  \n",
              "4  2017-02-09 12:47:28+00:00                         2  "
            ],
            "text/html": [
              "\n",
              "  <div id=\"df-dcfbbe68-9255-480a-b204-01bb6465d854\">\n",
              "    <div class=\"colab-df-container\">\n",
              "      <div>\n",
              "<style scoped>\n",
              "    .dataframe tbody tr th:only-of-type {\n",
              "        vertical-align: middle;\n",
              "    }\n",
              "\n",
              "    .dataframe tbody tr th {\n",
              "        vertical-align: top;\n",
              "    }\n",
              "\n",
              "    .dataframe thead th {\n",
              "        text-align: right;\n",
              "    }\n",
              "</style>\n",
              "<table border=\"1\" class=\"dataframe\">\n",
              "  <thead>\n",
              "    <tr style=\"text-align: right;\">\n",
              "      <th></th>\n",
              "      <th>transaction_number</th>\n",
              "      <th>user_id</th>\n",
              "      <th>payment_method</th>\n",
              "      <th>partner_id</th>\n",
              "      <th>partner_category</th>\n",
              "      <th>country</th>\n",
              "      <th>device_type</th>\n",
              "      <th>money_transacted</th>\n",
              "      <th>transaction_initiation</th>\n",
              "      <th>partner_pricing_category</th>\n",
              "    </tr>\n",
              "  </thead>\n",
              "  <tbody>\n",
              "    <tr>\n",
              "      <th>0</th>\n",
              "      <td>857050141038272</td>\n",
              "      <td>3802500</td>\n",
              "      <td>visa_master_debit_cards</td>\n",
              "      <td>118335</td>\n",
              "      <td>cat_1</td>\n",
              "      <td>IND_INR</td>\n",
              "      <td>other_pcs</td>\n",
              "      <td>200.0</td>\n",
              "      <td>2016-12-28 14:44:37+00:00</td>\n",
              "      <td>2</td>\n",
              "    </tr>\n",
              "    <tr>\n",
              "      <th>1</th>\n",
              "      <td>4400462872603</td>\n",
              "      <td>200704</td>\n",
              "      <td>e_wallet_payments</td>\n",
              "      <td>23667</td>\n",
              "      <td>cat_2</td>\n",
              "      <td>IND_INR</td>\n",
              "      <td>other_pcs</td>\n",
              "      <td>20.0</td>\n",
              "      <td>2016-12-14 17:49:48+00:00</td>\n",
              "      <td>2</td>\n",
              "    </tr>\n",
              "    <tr>\n",
              "      <th>2</th>\n",
              "      <td>1207915598569499</td>\n",
              "      <td>25150225</td>\n",
              "      <td>sbi_atm_cum_debit_card</td>\n",
              "      <td>47334</td>\n",
              "      <td>cat_1</td>\n",
              "      <td>IND_INR</td>\n",
              "      <td>android_devices</td>\n",
              "      <td>-100.0</td>\n",
              "      <td>2017-01-21 10:18:11+00:00</td>\n",
              "      <td>2</td>\n",
              "    </tr>\n",
              "    <tr>\n",
              "      <th>3</th>\n",
              "      <td>2009725616777536</td>\n",
              "      <td>21827584</td>\n",
              "      <td>visa_master_credit_cards</td>\n",
              "      <td>78890</td>\n",
              "      <td>cat_2</td>\n",
              "      <td>IND_INR</td>\n",
              "      <td>other_pcs</td>\n",
              "      <td>200.0</td>\n",
              "      <td>2017-01-16 13:25:10+00:00</td>\n",
              "      <td>1</td>\n",
              "    </tr>\n",
              "    <tr>\n",
              "      <th>4</th>\n",
              "      <td>2319205210274863</td>\n",
              "      <td>576081</td>\n",
              "      <td>e_wallet_payments</td>\n",
              "      <td>23667</td>\n",
              "      <td>cat_2</td>\n",
              "      <td>IND_INR</td>\n",
              "      <td>other_pcs</td>\n",
              "      <td>100.0</td>\n",
              "      <td>2017-02-09 12:47:28+00:00</td>\n",
              "      <td>2</td>\n",
              "    </tr>\n",
              "  </tbody>\n",
              "</table>\n",
              "</div>\n",
              "      <button class=\"colab-df-convert\" onclick=\"convertToInteractive('df-dcfbbe68-9255-480a-b204-01bb6465d854')\"\n",
              "              title=\"Convert this dataframe to an interactive table.\"\n",
              "              style=\"display:none;\">\n",
              "        \n",
              "  <svg xmlns=\"http://www.w3.org/2000/svg\" height=\"24px\"viewBox=\"0 0 24 24\"\n",
              "       width=\"24px\">\n",
              "    <path d=\"M0 0h24v24H0V0z\" fill=\"none\"/>\n",
              "    <path d=\"M18.56 5.44l.94 2.06.94-2.06 2.06-.94-2.06-.94-.94-2.06-.94 2.06-2.06.94zm-11 1L8.5 8.5l.94-2.06 2.06-.94-2.06-.94L8.5 2.5l-.94 2.06-2.06.94zm10 10l.94 2.06.94-2.06 2.06-.94-2.06-.94-.94-2.06-.94 2.06-2.06.94z\"/><path d=\"M17.41 7.96l-1.37-1.37c-.4-.4-.92-.59-1.43-.59-.52 0-1.04.2-1.43.59L10.3 9.45l-7.72 7.72c-.78.78-.78 2.05 0 2.83L4 21.41c.39.39.9.59 1.41.59.51 0 1.02-.2 1.41-.59l7.78-7.78 2.81-2.81c.8-.78.8-2.07 0-2.86zM5.41 20L4 18.59l7.72-7.72 1.47 1.35L5.41 20z\"/>\n",
              "  </svg>\n",
              "      </button>\n",
              "      \n",
              "  <style>\n",
              "    .colab-df-container {\n",
              "      display:flex;\n",
              "      flex-wrap:wrap;\n",
              "      gap: 12px;\n",
              "    }\n",
              "\n",
              "    .colab-df-convert {\n",
              "      background-color: #E8F0FE;\n",
              "      border: none;\n",
              "      border-radius: 50%;\n",
              "      cursor: pointer;\n",
              "      display: none;\n",
              "      fill: #1967D2;\n",
              "      height: 32px;\n",
              "      padding: 0 0 0 0;\n",
              "      width: 32px;\n",
              "    }\n",
              "\n",
              "    .colab-df-convert:hover {\n",
              "      background-color: #E2EBFA;\n",
              "      box-shadow: 0px 1px 2px rgba(60, 64, 67, 0.3), 0px 1px 3px 1px rgba(60, 64, 67, 0.15);\n",
              "      fill: #174EA6;\n",
              "    }\n",
              "\n",
              "    [theme=dark] .colab-df-convert {\n",
              "      background-color: #3B4455;\n",
              "      fill: #D2E3FC;\n",
              "    }\n",
              "\n",
              "    [theme=dark] .colab-df-convert:hover {\n",
              "      background-color: #434B5C;\n",
              "      box-shadow: 0px 1px 3px 1px rgba(0, 0, 0, 0.15);\n",
              "      filter: drop-shadow(0px 1px 2px rgba(0, 0, 0, 0.3));\n",
              "      fill: #FFFFFF;\n",
              "    }\n",
              "  </style>\n",
              "\n",
              "      <script>\n",
              "        const buttonEl =\n",
              "          document.querySelector('#df-dcfbbe68-9255-480a-b204-01bb6465d854 button.colab-df-convert');\n",
              "        buttonEl.style.display =\n",
              "          google.colab.kernel.accessAllowed ? 'block' : 'none';\n",
              "\n",
              "        async function convertToInteractive(key) {\n",
              "          const element = document.querySelector('#df-dcfbbe68-9255-480a-b204-01bb6465d854');\n",
              "          const dataTable =\n",
              "            await google.colab.kernel.invokeFunction('convertToInteractive',\n",
              "                                                     [key], {});\n",
              "          if (!dataTable) return;\n",
              "\n",
              "          const docLinkHtml = 'Like what you see? Visit the ' +\n",
              "            '<a target=\"_blank\" href=https://colab.research.google.com/notebooks/data_table.ipynb>data table notebook</a>'\n",
              "            + ' to learn more about interactive tables.';\n",
              "          element.innerHTML = '';\n",
              "          dataTable['output_type'] = 'display_data';\n",
              "          await google.colab.output.renderOutput(dataTable, element);\n",
              "          const docLink = document.createElement('div');\n",
              "          docLink.innerHTML = docLinkHtml;\n",
              "          element.appendChild(docLink);\n",
              "        }\n",
              "      </script>\n",
              "    </div>\n",
              "  </div>\n",
              "  "
            ]
          },
          "metadata": {},
          "execution_count": 766
        }
      ]
    },
    {
      "cell_type": "code",
      "source": [
        "test_data.tail()"
      ],
      "metadata": {
        "colab": {
          "base_uri": "https://localhost:8080/",
          "height": 357
        },
        "id": "dPRL2_-cGSzQ",
        "outputId": "1c1ce6b3-fd32-4ab5-ba12-fb4d5b0e5b80"
      },
      "execution_count": null,
      "outputs": [
        {
          "output_type": "execute_result",
          "data": {
            "text/plain": [
              "       transaction_number   user_id           payment_method  partner_id  \\\n",
              "19128       5332775378111  13235044        e_wallet_payments       23667   \n",
              "19129     939262915465237  12257001        e_wallet_payments       78890   \n",
              "19130      18324574916544   5958481  visa_master_debit_cards       23667   \n",
              "19131     893473728055875  53919649   sbi_atm_cum_debit_card       78890   \n",
              "19132      84390778936647  14500864        e_wallet_payments       78890   \n",
              "\n",
              "      partner_category  country      device_type  money_transacted  \\\n",
              "19128            cat_2  IND_INR        other_pcs              20.0   \n",
              "19129            cat_2  IND_INR        other_pcs              30.0   \n",
              "19130            cat_2  IND_INR        other_pcs              20.0   \n",
              "19131            cat_2  IND_INR  android_devices            -500.0   \n",
              "19132            cat_2  IND_INR        other_pcs              40.0   \n",
              "\n",
              "          transaction_initiation  partner_pricing_category  \n",
              "19128  2017-01-01 13:02:16+00:00                         2  \n",
              "19129  2016-12-26 19:41:23+00:00                         2  \n",
              "19130  2016-12-24 04:29:06+00:00                         4  \n",
              "19131  2016-12-04 15:38:47+00:00                         4  \n",
              "19132  2017-01-12 21:24:24+00:00                         2  "
            ],
            "text/html": [
              "\n",
              "  <div id=\"df-18dbd5ed-5bd1-425f-9b6e-b20716e8192c\">\n",
              "    <div class=\"colab-df-container\">\n",
              "      <div>\n",
              "<style scoped>\n",
              "    .dataframe tbody tr th:only-of-type {\n",
              "        vertical-align: middle;\n",
              "    }\n",
              "\n",
              "    .dataframe tbody tr th {\n",
              "        vertical-align: top;\n",
              "    }\n",
              "\n",
              "    .dataframe thead th {\n",
              "        text-align: right;\n",
              "    }\n",
              "</style>\n",
              "<table border=\"1\" class=\"dataframe\">\n",
              "  <thead>\n",
              "    <tr style=\"text-align: right;\">\n",
              "      <th></th>\n",
              "      <th>transaction_number</th>\n",
              "      <th>user_id</th>\n",
              "      <th>payment_method</th>\n",
              "      <th>partner_id</th>\n",
              "      <th>partner_category</th>\n",
              "      <th>country</th>\n",
              "      <th>device_type</th>\n",
              "      <th>money_transacted</th>\n",
              "      <th>transaction_initiation</th>\n",
              "      <th>partner_pricing_category</th>\n",
              "    </tr>\n",
              "  </thead>\n",
              "  <tbody>\n",
              "    <tr>\n",
              "      <th>19128</th>\n",
              "      <td>5332775378111</td>\n",
              "      <td>13235044</td>\n",
              "      <td>e_wallet_payments</td>\n",
              "      <td>23667</td>\n",
              "      <td>cat_2</td>\n",
              "      <td>IND_INR</td>\n",
              "      <td>other_pcs</td>\n",
              "      <td>20.0</td>\n",
              "      <td>2017-01-01 13:02:16+00:00</td>\n",
              "      <td>2</td>\n",
              "    </tr>\n",
              "    <tr>\n",
              "      <th>19129</th>\n",
              "      <td>939262915465237</td>\n",
              "      <td>12257001</td>\n",
              "      <td>e_wallet_payments</td>\n",
              "      <td>78890</td>\n",
              "      <td>cat_2</td>\n",
              "      <td>IND_INR</td>\n",
              "      <td>other_pcs</td>\n",
              "      <td>30.0</td>\n",
              "      <td>2016-12-26 19:41:23+00:00</td>\n",
              "      <td>2</td>\n",
              "    </tr>\n",
              "    <tr>\n",
              "      <th>19130</th>\n",
              "      <td>18324574916544</td>\n",
              "      <td>5958481</td>\n",
              "      <td>visa_master_debit_cards</td>\n",
              "      <td>23667</td>\n",
              "      <td>cat_2</td>\n",
              "      <td>IND_INR</td>\n",
              "      <td>other_pcs</td>\n",
              "      <td>20.0</td>\n",
              "      <td>2016-12-24 04:29:06+00:00</td>\n",
              "      <td>4</td>\n",
              "    </tr>\n",
              "    <tr>\n",
              "      <th>19131</th>\n",
              "      <td>893473728055875</td>\n",
              "      <td>53919649</td>\n",
              "      <td>sbi_atm_cum_debit_card</td>\n",
              "      <td>78890</td>\n",
              "      <td>cat_2</td>\n",
              "      <td>IND_INR</td>\n",
              "      <td>android_devices</td>\n",
              "      <td>-500.0</td>\n",
              "      <td>2016-12-04 15:38:47+00:00</td>\n",
              "      <td>4</td>\n",
              "    </tr>\n",
              "    <tr>\n",
              "      <th>19132</th>\n",
              "      <td>84390778936647</td>\n",
              "      <td>14500864</td>\n",
              "      <td>e_wallet_payments</td>\n",
              "      <td>78890</td>\n",
              "      <td>cat_2</td>\n",
              "      <td>IND_INR</td>\n",
              "      <td>other_pcs</td>\n",
              "      <td>40.0</td>\n",
              "      <td>2017-01-12 21:24:24+00:00</td>\n",
              "      <td>2</td>\n",
              "    </tr>\n",
              "  </tbody>\n",
              "</table>\n",
              "</div>\n",
              "      <button class=\"colab-df-convert\" onclick=\"convertToInteractive('df-18dbd5ed-5bd1-425f-9b6e-b20716e8192c')\"\n",
              "              title=\"Convert this dataframe to an interactive table.\"\n",
              "              style=\"display:none;\">\n",
              "        \n",
              "  <svg xmlns=\"http://www.w3.org/2000/svg\" height=\"24px\"viewBox=\"0 0 24 24\"\n",
              "       width=\"24px\">\n",
              "    <path d=\"M0 0h24v24H0V0z\" fill=\"none\"/>\n",
              "    <path d=\"M18.56 5.44l.94 2.06.94-2.06 2.06-.94-2.06-.94-.94-2.06-.94 2.06-2.06.94zm-11 1L8.5 8.5l.94-2.06 2.06-.94-2.06-.94L8.5 2.5l-.94 2.06-2.06.94zm10 10l.94 2.06.94-2.06 2.06-.94-2.06-.94-.94-2.06-.94 2.06-2.06.94z\"/><path d=\"M17.41 7.96l-1.37-1.37c-.4-.4-.92-.59-1.43-.59-.52 0-1.04.2-1.43.59L10.3 9.45l-7.72 7.72c-.78.78-.78 2.05 0 2.83L4 21.41c.39.39.9.59 1.41.59.51 0 1.02-.2 1.41-.59l7.78-7.78 2.81-2.81c.8-.78.8-2.07 0-2.86zM5.41 20L4 18.59l7.72-7.72 1.47 1.35L5.41 20z\"/>\n",
              "  </svg>\n",
              "      </button>\n",
              "      \n",
              "  <style>\n",
              "    .colab-df-container {\n",
              "      display:flex;\n",
              "      flex-wrap:wrap;\n",
              "      gap: 12px;\n",
              "    }\n",
              "\n",
              "    .colab-df-convert {\n",
              "      background-color: #E8F0FE;\n",
              "      border: none;\n",
              "      border-radius: 50%;\n",
              "      cursor: pointer;\n",
              "      display: none;\n",
              "      fill: #1967D2;\n",
              "      height: 32px;\n",
              "      padding: 0 0 0 0;\n",
              "      width: 32px;\n",
              "    }\n",
              "\n",
              "    .colab-df-convert:hover {\n",
              "      background-color: #E2EBFA;\n",
              "      box-shadow: 0px 1px 2px rgba(60, 64, 67, 0.3), 0px 1px 3px 1px rgba(60, 64, 67, 0.15);\n",
              "      fill: #174EA6;\n",
              "    }\n",
              "\n",
              "    [theme=dark] .colab-df-convert {\n",
              "      background-color: #3B4455;\n",
              "      fill: #D2E3FC;\n",
              "    }\n",
              "\n",
              "    [theme=dark] .colab-df-convert:hover {\n",
              "      background-color: #434B5C;\n",
              "      box-shadow: 0px 1px 3px 1px rgba(0, 0, 0, 0.15);\n",
              "      filter: drop-shadow(0px 1px 2px rgba(0, 0, 0, 0.3));\n",
              "      fill: #FFFFFF;\n",
              "    }\n",
              "  </style>\n",
              "\n",
              "      <script>\n",
              "        const buttonEl =\n",
              "          document.querySelector('#df-18dbd5ed-5bd1-425f-9b6e-b20716e8192c button.colab-df-convert');\n",
              "        buttonEl.style.display =\n",
              "          google.colab.kernel.accessAllowed ? 'block' : 'none';\n",
              "\n",
              "        async function convertToInteractive(key) {\n",
              "          const element = document.querySelector('#df-18dbd5ed-5bd1-425f-9b6e-b20716e8192c');\n",
              "          const dataTable =\n",
              "            await google.colab.kernel.invokeFunction('convertToInteractive',\n",
              "                                                     [key], {});\n",
              "          if (!dataTable) return;\n",
              "\n",
              "          const docLinkHtml = 'Like what you see? Visit the ' +\n",
              "            '<a target=\"_blank\" href=https://colab.research.google.com/notebooks/data_table.ipynb>data table notebook</a>'\n",
              "            + ' to learn more about interactive tables.';\n",
              "          element.innerHTML = '';\n",
              "          dataTable['output_type'] = 'display_data';\n",
              "          await google.colab.output.renderOutput(dataTable, element);\n",
              "          const docLink = document.createElement('div');\n",
              "          docLink.innerHTML = docLinkHtml;\n",
              "          element.appendChild(docLink);\n",
              "        }\n",
              "      </script>\n",
              "    </div>\n",
              "  </div>\n",
              "  "
            ]
          },
          "metadata": {},
          "execution_count": 767
        }
      ]
    },
    {
      "cell_type": "code",
      "source": [
        "test_data.shape"
      ],
      "metadata": {
        "colab": {
          "base_uri": "https://localhost:8080/"
        },
        "id": "rQKw4WjhGXWB",
        "outputId": "427dcf8b-9251-48b3-a9ca-fa41472ebbe7"
      },
      "execution_count": null,
      "outputs": [
        {
          "output_type": "execute_result",
          "data": {
            "text/plain": [
              "(19133, 10)"
            ]
          },
          "metadata": {},
          "execution_count": 768
        }
      ]
    },
    {
      "cell_type": "code",
      "source": [
        "test_data.columns"
      ],
      "metadata": {
        "colab": {
          "base_uri": "https://localhost:8080/"
        },
        "id": "LEaoN1DqGawG",
        "outputId": "af0ac899-73aa-4cc7-e9bd-cfb7fdc1ad54"
      },
      "execution_count": null,
      "outputs": [
        {
          "output_type": "execute_result",
          "data": {
            "text/plain": [
              "Index(['transaction_number', 'user_id', 'payment_method', 'partner_id',\n",
              "       'partner_category', 'country', 'device_type', 'money_transacted',\n",
              "       'transaction_initiation', 'partner_pricing_category'],\n",
              "      dtype='object')"
            ]
          },
          "metadata": {},
          "execution_count": 769
        }
      ]
    },
    {
      "cell_type": "code",
      "source": [
        "test_data.describe(include='all')"
      ],
      "metadata": {
        "colab": {
          "base_uri": "https://localhost:8080/",
          "height": 476
        },
        "id": "ArJPXrITGi-u",
        "outputId": "011274d1-aa9e-4599-8de0-cc11650f31ef"
      },
      "execution_count": null,
      "outputs": [
        {
          "output_type": "execute_result",
          "data": {
            "text/plain": [
              "        transaction_number       user_id          payment_method  \\\n",
              "count         1.913300e+04  1.913300e+04                   19133   \n",
              "unique                 NaN           NaN                       6   \n",
              "top                    NaN           NaN  sbi_atm_cum_debit_card   \n",
              "freq                   NaN           NaN                    7651   \n",
              "mean          7.037622e+14  1.261609e+07                     NaN   \n",
              "std           7.946458e+14  1.228365e+07                     NaN   \n",
              "min           1.000000e+00  3.600000e+01                     NaN   \n",
              "25%           4.313645e+13  3.515625e+06                     NaN   \n",
              "50%           3.585617e+14  9.922500e+06                     NaN   \n",
              "75%           1.184018e+15  1.796064e+07                     NaN   \n",
              "max           2.783822e+15  5.593544e+07                     NaN   \n",
              "\n",
              "           partner_id partner_category  country device_type  money_transacted  \\\n",
              "count    19133.000000            19133    19133       19133      19133.000000   \n",
              "unique            NaN                8        1           4               NaN   \n",
              "top               NaN            cat_1  IND_INR   other_pcs               NaN   \n",
              "freq              NaN             9099    19133       11375               NaN   \n",
              "mean     58656.424084              NaN      NaN         NaN        140.886995   \n",
              "std      36692.507399              NaN      NaN         NaN       2883.975048   \n",
              "min       7889.000000              NaN      NaN         NaN     -20000.000000   \n",
              "25%      23667.000000              NaN      NaN         NaN         -1.000000   \n",
              "50%      47334.000000              NaN      NaN         NaN         20.000000   \n",
              "75%      78890.000000              NaN      NaN         NaN         60.000000   \n",
              "max     213003.000000              NaN      NaN         NaN     197600.000000   \n",
              "\n",
              "           transaction_initiation  partner_pricing_category  \n",
              "count                       19133              19133.000000  \n",
              "unique                      19090                       NaN  \n",
              "top     2016-12-24 16:30:13+00:00                       NaN  \n",
              "freq                            5                       NaN  \n",
              "mean                          NaN                  2.257043  \n",
              "std                           NaN                  0.735934  \n",
              "min                           NaN                  0.000000  \n",
              "25%                           NaN                  2.000000  \n",
              "50%                           NaN                  2.000000  \n",
              "75%                           NaN                  2.000000  \n",
              "max                           NaN                  4.000000  "
            ],
            "text/html": [
              "\n",
              "  <div id=\"df-96a93f4d-9290-428c-b19d-cb370348a6e1\">\n",
              "    <div class=\"colab-df-container\">\n",
              "      <div>\n",
              "<style scoped>\n",
              "    .dataframe tbody tr th:only-of-type {\n",
              "        vertical-align: middle;\n",
              "    }\n",
              "\n",
              "    .dataframe tbody tr th {\n",
              "        vertical-align: top;\n",
              "    }\n",
              "\n",
              "    .dataframe thead th {\n",
              "        text-align: right;\n",
              "    }\n",
              "</style>\n",
              "<table border=\"1\" class=\"dataframe\">\n",
              "  <thead>\n",
              "    <tr style=\"text-align: right;\">\n",
              "      <th></th>\n",
              "      <th>transaction_number</th>\n",
              "      <th>user_id</th>\n",
              "      <th>payment_method</th>\n",
              "      <th>partner_id</th>\n",
              "      <th>partner_category</th>\n",
              "      <th>country</th>\n",
              "      <th>device_type</th>\n",
              "      <th>money_transacted</th>\n",
              "      <th>transaction_initiation</th>\n",
              "      <th>partner_pricing_category</th>\n",
              "    </tr>\n",
              "  </thead>\n",
              "  <tbody>\n",
              "    <tr>\n",
              "      <th>count</th>\n",
              "      <td>1.913300e+04</td>\n",
              "      <td>1.913300e+04</td>\n",
              "      <td>19133</td>\n",
              "      <td>19133.000000</td>\n",
              "      <td>19133</td>\n",
              "      <td>19133</td>\n",
              "      <td>19133</td>\n",
              "      <td>19133.000000</td>\n",
              "      <td>19133</td>\n",
              "      <td>19133.000000</td>\n",
              "    </tr>\n",
              "    <tr>\n",
              "      <th>unique</th>\n",
              "      <td>NaN</td>\n",
              "      <td>NaN</td>\n",
              "      <td>6</td>\n",
              "      <td>NaN</td>\n",
              "      <td>8</td>\n",
              "      <td>1</td>\n",
              "      <td>4</td>\n",
              "      <td>NaN</td>\n",
              "      <td>19090</td>\n",
              "      <td>NaN</td>\n",
              "    </tr>\n",
              "    <tr>\n",
              "      <th>top</th>\n",
              "      <td>NaN</td>\n",
              "      <td>NaN</td>\n",
              "      <td>sbi_atm_cum_debit_card</td>\n",
              "      <td>NaN</td>\n",
              "      <td>cat_1</td>\n",
              "      <td>IND_INR</td>\n",
              "      <td>other_pcs</td>\n",
              "      <td>NaN</td>\n",
              "      <td>2016-12-24 16:30:13+00:00</td>\n",
              "      <td>NaN</td>\n",
              "    </tr>\n",
              "    <tr>\n",
              "      <th>freq</th>\n",
              "      <td>NaN</td>\n",
              "      <td>NaN</td>\n",
              "      <td>7651</td>\n",
              "      <td>NaN</td>\n",
              "      <td>9099</td>\n",
              "      <td>19133</td>\n",
              "      <td>11375</td>\n",
              "      <td>NaN</td>\n",
              "      <td>5</td>\n",
              "      <td>NaN</td>\n",
              "    </tr>\n",
              "    <tr>\n",
              "      <th>mean</th>\n",
              "      <td>7.037622e+14</td>\n",
              "      <td>1.261609e+07</td>\n",
              "      <td>NaN</td>\n",
              "      <td>58656.424084</td>\n",
              "      <td>NaN</td>\n",
              "      <td>NaN</td>\n",
              "      <td>NaN</td>\n",
              "      <td>140.886995</td>\n",
              "      <td>NaN</td>\n",
              "      <td>2.257043</td>\n",
              "    </tr>\n",
              "    <tr>\n",
              "      <th>std</th>\n",
              "      <td>7.946458e+14</td>\n",
              "      <td>1.228365e+07</td>\n",
              "      <td>NaN</td>\n",
              "      <td>36692.507399</td>\n",
              "      <td>NaN</td>\n",
              "      <td>NaN</td>\n",
              "      <td>NaN</td>\n",
              "      <td>2883.975048</td>\n",
              "      <td>NaN</td>\n",
              "      <td>0.735934</td>\n",
              "    </tr>\n",
              "    <tr>\n",
              "      <th>min</th>\n",
              "      <td>1.000000e+00</td>\n",
              "      <td>3.600000e+01</td>\n",
              "      <td>NaN</td>\n",
              "      <td>7889.000000</td>\n",
              "      <td>NaN</td>\n",
              "      <td>NaN</td>\n",
              "      <td>NaN</td>\n",
              "      <td>-20000.000000</td>\n",
              "      <td>NaN</td>\n",
              "      <td>0.000000</td>\n",
              "    </tr>\n",
              "    <tr>\n",
              "      <th>25%</th>\n",
              "      <td>4.313645e+13</td>\n",
              "      <td>3.515625e+06</td>\n",
              "      <td>NaN</td>\n",
              "      <td>23667.000000</td>\n",
              "      <td>NaN</td>\n",
              "      <td>NaN</td>\n",
              "      <td>NaN</td>\n",
              "      <td>-1.000000</td>\n",
              "      <td>NaN</td>\n",
              "      <td>2.000000</td>\n",
              "    </tr>\n",
              "    <tr>\n",
              "      <th>50%</th>\n",
              "      <td>3.585617e+14</td>\n",
              "      <td>9.922500e+06</td>\n",
              "      <td>NaN</td>\n",
              "      <td>47334.000000</td>\n",
              "      <td>NaN</td>\n",
              "      <td>NaN</td>\n",
              "      <td>NaN</td>\n",
              "      <td>20.000000</td>\n",
              "      <td>NaN</td>\n",
              "      <td>2.000000</td>\n",
              "    </tr>\n",
              "    <tr>\n",
              "      <th>75%</th>\n",
              "      <td>1.184018e+15</td>\n",
              "      <td>1.796064e+07</td>\n",
              "      <td>NaN</td>\n",
              "      <td>78890.000000</td>\n",
              "      <td>NaN</td>\n",
              "      <td>NaN</td>\n",
              "      <td>NaN</td>\n",
              "      <td>60.000000</td>\n",
              "      <td>NaN</td>\n",
              "      <td>2.000000</td>\n",
              "    </tr>\n",
              "    <tr>\n",
              "      <th>max</th>\n",
              "      <td>2.783822e+15</td>\n",
              "      <td>5.593544e+07</td>\n",
              "      <td>NaN</td>\n",
              "      <td>213003.000000</td>\n",
              "      <td>NaN</td>\n",
              "      <td>NaN</td>\n",
              "      <td>NaN</td>\n",
              "      <td>197600.000000</td>\n",
              "      <td>NaN</td>\n",
              "      <td>4.000000</td>\n",
              "    </tr>\n",
              "  </tbody>\n",
              "</table>\n",
              "</div>\n",
              "      <button class=\"colab-df-convert\" onclick=\"convertToInteractive('df-96a93f4d-9290-428c-b19d-cb370348a6e1')\"\n",
              "              title=\"Convert this dataframe to an interactive table.\"\n",
              "              style=\"display:none;\">\n",
              "        \n",
              "  <svg xmlns=\"http://www.w3.org/2000/svg\" height=\"24px\"viewBox=\"0 0 24 24\"\n",
              "       width=\"24px\">\n",
              "    <path d=\"M0 0h24v24H0V0z\" fill=\"none\"/>\n",
              "    <path d=\"M18.56 5.44l.94 2.06.94-2.06 2.06-.94-2.06-.94-.94-2.06-.94 2.06-2.06.94zm-11 1L8.5 8.5l.94-2.06 2.06-.94-2.06-.94L8.5 2.5l-.94 2.06-2.06.94zm10 10l.94 2.06.94-2.06 2.06-.94-2.06-.94-.94-2.06-.94 2.06-2.06.94z\"/><path d=\"M17.41 7.96l-1.37-1.37c-.4-.4-.92-.59-1.43-.59-.52 0-1.04.2-1.43.59L10.3 9.45l-7.72 7.72c-.78.78-.78 2.05 0 2.83L4 21.41c.39.39.9.59 1.41.59.51 0 1.02-.2 1.41-.59l7.78-7.78 2.81-2.81c.8-.78.8-2.07 0-2.86zM5.41 20L4 18.59l7.72-7.72 1.47 1.35L5.41 20z\"/>\n",
              "  </svg>\n",
              "      </button>\n",
              "      \n",
              "  <style>\n",
              "    .colab-df-container {\n",
              "      display:flex;\n",
              "      flex-wrap:wrap;\n",
              "      gap: 12px;\n",
              "    }\n",
              "\n",
              "    .colab-df-convert {\n",
              "      background-color: #E8F0FE;\n",
              "      border: none;\n",
              "      border-radius: 50%;\n",
              "      cursor: pointer;\n",
              "      display: none;\n",
              "      fill: #1967D2;\n",
              "      height: 32px;\n",
              "      padding: 0 0 0 0;\n",
              "      width: 32px;\n",
              "    }\n",
              "\n",
              "    .colab-df-convert:hover {\n",
              "      background-color: #E2EBFA;\n",
              "      box-shadow: 0px 1px 2px rgba(60, 64, 67, 0.3), 0px 1px 3px 1px rgba(60, 64, 67, 0.15);\n",
              "      fill: #174EA6;\n",
              "    }\n",
              "\n",
              "    [theme=dark] .colab-df-convert {\n",
              "      background-color: #3B4455;\n",
              "      fill: #D2E3FC;\n",
              "    }\n",
              "\n",
              "    [theme=dark] .colab-df-convert:hover {\n",
              "      background-color: #434B5C;\n",
              "      box-shadow: 0px 1px 3px 1px rgba(0, 0, 0, 0.15);\n",
              "      filter: drop-shadow(0px 1px 2px rgba(0, 0, 0, 0.3));\n",
              "      fill: #FFFFFF;\n",
              "    }\n",
              "  </style>\n",
              "\n",
              "      <script>\n",
              "        const buttonEl =\n",
              "          document.querySelector('#df-96a93f4d-9290-428c-b19d-cb370348a6e1 button.colab-df-convert');\n",
              "        buttonEl.style.display =\n",
              "          google.colab.kernel.accessAllowed ? 'block' : 'none';\n",
              "\n",
              "        async function convertToInteractive(key) {\n",
              "          const element = document.querySelector('#df-96a93f4d-9290-428c-b19d-cb370348a6e1');\n",
              "          const dataTable =\n",
              "            await google.colab.kernel.invokeFunction('convertToInteractive',\n",
              "                                                     [key], {});\n",
              "          if (!dataTable) return;\n",
              "\n",
              "          const docLinkHtml = 'Like what you see? Visit the ' +\n",
              "            '<a target=\"_blank\" href=https://colab.research.google.com/notebooks/data_table.ipynb>data table notebook</a>'\n",
              "            + ' to learn more about interactive tables.';\n",
              "          element.innerHTML = '';\n",
              "          dataTable['output_type'] = 'display_data';\n",
              "          await google.colab.output.renderOutput(dataTable, element);\n",
              "          const docLink = document.createElement('div');\n",
              "          docLink.innerHTML = docLinkHtml;\n",
              "          element.appendChild(docLink);\n",
              "        }\n",
              "      </script>\n",
              "    </div>\n",
              "  </div>\n",
              "  "
            ]
          },
          "metadata": {},
          "execution_count": 770
        }
      ]
    },
    {
      "cell_type": "code",
      "source": [
        "test_data.dtypes"
      ],
      "metadata": {
        "colab": {
          "base_uri": "https://localhost:8080/"
        },
        "id": "J0t_TaoGGq3t",
        "outputId": "5d16404c-5492-4dd0-c149-0ba995182318"
      },
      "execution_count": null,
      "outputs": [
        {
          "output_type": "execute_result",
          "data": {
            "text/plain": [
              "transaction_number            int64\n",
              "user_id                       int64\n",
              "payment_method               object\n",
              "partner_id                    int64\n",
              "partner_category             object\n",
              "country                      object\n",
              "device_type                  object\n",
              "money_transacted            float64\n",
              "transaction_initiation       object\n",
              "partner_pricing_category      int64\n",
              "dtype: object"
            ]
          },
          "metadata": {},
          "execution_count": 771
        }
      ]
    },
    {
      "cell_type": "code",
      "source": [
        "import seaborn as sns\n",
        "sns.heatmap(test_data.corr(),cmap='Blues',annot=True)"
      ],
      "metadata": {
        "colab": {
          "base_uri": "https://localhost:8080/",
          "height": 402
        },
        "id": "1aEcEn-RR_dc",
        "outputId": "52867925-166a-4f56-879e-db90e8d57e90"
      },
      "execution_count": null,
      "outputs": [
        {
          "output_type": "execute_result",
          "data": {
            "text/plain": [
              "<matplotlib.axes._subplots.AxesSubplot at 0x7fbdd4dc38d0>"
            ]
          },
          "metadata": {},
          "execution_count": 772
        },
        {
          "output_type": "display_data",
          "data": {
            "text/plain": [
              "<Figure size 432x288 with 2 Axes>"
            ],
            "image/png": "[encoded data removed]"
          },
          "metadata": {
            "needs_background": "light"
          }
        }
      ]
    },
    {
      "cell_type": "code",
      "source": [
        "obj_attr=test_data.select_dtypes('object').columns\n",
        "for i in obj_attr:\n",
        "  print(test_data[i].nunique())\n",
        "  print(test_data[i].value_counts())"
      ],
      "metadata": {
        "colab": {
          "base_uri": "https://localhost:8080/"
        },
        "id": "FZZ1-oV0Ucas",
        "outputId": "71fcce70-7472-4ffb-93cb-6a5bc92282e3"
      },
      "execution_count": null,
      "outputs": [
        {
          "output_type": "stream",
          "name": "stdout",
          "text": [
            "6\n",
            "sbi_atm_cum_debit_card        7651\n",
            "e_wallet_payments             6802\n",
            "visa_master_debit_cards       2899\n",
            "other_debit_cards             1148\n",
            "visa_master_credit_cards       630\n",
            "unified_payments_interface       3\n",
            "Name: payment_method, dtype: int64\n",
            "8\n",
            "cat_1    9099\n",
            "cat_2    9008\n",
            "cat_3     384\n",
            "cat_4     303\n",
            "cat_5     253\n",
            "cat_7      51\n",
            "cat_6      29\n",
            "cat_8       6\n",
            "Name: partner_category, dtype: int64\n",
            "1\n",
            "IND_INR    19133\n",
            "Name: country, dtype: int64\n",
            "4\n",
            "other_pcs          11375\n",
            "android_devices     7479\n",
            "ios_devices          172\n",
            "windows_pcs          107\n",
            "Name: device_type, dtype: int64\n",
            "19090\n",
            "2016-12-24 16:30:13+00:00    5\n",
            "2016-11-15 07:03:27+00:00    3\n",
            "2017-02-10 06:17:49+00:00    2\n",
            "2017-02-01 12:06:41+00:00    2\n",
            "2016-12-23 12:07:37+00:00    2\n",
            "                            ..\n",
            "2017-02-01 05:47:20+00:00    1\n",
            "2016-12-07 06:07:40+00:00    1\n",
            "2017-01-04 09:59:06+00:00    1\n",
            "2017-01-08 11:04:18+00:00    1\n",
            "2017-01-12 21:24:24+00:00    1\n",
            "Name: transaction_initiation, Length: 19090, dtype: int64\n"
          ]
        }
      ]
    },
    {
      "cell_type": "code",
      "source": [
        "test_data.drop([\"partner_id\",\"country\"],axis=1,inplace=True)"
      ],
      "metadata": {
        "id": "r4eWUc4hUqXG"
      },
      "execution_count": null,
      "outputs": []
    },
    {
      "cell_type": "code",
      "source": [
        "test_data.columns"
      ],
      "metadata": {
        "colab": {
          "base_uri": "https://localhost:8080/"
        },
        "id": "-FBW7HsTU9Dw",
        "outputId": "4f3ed0a7-d3a7-417d-c98e-90d0c3e99460"
      },
      "execution_count": null,
      "outputs": [
        {
          "output_type": "execute_result",
          "data": {
            "text/plain": [
              "Index(['transaction_number', 'user_id', 'payment_method', 'partner_category',\n",
              "       'device_type', 'money_transacted', 'transaction_initiation',\n",
              "       'partner_pricing_category'],\n",
              "      dtype='object')"
            ]
          },
          "metadata": {},
          "execution_count": 775
        }
      ]
    },
    {
      "cell_type": "code",
      "source": [
        "test_data.dtypes"
      ],
      "metadata": {
        "colab": {
          "base_uri": "https://localhost:8080/"
        },
        "id": "-ViRgbJDVN4J",
        "outputId": "5d2c46a0-33a4-485c-b232-469431233523"
      },
      "execution_count": null,
      "outputs": [
        {
          "output_type": "execute_result",
          "data": {
            "text/plain": [
              "transaction_number            int64\n",
              "user_id                       int64\n",
              "payment_method               object\n",
              "partner_category             object\n",
              "device_type                  object\n",
              "money_transacted            float64\n",
              "transaction_initiation       object\n",
              "partner_pricing_category      int64\n",
              "dtype: object"
            ]
          },
          "metadata": {},
          "execution_count": 776
        }
      ]
    },
    {
      "cell_type": "code",
      "source": [
        "test_dataCatt = ([\"payment_method\",\"partner_category\",\"device_type\"])\n",
        "test_data[test_dataCatt]=test_data[test_dataCatt].astype('category')"
      ],
      "metadata": {
        "id": "gfwcMSOZVWQf"
      },
      "execution_count": null,
      "outputs": []
    },
    {
      "cell_type": "code",
      "source": [
        "test_data.dtypes"
      ],
      "metadata": {
        "colab": {
          "base_uri": "https://localhost:8080/"
        },
        "id": "S1wL1rwPV1Uf",
        "outputId": "9b185977-8321-467a-fb24-05f3fb24d0cd"
      },
      "execution_count": null,
      "outputs": [
        {
          "output_type": "execute_result",
          "data": {
            "text/plain": [
              "transaction_number             int64\n",
              "user_id                        int64\n",
              "payment_method              category\n",
              "partner_category            category\n",
              "device_type                 category\n",
              "money_transacted             float64\n",
              "transaction_initiation        object\n",
              "partner_pricing_category       int64\n",
              "dtype: object"
            ]
          },
          "metadata": {},
          "execution_count": 778
        }
      ]
    },
    {
      "cell_type": "code",
      "source": [
        "test_data.isnull().sum()"
      ],
      "metadata": {
        "colab": {
          "base_uri": "https://localhost:8080/"
        },
        "id": "jwzTDYamWGle",
        "outputId": "abcffd46-0807-4503-d8b2-13617adaceab"
      },
      "execution_count": null,
      "outputs": [
        {
          "output_type": "execute_result",
          "data": {
            "text/plain": [
              "transaction_number          0\n",
              "user_id                     0\n",
              "payment_method              0\n",
              "partner_category            0\n",
              "device_type                 0\n",
              "money_transacted            0\n",
              "transaction_initiation      0\n",
              "partner_pricing_category    0\n",
              "dtype: int64"
            ]
          },
          "metadata": {},
          "execution_count": 779
        }
      ]
    },
    {
      "cell_type": "code",
      "source": [
        "test_data['transaction_year']= test_data['transaction_initiation'].apply(lambda x:np.int(x[0:4]))\n",
        "test_data['transaction_month']=test_data['transaction_initiation'].apply(lambda x:np.int(x[5:7]))\n",
        "test_data['transaction_day']=test_data['transaction_initiation'].apply(lambda x:np.int(x[8:10]))\n",
        "test_data['transaction_time']=test_data['transaction_initiation'].apply(lambda x:(x[11:19]))\n",
        "\n"
      ],
      "metadata": {
        "colab": {
          "base_uri": "https://localhost:8080/"
        },
        "id": "eZ0819brWKmz",
        "outputId": "0b60915a-1d21-496e-f789-4a68ed9241eb"
      },
      "execution_count": null,
      "outputs": [
        {
          "output_type": "stream",
          "name": "stderr",
          "text": [
            "/usr/local/lib/python3.7/dist-packages/ipykernel_launcher.py:1: DeprecationWarning: `np.int` is a deprecated alias for the builtin `int`. To silence this warning, use `int` by itself. Doing this will not modify any behavior and is safe. When replacing `np.int`, you may wish to use e.g. `np.int64` or `np.int32` to specify the precision. If you wish to review your current use, check the release note link for additional information.\n",
            "Deprecated in NumPy 1.20; for more details and guidance: https://numpy.org/devdocs/release/1.20.0-notes.html#deprecations\n",
            "  \"\"\"Entry point for launching an IPython kernel.\n",
            "/usr/local/lib/python3.7/dist-packages/ipykernel_launcher.py:2: DeprecationWarning: `np.int` is a deprecated alias for the builtin `int`. To silence this warning, use `int` by itself. Doing this will not modify any behavior and is safe. When replacing `np.int`, you may wish to use e.g. `np.int64` or `np.int32` to specify the precision. If you wish to review your current use, check the release note link for additional information.\n",
            "Deprecated in NumPy 1.20; for more details and guidance: https://numpy.org/devdocs/release/1.20.0-notes.html#deprecations\n",
            "  \n",
            "/usr/local/lib/python3.7/dist-packages/ipykernel_launcher.py:3: DeprecationWarning: `np.int` is a deprecated alias for the builtin `int`. To silence this warning, use `int` by itself. Doing this will not modify any behavior and is safe. When replacing `np.int`, you may wish to use e.g. `np.int64` or `np.int32` to specify the precision. If you wish to review your current use, check the release note link for additional information.\n",
            "Deprecated in NumPy 1.20; for more details and guidance: https://numpy.org/devdocs/release/1.20.0-notes.html#deprecations\n",
            "  This is separate from the ipykernel package so we can avoid doing imports until\n"
          ]
        }
      ]
    },
    {
      "cell_type": "code",
      "source": [
        "def get_sec(time_str):\n",
        "  h,m,s =time_str.split(':')\n",
        "  return int(h) * 3600 + int(m) * 60 + int(s)"
      ],
      "metadata": {
        "id": "t2ZAXX-UWaYy"
      },
      "execution_count": null,
      "outputs": []
    },
    {
      "cell_type": "code",
      "source": [
        "test_data['transaction_time']=test_data['transaction_time'].apply(lambda x:get_sec(x))\n"
      ],
      "metadata": {
        "id": "kBBmeF4WWj4t"
      },
      "execution_count": null,
      "outputs": []
    },
    {
      "cell_type": "code",
      "source": [
        "test_data=test_data.drop(['transaction_initiation'],axis=1)"
      ],
      "metadata": {
        "id": "tESFEjS2W6ey"
      },
      "execution_count": null,
      "outputs": []
    },
    {
      "cell_type": "code",
      "source": [
        "from sklearn.tree import DecisionTreeClassifier"
      ],
      "metadata": {
        "id": "JkwwSS-rnWXd"
      },
      "execution_count": null,
      "outputs": []
    },
    {
      "cell_type": "code",
      "source": [
        "dt=DecisionTreeClassifier()"
      ],
      "metadata": {
        "id": "Dt9r7bejng9Q"
      },
      "execution_count": null,
      "outputs": []
    },
    {
      "cell_type": "code",
      "source": [
        "dt.fit(x_train,y_train)"
      ],
      "metadata": {
        "colab": {
          "base_uri": "https://localhost:8080/"
        },
        "id": "wAHZuCq9nlJ2",
        "outputId": "6c9ee4b0-201b-431b-8cea-d14c617c90ad"
      },
      "execution_count": null,
      "outputs": [
        {
          "output_type": "execute_result",
          "data": {
            "text/plain": [
              "DecisionTreeClassifier()"
            ]
          },
          "metadata": {},
          "execution_count": 787
        }
      ]
    },
    {
      "cell_type": "code",
      "source": [
        "for i in data:\n",
        "  print(i)"
      ],
      "metadata": {
        "colab": {
          "base_uri": "https://localhost:8080/"
        },
        "id": "ujwvNqlapHvu",
        "outputId": "1abf601e-ff95-424e-f1ee-7cfbb04d7bde"
      },
      "execution_count": null,
      "outputs": [
        {
          "output_type": "stream",
          "name": "stdout",
          "text": [
            "transaction_number\n",
            "user_id\n",
            "payment_method\n",
            "partner_category\n",
            "device_type\n",
            "money_transacted\n",
            "partner_pricing_category\n",
            "is_fraud\n",
            "transaction_year\n",
            "transaction_month\n",
            "transaction_day\n",
            "transaction_time\n"
          ]
        }
      ]
    },
    {
      "cell_type": "code",
      "source": [
        "for j in test_data:\n",
        "  print(j)"
      ],
      "metadata": {
        "colab": {
          "base_uri": "https://localhost:8080/"
        },
        "id": "eO-DIBlFpSTi",
        "outputId": "2428f1b1-d58a-42b4-c84f-fdaacf6a390c"
      },
      "execution_count": null,
      "outputs": [
        {
          "output_type": "stream",
          "name": "stdout",
          "text": [
            "transaction_number\n",
            "user_id\n",
            "payment_method\n",
            "partner_category\n",
            "device_type\n",
            "money_transacted\n",
            "partner_pricing_category\n",
            "transaction_year\n",
            "transaction_month\n",
            "transaction_day\n",
            "transaction_time\n"
          ]
        }
      ]
    },
    {
      "cell_type": "code",
      "source": [
        "data.drop(['is_fraud'],axis=1)"
      ],
      "metadata": {
        "colab": {
          "base_uri": "https://localhost:8080/",
          "height": 488
        },
        "id": "UPz-A2xbp3gd",
        "outputId": "ba55f7e6-2057-47ac-8890-3a5c02d45fa5"
      },
      "execution_count": null,
      "outputs": [
        {
          "output_type": "execute_result",
          "data": {
            "text/plain": [
              "       transaction_number   user_id  payment_method  partner_category  \\\n",
              "0                    2935  17539344               2                 0   \n",
              "1                   23133  24710841               0                 1   \n",
              "2                   36851  24265476               0                 1   \n",
              "3                   47566  10240000               1                 2   \n",
              "4                   18305   5880625               1                 0   \n",
              "...                   ...       ...             ...               ...   \n",
              "76524               30680  19686969               2                 0   \n",
              "76525               75734  11662225               5                 0   \n",
              "76526               26752    374544               2                 0   \n",
              "76527               68027   1687401               2                 0   \n",
              "76528               55355   6754801               2                 0   \n",
              "\n",
              "       device_type  money_transacted  partner_pricing_category  \\\n",
              "0                0              -5.0                         2   \n",
              "1                2             100.0                         2   \n",
              "2                2              50.0                         2   \n",
              "3                2            1000.0                         2   \n",
              "4                2             200.0                         2   \n",
              "...            ...               ...                       ...   \n",
              "76524            0            -100.0                         2   \n",
              "76525            2             200.0                         2   \n",
              "76526            0              -3.5                         2   \n",
              "76527            0             -20.0                         2   \n",
              "76528            0            -100.0                         2   \n",
              "\n",
              "       transaction_year  transaction_month  transaction_day  transaction_time  \n",
              "0                  2016                 11               15             69372  \n",
              "1                  2017                  1               11             33933  \n",
              "2                  2016                 12                7             28689  \n",
              "3                  2017                  1               11             58544  \n",
              "4                  2016                 11               16             61482  \n",
              "...                 ...                ...              ...               ...  \n",
              "76524              2016                 11               30             49245  \n",
              "76525              2017                  1                8             30931  \n",
              "76526              2016                 12               26             78428  \n",
              "76527              2016                 12               11             49446  \n",
              "76528              2017                  1               11             68898  \n",
              "\n",
              "[76529 rows x 11 columns]"
            ],
            "text/html": [
              "\n",
              "  <div id=\"df-37d90353-7381-4884-80a4-6f965b06bf6b\">\n",
              "    <div class=\"colab-df-container\">\n",
              "      <div>\n",
              "<style scoped>\n",
              "    .dataframe tbody tr th:only-of-type {\n",
              "        vertical-align: middle;\n",
              "    }\n",
              "\n",
              "    .dataframe tbody tr th {\n",
              "        vertical-align: top;\n",
              "    }\n",
              "\n",
              "    .dataframe thead th {\n",
              "        text-align: right;\n",
              "    }\n",
              "</style>\n",
              "<table border=\"1\" class=\"dataframe\">\n",
              "  <thead>\n",
              "    <tr style=\"text-align: right;\">\n",
              "      <th></th>\n",
              "      <th>transaction_number</th>\n",
              "      <th>user_id</th>\n",
              "      <th>payment_method</th>\n",
              "      <th>partner_category</th>\n",
              "      <th>device_type</th>\n",
              "      <th>money_transacted</th>\n",
              "      <th>partner_pricing_category</th>\n",
              "      <th>transaction_year</th>\n",
              "      <th>transaction_month</th>\n",
              "      <th>transaction_day</th>\n",
              "      <th>transaction_time</th>\n",
              "    </tr>\n",
              "  </thead>\n",
              "  <tbody>\n",
              "    <tr>\n",
              "      <th>0</th>\n",
              "      <td>2935</td>\n",
              "      <td>17539344</td>\n",
              "      <td>2</td>\n",
              "      <td>0</td>\n",
              "      <td>0</td>\n",
              "      <td>-5.0</td>\n",
              "      <td>2</td>\n",
              "      <td>2016</td>\n",
              "      <td>11</td>\n",
              "      <td>15</td>\n",
              "      <td>69372</td>\n",
              "    </tr>\n",
              "    <tr>\n",
              "      <th>1</th>\n",
              "      <td>23133</td>\n",
              "      <td>24710841</td>\n",
              "      <td>0</td>\n",
              "      <td>1</td>\n",
              "      <td>2</td>\n",
              "      <td>100.0</td>\n",
              "      <td>2</td>\n",
              "      <td>2017</td>\n",
              "      <td>1</td>\n",
              "      <td>11</td>\n",
              "      <td>33933</td>\n",
              "    </tr>\n",
              "    <tr>\n",
              "      <th>2</th>\n",
              "      <td>36851</td>\n",
              "      <td>24265476</td>\n",
              "      <td>0</td>\n",
              "      <td>1</td>\n",
              "      <td>2</td>\n",
              "      <td>50.0</td>\n",
              "      <td>2</td>\n",
              "      <td>2016</td>\n",
              "      <td>12</td>\n",
              "      <td>7</td>\n",
              "      <td>28689</td>\n",
              "    </tr>\n",
              "    <tr>\n",
              "      <th>3</th>\n",
              "      <td>47566</td>\n",
              "      <td>10240000</td>\n",
              "      <td>1</td>\n",
              "      <td>2</td>\n",
              "      <td>2</td>\n",
              "      <td>1000.0</td>\n",
              "      <td>2</td>\n",
              "      <td>2017</td>\n",
              "      <td>1</td>\n",
              "      <td>11</td>\n",
              "      <td>58544</td>\n",
              "    </tr>\n",
              "    <tr>\n",
              "      <th>4</th>\n",
              "      <td>18305</td>\n",
              "      <td>5880625</td>\n",
              "      <td>1</td>\n",
              "      <td>0</td>\n",
              "      <td>2</td>\n",
              "      <td>200.0</td>\n",
              "      <td>2</td>\n",
              "      <td>2016</td>\n",
              "      <td>11</td>\n",
              "      <td>16</td>\n",
              "      <td>61482</td>\n",
              "    </tr>\n",
              "    <tr>\n",
              "      <th>...</th>\n",
              "      <td>...</td>\n",
              "      <td>...</td>\n",
              "      <td>...</td>\n",
              "      <td>...</td>\n",
              "      <td>...</td>\n",
              "      <td>...</td>\n",
              "      <td>...</td>\n",
              "      <td>...</td>\n",
              "      <td>...</td>\n",
              "      <td>...</td>\n",
              "      <td>...</td>\n",
              "    </tr>\n",
              "    <tr>\n",
              "      <th>76524</th>\n",
              "      <td>30680</td>\n",
              "      <td>19686969</td>\n",
              "      <td>2</td>\n",
              "      <td>0</td>\n",
              "      <td>0</td>\n",
              "      <td>-100.0</td>\n",
              "      <td>2</td>\n",
              "      <td>2016</td>\n",
              "      <td>11</td>\n",
              "      <td>30</td>\n",
              "      <td>49245</td>\n",
              "    </tr>\n",
              "    <tr>\n",
              "      <th>76525</th>\n",
              "      <td>75734</td>\n",
              "      <td>11662225</td>\n",
              "      <td>5</td>\n",
              "      <td>0</td>\n",
              "      <td>2</td>\n",
              "      <td>200.0</td>\n",
              "      <td>2</td>\n",
              "      <td>2017</td>\n",
              "      <td>1</td>\n",
              "      <td>8</td>\n",
              "      <td>30931</td>\n",
              "    </tr>\n",
              "    <tr>\n",
              "      <th>76526</th>\n",
              "      <td>26752</td>\n",
              "      <td>374544</td>\n",
              "      <td>2</td>\n",
              "      <td>0</td>\n",
              "      <td>0</td>\n",
              "      <td>-3.5</td>\n",
              "      <td>2</td>\n",
              "      <td>2016</td>\n",
              "      <td>12</td>\n",
              "      <td>26</td>\n",
              "      <td>78428</td>\n",
              "    </tr>\n",
              "    <tr>\n",
              "      <th>76527</th>\n",
              "      <td>68027</td>\n",
              "      <td>1687401</td>\n",
              "      <td>2</td>\n",
              "      <td>0</td>\n",
              "      <td>0</td>\n",
              "      <td>-20.0</td>\n",
              "      <td>2</td>\n",
              "      <td>2016</td>\n",
              "      <td>12</td>\n",
              "      <td>11</td>\n",
              "      <td>49446</td>\n",
              "    </tr>\n",
              "    <tr>\n",
              "      <th>76528</th>\n",
              "      <td>55355</td>\n",
              "      <td>6754801</td>\n",
              "      <td>2</td>\n",
              "      <td>0</td>\n",
              "      <td>0</td>\n",
              "      <td>-100.0</td>\n",
              "      <td>2</td>\n",
              "      <td>2017</td>\n",
              "      <td>1</td>\n",
              "      <td>11</td>\n",
              "      <td>68898</td>\n",
              "    </tr>\n",
              "  </tbody>\n",
              "</table>\n",
              "<p>76529 rows × 11 columns</p>\n",
              "</div>\n",
              "      <button class=\"colab-df-convert\" onclick=\"convertToInteractive('df-37d90353-7381-4884-80a4-6f965b06bf6b')\"\n",
              "              title=\"Convert this dataframe to an interactive table.\"\n",
              "              style=\"display:none;\">\n",
              "        \n",
              "  <svg xmlns=\"http://www.w3.org/2000/svg\" height=\"24px\"viewBox=\"0 0 24 24\"\n",
              "       width=\"24px\">\n",
              "    <path d=\"M0 0h24v24H0V0z\" fill=\"none\"/>\n",
              "    <path d=\"M18.56 5.44l.94 2.06.94-2.06 2.06-.94-2.06-.94-.94-2.06-.94 2.06-2.06.94zm-11 1L8.5 8.5l.94-2.06 2.06-.94-2.06-.94L8.5 2.5l-.94 2.06-2.06.94zm10 10l.94 2.06.94-2.06 2.06-.94-2.06-.94-.94-2.06-.94 2.06-2.06.94z\"/><path d=\"M17.41 7.96l-1.37-1.37c-.4-.4-.92-.59-1.43-.59-.52 0-1.04.2-1.43.59L10.3 9.45l-7.72 7.72c-.78.78-.78 2.05 0 2.83L4 21.41c.39.39.9.59 1.41.59.51 0 1.02-.2 1.41-.59l7.78-7.78 2.81-2.81c.8-.78.8-2.07 0-2.86zM5.41 20L4 18.59l7.72-7.72 1.47 1.35L5.41 20z\"/>\n",
              "  </svg>\n",
              "      </button>\n",
              "      \n",
              "  <style>\n",
              "    .colab-df-container {\n",
              "      display:flex;\n",
              "      flex-wrap:wrap;\n",
              "      gap: 12px;\n",
              "    }\n",
              "\n",
              "    .colab-df-convert {\n",
              "      background-color: #E8F0FE;\n",
              "      border: none;\n",
              "      border-radius: 50%;\n",
              "      cursor: pointer;\n",
              "      display: none;\n",
              "      fill: #1967D2;\n",
              "      height: 32px;\n",
              "      padding: 0 0 0 0;\n",
              "      width: 32px;\n",
              "    }\n",
              "\n",
              "    .colab-df-convert:hover {\n",
              "      background-color: #E2EBFA;\n",
              "      box-shadow: 0px 1px 2px rgba(60, 64, 67, 0.3), 0px 1px 3px 1px rgba(60, 64, 67, 0.15);\n",
              "      fill: #174EA6;\n",
              "    }\n",
              "\n",
              "    [theme=dark] .colab-df-convert {\n",
              "      background-color: #3B4455;\n",
              "      fill: #D2E3FC;\n",
              "    }\n",
              "\n",
              "    [theme=dark] .colab-df-convert:hover {\n",
              "      background-color: #434B5C;\n",
              "      box-shadow: 0px 1px 3px 1px rgba(0, 0, 0, 0.15);\n",
              "      filter: drop-shadow(0px 1px 2px rgba(0, 0, 0, 0.3));\n",
              "      fill: #FFFFFF;\n",
              "    }\n",
              "  </style>\n",
              "\n",
              "      <script>\n",
              "        const buttonEl =\n",
              "          document.querySelector('#df-37d90353-7381-4884-80a4-6f965b06bf6b button.colab-df-convert');\n",
              "        buttonEl.style.display =\n",
              "          google.colab.kernel.accessAllowed ? 'block' : 'none';\n",
              "\n",
              "        async function convertToInteractive(key) {\n",
              "          const element = document.querySelector('#df-37d90353-7381-4884-80a4-6f965b06bf6b');\n",
              "          const dataTable =\n",
              "            await google.colab.kernel.invokeFunction('convertToInteractive',\n",
              "                                                     [key], {});\n",
              "          if (!dataTable) return;\n",
              "\n",
              "          const docLinkHtml = 'Like what you see? Visit the ' +\n",
              "            '<a target=\"_blank\" href=https://colab.research.google.com/notebooks/data_table.ipynb>data table notebook</a>'\n",
              "            + ' to learn more about interactive tables.';\n",
              "          element.innerHTML = '';\n",
              "          dataTable['output_type'] = 'display_data';\n",
              "          await google.colab.output.renderOutput(dataTable, element);\n",
              "          const docLink = document.createElement('div');\n",
              "          docLink.innerHTML = docLinkHtml;\n",
              "          element.appendChild(docLink);\n",
              "        }\n",
              "      </script>\n",
              "    </div>\n",
              "  </div>\n",
              "  "
            ]
          },
          "metadata": {},
          "execution_count": 797
        }
      ]
    },
    {
      "cell_type": "code",
      "source": [
        "test_data['is_fraud'] = pd.DataFrame(dt.predict(test_data))"
      ],
      "metadata": {
        "colab": {
          "base_uri": "https://localhost:8080/",
          "height": 311
        },
        "id": "7zyH5kw3rhuM",
        "outputId": "838fdcca-420f-4345-a1d7-5b1452f0297b"
      },
      "execution_count": null,
      "outputs": [
        {
          "output_type": "error",
          "ename": "ValueError",
          "evalue": "ignored",
          "traceback": [
            "\u001b[0;31m---------------------------------------------------------------------------\u001b[0m",
            "\u001b[0;31mValueError\u001b[0m                                Traceback (most recent call last)",
            "\u001b[0;32m<ipython-input-807-ef1eec73e1b9>\u001b[0m in \u001b[0;36m<module>\u001b[0;34m\u001b[0m\n\u001b[0;32m----> 1\u001b[0;31m \u001b[0mtest_data\u001b[0m\u001b[0;34m[\u001b[0m\u001b[0;34m'is_fraud'\u001b[0m\u001b[0;34m]\u001b[0m \u001b[0;34m=\u001b[0m \u001b[0mpd\u001b[0m\u001b[0;34m.\u001b[0m\u001b[0mDataFrame\u001b[0m\u001b[0;34m(\u001b[0m\u001b[0mdt\u001b[0m\u001b[0;34m.\u001b[0m\u001b[0mpredict\u001b[0m\u001b[0;34m(\u001b[0m\u001b[0mtest_data\u001b[0m\u001b[0;34m)\u001b[0m\u001b[0;34m)\u001b[0m\u001b[0;34m\u001b[0m\u001b[0;34m\u001b[0m\u001b[0m\n\u001b[0m",
            "\u001b[0;32m/usr/local/lib/python3.7/dist-packages/sklearn/tree/_classes.py\u001b[0m in \u001b[0;36mpredict\u001b[0;34m(self, X, check_input)\u001b[0m\n\u001b[1;32m    465\u001b[0m         \"\"\"\n\u001b[1;32m    466\u001b[0m         \u001b[0mcheck_is_fitted\u001b[0m\u001b[0;34m(\u001b[0m\u001b[0mself\u001b[0m\u001b[0;34m)\u001b[0m\u001b[0;34m\u001b[0m\u001b[0;34m\u001b[0m\u001b[0m\n\u001b[0;32m--> 467\u001b[0;31m         \u001b[0mX\u001b[0m \u001b[0;34m=\u001b[0m \u001b[0mself\u001b[0m\u001b[0;34m.\u001b[0m\u001b[0m_validate_X_predict\u001b[0m\u001b[0;34m(\u001b[0m\u001b[0mX\u001b[0m\u001b[0;34m,\u001b[0m \u001b[0mcheck_input\u001b[0m\u001b[0;34m)\u001b[0m\u001b[0;34m\u001b[0m\u001b[0;34m\u001b[0m\u001b[0m\n\u001b[0m\u001b[1;32m    468\u001b[0m         \u001b[0mproba\u001b[0m \u001b[0;34m=\u001b[0m \u001b[0mself\u001b[0m\u001b[0;34m.\u001b[0m\u001b[0mtree_\u001b[0m\u001b[0;34m.\u001b[0m\u001b[0mpredict\u001b[0m\u001b[0;34m(\u001b[0m\u001b[0mX\u001b[0m\u001b[0;34m)\u001b[0m\u001b[0;34m\u001b[0m\u001b[0;34m\u001b[0m\u001b[0m\n\u001b[1;32m    469\u001b[0m         \u001b[0mn_samples\u001b[0m \u001b[0;34m=\u001b[0m \u001b[0mX\u001b[0m\u001b[0;34m.\u001b[0m\u001b[0mshape\u001b[0m\u001b[0;34m[\u001b[0m\u001b[0;36m0\u001b[0m\u001b[0;34m]\u001b[0m\u001b[0;34m\u001b[0m\u001b[0;34m\u001b[0m\u001b[0m\n",
            "\u001b[0;32m/usr/local/lib/python3.7/dist-packages/sklearn/tree/_classes.py\u001b[0m in \u001b[0;36m_validate_X_predict\u001b[0;34m(self, X, check_input)\u001b[0m\n\u001b[1;32m    431\u001b[0m         \u001b[0;34m\"\"\"Validate the training data on predict (probabilities).\"\"\"\u001b[0m\u001b[0;34m\u001b[0m\u001b[0;34m\u001b[0m\u001b[0m\n\u001b[1;32m    432\u001b[0m         \u001b[0;32mif\u001b[0m \u001b[0mcheck_input\u001b[0m\u001b[0;34m:\u001b[0m\u001b[0;34m\u001b[0m\u001b[0;34m\u001b[0m\u001b[0m\n\u001b[0;32m--> 433\u001b[0;31m             \u001b[0mX\u001b[0m \u001b[0;34m=\u001b[0m \u001b[0mself\u001b[0m\u001b[0;34m.\u001b[0m\u001b[0m_validate_data\u001b[0m\u001b[0;34m(\u001b[0m\u001b[0mX\u001b[0m\u001b[0;34m,\u001b[0m \u001b[0mdtype\u001b[0m\u001b[0;34m=\u001b[0m\u001b[0mDTYPE\u001b[0m\u001b[0;34m,\u001b[0m \u001b[0maccept_sparse\u001b[0m\u001b[0;34m=\u001b[0m\u001b[0;34m\"csr\"\u001b[0m\u001b[0;34m,\u001b[0m \u001b[0mreset\u001b[0m\u001b[0;34m=\u001b[0m\u001b[0;32mFalse\u001b[0m\u001b[0;34m)\u001b[0m\u001b[0;34m\u001b[0m\u001b[0;34m\u001b[0m\u001b[0m\n\u001b[0m\u001b[1;32m    434\u001b[0m             if issparse(X) and (\n\u001b[1;32m    435\u001b[0m                 \u001b[0mX\u001b[0m\u001b[0;34m.\u001b[0m\u001b[0mindices\u001b[0m\u001b[0;34m.\u001b[0m\u001b[0mdtype\u001b[0m \u001b[0;34m!=\u001b[0m \u001b[0mnp\u001b[0m\u001b[0;34m.\u001b[0m\u001b[0mintc\u001b[0m \u001b[0;32mor\u001b[0m \u001b[0mX\u001b[0m\u001b[0;34m.\u001b[0m\u001b[0mindptr\u001b[0m\u001b[0;34m.\u001b[0m\u001b[0mdtype\u001b[0m \u001b[0;34m!=\u001b[0m \u001b[0mnp\u001b[0m\u001b[0;34m.\u001b[0m\u001b[0mintc\u001b[0m\u001b[0;34m\u001b[0m\u001b[0;34m\u001b[0m\u001b[0m\n",
            "\u001b[0;32m/usr/local/lib/python3.7/dist-packages/sklearn/base.py\u001b[0m in \u001b[0;36m_validate_data\u001b[0;34m(self, X, y, reset, validate_separately, **check_params)\u001b[0m\n\u001b[1;32m    564\u001b[0m             \u001b[0;32mraise\u001b[0m \u001b[0mValueError\u001b[0m\u001b[0;34m(\u001b[0m\u001b[0;34m\"Validation should be done on X, y or both.\"\u001b[0m\u001b[0;34m)\u001b[0m\u001b[0;34m\u001b[0m\u001b[0;34m\u001b[0m\u001b[0m\n\u001b[1;32m    565\u001b[0m         \u001b[0;32melif\u001b[0m \u001b[0;32mnot\u001b[0m \u001b[0mno_val_X\u001b[0m \u001b[0;32mand\u001b[0m \u001b[0mno_val_y\u001b[0m\u001b[0;34m:\u001b[0m\u001b[0;34m\u001b[0m\u001b[0;34m\u001b[0m\u001b[0m\n\u001b[0;32m--> 566\u001b[0;31m             \u001b[0mX\u001b[0m \u001b[0;34m=\u001b[0m \u001b[0mcheck_array\u001b[0m\u001b[0;34m(\u001b[0m\u001b[0mX\u001b[0m\u001b[0;34m,\u001b[0m \u001b[0;34m**\u001b[0m\u001b[0mcheck_params\u001b[0m\u001b[0;34m)\u001b[0m\u001b[0;34m\u001b[0m\u001b[0;34m\u001b[0m\u001b[0m\n\u001b[0m\u001b[1;32m    567\u001b[0m             \u001b[0mout\u001b[0m \u001b[0;34m=\u001b[0m \u001b[0mX\u001b[0m\u001b[0;34m\u001b[0m\u001b[0;34m\u001b[0m\u001b[0m\n\u001b[1;32m    568\u001b[0m         \u001b[0;32melif\u001b[0m \u001b[0mno_val_X\u001b[0m \u001b[0;32mand\u001b[0m \u001b[0;32mnot\u001b[0m \u001b[0mno_val_y\u001b[0m\u001b[0;34m:\u001b[0m\u001b[0;34m\u001b[0m\u001b[0;34m\u001b[0m\u001b[0m\n",
            "\u001b[0;32m/usr/local/lib/python3.7/dist-packages/sklearn/utils/validation.py\u001b[0m in \u001b[0;36mcheck_array\u001b[0;34m(array, accept_sparse, accept_large_sparse, dtype, order, copy, force_all_finite, ensure_2d, allow_nd, ensure_min_samples, ensure_min_features, estimator)\u001b[0m\n\u001b[1;32m    744\u001b[0m                     \u001b[0marray\u001b[0m \u001b[0;34m=\u001b[0m \u001b[0marray\u001b[0m\u001b[0;34m.\u001b[0m\u001b[0mastype\u001b[0m\u001b[0;34m(\u001b[0m\u001b[0mdtype\u001b[0m\u001b[0;34m,\u001b[0m \u001b[0mcasting\u001b[0m\u001b[0;34m=\u001b[0m\u001b[0;34m\"unsafe\"\u001b[0m\u001b[0;34m,\u001b[0m \u001b[0mcopy\u001b[0m\u001b[0;34m=\u001b[0m\u001b[0;32mFalse\u001b[0m\u001b[0;34m)\u001b[0m\u001b[0;34m\u001b[0m\u001b[0;34m\u001b[0m\u001b[0m\n\u001b[1;32m    745\u001b[0m                 \u001b[0;32melse\u001b[0m\u001b[0;34m:\u001b[0m\u001b[0;34m\u001b[0m\u001b[0;34m\u001b[0m\u001b[0m\n\u001b[0;32m--> 746\u001b[0;31m                     \u001b[0marray\u001b[0m \u001b[0;34m=\u001b[0m \u001b[0mnp\u001b[0m\u001b[0;34m.\u001b[0m\u001b[0masarray\u001b[0m\u001b[0;34m(\u001b[0m\u001b[0marray\u001b[0m\u001b[0;34m,\u001b[0m \u001b[0morder\u001b[0m\u001b[0;34m=\u001b[0m\u001b[0morder\u001b[0m\u001b[0;34m,\u001b[0m \u001b[0mdtype\u001b[0m\u001b[0;34m=\u001b[0m\u001b[0mdtype\u001b[0m\u001b[0;34m)\u001b[0m\u001b[0;34m\u001b[0m\u001b[0;34m\u001b[0m\u001b[0m\n\u001b[0m\u001b[1;32m    747\u001b[0m             \u001b[0;32mexcept\u001b[0m \u001b[0mComplexWarning\u001b[0m \u001b[0;32mas\u001b[0m \u001b[0mcomplex_warning\u001b[0m\u001b[0;34m:\u001b[0m\u001b[0;34m\u001b[0m\u001b[0;34m\u001b[0m\u001b[0m\n\u001b[1;32m    748\u001b[0m                 raise ValueError(\n",
            "\u001b[0;32m/usr/local/lib/python3.7/dist-packages/pandas/core/generic.py\u001b[0m in \u001b[0;36m__array__\u001b[0;34m(self, dtype)\u001b[0m\n\u001b[1;32m   1991\u001b[0m \u001b[0;34m\u001b[0m\u001b[0m\n\u001b[1;32m   1992\u001b[0m     \u001b[0;32mdef\u001b[0m \u001b[0m__array__\u001b[0m\u001b[0;34m(\u001b[0m\u001b[0mself\u001b[0m\u001b[0;34m,\u001b[0m \u001b[0mdtype\u001b[0m\u001b[0;34m:\u001b[0m \u001b[0mNpDtype\u001b[0m \u001b[0;34m|\u001b[0m \u001b[0;32mNone\u001b[0m \u001b[0;34m=\u001b[0m \u001b[0;32mNone\u001b[0m\u001b[0;34m)\u001b[0m \u001b[0;34m->\u001b[0m \u001b[0mnp\u001b[0m\u001b[0;34m.\u001b[0m\u001b[0mndarray\u001b[0m\u001b[0;34m:\u001b[0m\u001b[0;34m\u001b[0m\u001b[0;34m\u001b[0m\u001b[0m\n\u001b[0;32m-> 1993\u001b[0;31m         \u001b[0;32mreturn\u001b[0m \u001b[0mnp\u001b[0m\u001b[0;34m.\u001b[0m\u001b[0masarray\u001b[0m\u001b[0;34m(\u001b[0m\u001b[0mself\u001b[0m\u001b[0;34m.\u001b[0m\u001b[0m_values\u001b[0m\u001b[0;34m,\u001b[0m \u001b[0mdtype\u001b[0m\u001b[0;34m=\u001b[0m\u001b[0mdtype\u001b[0m\u001b[0;34m)\u001b[0m\u001b[0;34m\u001b[0m\u001b[0;34m\u001b[0m\u001b[0m\n\u001b[0m\u001b[1;32m   1994\u001b[0m \u001b[0;34m\u001b[0m\u001b[0m\n\u001b[1;32m   1995\u001b[0m     def __array_wrap__(\n",
            "\u001b[0;31mValueError\u001b[0m: could not convert string to float: 'visa_master_debit_cards'"
          ]
        }
      ]
    },
    {
      "cell_type": "code",
      "source": [
        "Samplesubmission1 = pd.DataFrame()"
      ],
      "metadata": {
        "id": "W-BQfhrgpex9"
      },
      "execution_count": null,
      "outputs": []
    },
    {
      "cell_type": "code",
      "source": [
        "Samplesubmission1[\"transaction_number\"]=test_data['transaction_number']"
      ],
      "metadata": {
        "id": "v88X96VFyBTC"
      },
      "execution_count": null,
      "outputs": []
    },
    {
      "cell_type": "code",
      "source": [
        "Samplesubmission1[\"is_fraud\"]=test_data['is_fraud']"
      ],
      "metadata": {
        "colab": {
          "base_uri": "https://localhost:8080/",
          "height": 502
        },
        "id": "3QfueEityK2k",
        "outputId": "a0b04cdd-fd9e-4bc1-efd7-450c65359959"
      },
      "execution_count": null,
      "outputs": [
        {
          "output_type": "error",
          "ename": "KeyError",
          "evalue": "ignored",
          "traceback": [
            "\u001b[0;31m---------------------------------------------------------------------------\u001b[0m",
            "\u001b[0;31mKeyError\u001b[0m                                  Traceback (most recent call last)",
            "\u001b[0;32m/usr/local/lib/python3.7/dist-packages/pandas/core/indexes/base.py\u001b[0m in \u001b[0;36mget_loc\u001b[0;34m(self, key, method, tolerance)\u001b[0m\n\u001b[1;32m   3360\u001b[0m             \u001b[0;32mtry\u001b[0m\u001b[0;34m:\u001b[0m\u001b[0;34m\u001b[0m\u001b[0;34m\u001b[0m\u001b[0m\n\u001b[0;32m-> 3361\u001b[0;31m                 \u001b[0;32mreturn\u001b[0m \u001b[0mself\u001b[0m\u001b[0;34m.\u001b[0m\u001b[0m_engine\u001b[0m\u001b[0;34m.\u001b[0m\u001b[0mget_loc\u001b[0m\u001b[0;34m(\u001b[0m\u001b[0mcasted_key\u001b[0m\u001b[0;34m)\u001b[0m\u001b[0;34m\u001b[0m\u001b[0;34m\u001b[0m\u001b[0m\n\u001b[0m\u001b[1;32m   3362\u001b[0m             \u001b[0;32mexcept\u001b[0m \u001b[0mKeyError\u001b[0m \u001b[0;32mas\u001b[0m \u001b[0merr\u001b[0m\u001b[0;34m:\u001b[0m\u001b[0;34m\u001b[0m\u001b[0;34m\u001b[0m\u001b[0m\n",
            "\u001b[0;32m/usr/local/lib/python3.7/dist-packages/pandas/_libs/index.pyx\u001b[0m in \u001b[0;36mpandas._libs.index.IndexEngine.get_loc\u001b[0;34m()\u001b[0m\n",
            "\u001b[0;32m/usr/local/lib/python3.7/dist-packages/pandas/_libs/index.pyx\u001b[0m in \u001b[0;36mpandas._libs.index.IndexEngine.get_loc\u001b[0;34m()\u001b[0m\n",
            "\u001b[0;32mpandas/_libs/hashtable_class_helper.pxi\u001b[0m in \u001b[0;36mpandas._libs.hashtable.PyObjectHashTable.get_item\u001b[0;34m()\u001b[0m\n",
            "\u001b[0;32mpandas/_libs/hashtable_class_helper.pxi\u001b[0m in \u001b[0;36mpandas._libs.hashtable.PyObjectHashTable.get_item\u001b[0;34m()\u001b[0m\n",
            "\u001b[0;31mKeyError\u001b[0m: 'is_fraud'",
            "\nThe above exception was the direct cause of the following exception:\n",
            "\u001b[0;31mKeyError\u001b[0m                                  Traceback (most recent call last)",
            "\u001b[0;32m<ipython-input-812-1cf203e20998>\u001b[0m in \u001b[0;36m<module>\u001b[0;34m\u001b[0m\n\u001b[0;32m----> 1\u001b[0;31m \u001b[0mSamplesubmission1\u001b[0m\u001b[0;34m[\u001b[0m\u001b[0;34m\"is_fraud\"\u001b[0m\u001b[0;34m]\u001b[0m\u001b[0;34m=\u001b[0m\u001b[0mtest_data\u001b[0m\u001b[0;34m[\u001b[0m\u001b[0;34m'is_fraud'\u001b[0m\u001b[0;34m]\u001b[0m\u001b[0;34m\u001b[0m\u001b[0;34m\u001b[0m\u001b[0m\n\u001b[0m",
            "\u001b[0;32m/usr/local/lib/python3.7/dist-packages/pandas/core/frame.py\u001b[0m in \u001b[0;36m__getitem__\u001b[0;34m(self, key)\u001b[0m\n\u001b[1;32m   3456\u001b[0m             \u001b[0;32mif\u001b[0m \u001b[0mself\u001b[0m\u001b[0;34m.\u001b[0m\u001b[0mcolumns\u001b[0m\u001b[0;34m.\u001b[0m\u001b[0mnlevels\u001b[0m \u001b[0;34m>\u001b[0m \u001b[0;36m1\u001b[0m\u001b[0;34m:\u001b[0m\u001b[0;34m\u001b[0m\u001b[0;34m\u001b[0m\u001b[0m\n\u001b[1;32m   3457\u001b[0m                 \u001b[0;32mreturn\u001b[0m \u001b[0mself\u001b[0m\u001b[0;34m.\u001b[0m\u001b[0m_getitem_multilevel\u001b[0m\u001b[0;34m(\u001b[0m\u001b[0mkey\u001b[0m\u001b[0;34m)\u001b[0m\u001b[0;34m\u001b[0m\u001b[0;34m\u001b[0m\u001b[0m\n\u001b[0;32m-> 3458\u001b[0;31m             \u001b[0mindexer\u001b[0m \u001b[0;34m=\u001b[0m \u001b[0mself\u001b[0m\u001b[0;34m.\u001b[0m\u001b[0mcolumns\u001b[0m\u001b[0;34m.\u001b[0m\u001b[0mget_loc\u001b[0m\u001b[0;34m(\u001b[0m\u001b[0mkey\u001b[0m\u001b[0;34m)\u001b[0m\u001b[0;34m\u001b[0m\u001b[0;34m\u001b[0m\u001b[0m\n\u001b[0m\u001b[1;32m   3459\u001b[0m             \u001b[0;32mif\u001b[0m \u001b[0mis_integer\u001b[0m\u001b[0;34m(\u001b[0m\u001b[0mindexer\u001b[0m\u001b[0;34m)\u001b[0m\u001b[0;34m:\u001b[0m\u001b[0;34m\u001b[0m\u001b[0;34m\u001b[0m\u001b[0m\n\u001b[1;32m   3460\u001b[0m                 \u001b[0mindexer\u001b[0m \u001b[0;34m=\u001b[0m \u001b[0;34m[\u001b[0m\u001b[0mindexer\u001b[0m\u001b[0;34m]\u001b[0m\u001b[0;34m\u001b[0m\u001b[0;34m\u001b[0m\u001b[0m\n",
            "\u001b[0;32m/usr/local/lib/python3.7/dist-packages/pandas/core/indexes/base.py\u001b[0m in \u001b[0;36mget_loc\u001b[0;34m(self, key, method, tolerance)\u001b[0m\n\u001b[1;32m   3361\u001b[0m                 \u001b[0;32mreturn\u001b[0m \u001b[0mself\u001b[0m\u001b[0;34m.\u001b[0m\u001b[0m_engine\u001b[0m\u001b[0;34m.\u001b[0m\u001b[0mget_loc\u001b[0m\u001b[0;34m(\u001b[0m\u001b[0mcasted_key\u001b[0m\u001b[0;34m)\u001b[0m\u001b[0;34m\u001b[0m\u001b[0;34m\u001b[0m\u001b[0m\n\u001b[1;32m   3362\u001b[0m             \u001b[0;32mexcept\u001b[0m \u001b[0mKeyError\u001b[0m \u001b[0;32mas\u001b[0m \u001b[0merr\u001b[0m\u001b[0;34m:\u001b[0m\u001b[0;34m\u001b[0m\u001b[0;34m\u001b[0m\u001b[0m\n\u001b[0;32m-> 3363\u001b[0;31m                 \u001b[0;32mraise\u001b[0m \u001b[0mKeyError\u001b[0m\u001b[0;34m(\u001b[0m\u001b[0mkey\u001b[0m\u001b[0;34m)\u001b[0m \u001b[0;32mfrom\u001b[0m \u001b[0merr\u001b[0m\u001b[0;34m\u001b[0m\u001b[0;34m\u001b[0m\u001b[0m\n\u001b[0m\u001b[1;32m   3364\u001b[0m \u001b[0;34m\u001b[0m\u001b[0m\n\u001b[1;32m   3365\u001b[0m         \u001b[0;32mif\u001b[0m \u001b[0mis_scalar\u001b[0m\u001b[0;34m(\u001b[0m\u001b[0mkey\u001b[0m\u001b[0;34m)\u001b[0m \u001b[0;32mand\u001b[0m \u001b[0misna\u001b[0m\u001b[0;34m(\u001b[0m\u001b[0mkey\u001b[0m\u001b[0;34m)\u001b[0m \u001b[0;32mand\u001b[0m \u001b[0;32mnot\u001b[0m \u001b[0mself\u001b[0m\u001b[0;34m.\u001b[0m\u001b[0mhasnans\u001b[0m\u001b[0;34m:\u001b[0m\u001b[0;34m\u001b[0m\u001b[0;34m\u001b[0m\u001b[0m\n",
            "\u001b[0;31mKeyError\u001b[0m: 'is_fraud'"
          ]
        }
      ]
    },
    {
      "cell_type": "code",
      "source": [
        "Samplesubmission1.head()"
      ],
      "metadata": {
        "colab": {
          "base_uri": "https://localhost:8080/",
          "height": 206
        },
        "id": "NfIYfj5_yK5W",
        "outputId": "24c927a7-4c57-452b-fc88-ed42d9b9281e"
      },
      "execution_count": null,
      "outputs": [
        {
          "output_type": "execute_result",
          "data": {
            "text/plain": [
              "   transaction_number\n",
              "0     857050141038272\n",
              "1       4400462872603\n",
              "2    1207915598569499\n",
              "3    2009725616777536\n",
              "4    2319205210274863"
            ],
            "text/html": [
              "\n",
              "  <div id=\"df-4a9bc066-c325-487a-952f-dd7c9e95832c\">\n",
              "    <div class=\"colab-df-container\">\n",
              "      <div>\n",
              "<style scoped>\n",
              "    .dataframe tbody tr th:only-of-type {\n",
              "        vertical-align: middle;\n",
              "    }\n",
              "\n",
              "    .dataframe tbody tr th {\n",
              "        vertical-align: top;\n",
              "    }\n",
              "\n",
              "    .dataframe thead th {\n",
              "        text-align: right;\n",
              "    }\n",
              "</style>\n",
              "<table border=\"1\" class=\"dataframe\">\n",
              "  <thead>\n",
              "    <tr style=\"text-align: right;\">\n",
              "      <th></th>\n",
              "      <th>transaction_number</th>\n",
              "    </tr>\n",
              "  </thead>\n",
              "  <tbody>\n",
              "    <tr>\n",
              "      <th>0</th>\n",
              "      <td>857050141038272</td>\n",
              "    </tr>\n",
              "    <tr>\n",
              "      <th>1</th>\n",
              "      <td>4400462872603</td>\n",
              "    </tr>\n",
              "    <tr>\n",
              "      <th>2</th>\n",
              "      <td>1207915598569499</td>\n",
              "    </tr>\n",
              "    <tr>\n",
              "      <th>3</th>\n",
              "      <td>2009725616777536</td>\n",
              "    </tr>\n",
              "    <tr>\n",
              "      <th>4</th>\n",
              "      <td>2319205210274863</td>\n",
              "    </tr>\n",
              "  </tbody>\n",
              "</table>\n",
              "</div>\n",
              "      <button class=\"colab-df-convert\" onclick=\"convertToInteractive('df-4a9bc066-c325-487a-952f-dd7c9e95832c')\"\n",
              "              title=\"Convert this dataframe to an interactive table.\"\n",
              "              style=\"display:none;\">\n",
              "        \n",
              "  <svg xmlns=\"http://www.w3.org/2000/svg\" height=\"24px\"viewBox=\"0 0 24 24\"\n",
              "       width=\"24px\">\n",
              "    <path d=\"M0 0h24v24H0V0z\" fill=\"none\"/>\n",
              "    <path d=\"M18.56 5.44l.94 2.06.94-2.06 2.06-.94-2.06-.94-.94-2.06-.94 2.06-2.06.94zm-11 1L8.5 8.5l.94-2.06 2.06-.94-2.06-.94L8.5 2.5l-.94 2.06-2.06.94zm10 10l.94 2.06.94-2.06 2.06-.94-2.06-.94-.94-2.06-.94 2.06-2.06.94z\"/><path d=\"M17.41 7.96l-1.37-1.37c-.4-.4-.92-.59-1.43-.59-.52 0-1.04.2-1.43.59L10.3 9.45l-7.72 7.72c-.78.78-.78 2.05 0 2.83L4 21.41c.39.39.9.59 1.41.59.51 0 1.02-.2 1.41-.59l7.78-7.78 2.81-2.81c.8-.78.8-2.07 0-2.86zM5.41 20L4 18.59l7.72-7.72 1.47 1.35L5.41 20z\"/>\n",
              "  </svg>\n",
              "      </button>\n",
              "      \n",
              "  <style>\n",
              "    .colab-df-container {\n",
              "      display:flex;\n",
              "      flex-wrap:wrap;\n",
              "      gap: 12px;\n",
              "    }\n",
              "\n",
              "    .colab-df-convert {\n",
              "      background-color: #E8F0FE;\n",
              "      border: none;\n",
              "      border-radius: 50%;\n",
              "      cursor: pointer;\n",
              "      display: none;\n",
              "      fill: #1967D2;\n",
              "      height: 32px;\n",
              "      padding: 0 0 0 0;\n",
              "      width: 32px;\n",
              "    }\n",
              "\n",
              "    .colab-df-convert:hover {\n",
              "      background-color: #E2EBFA;\n",
              "      box-shadow: 0px 1px 2px rgba(60, 64, 67, 0.3), 0px 1px 3px 1px rgba(60, 64, 67, 0.15);\n",
              "      fill: #174EA6;\n",
              "    }\n",
              "\n",
              "    [theme=dark] .colab-df-convert {\n",
              "      background-color: #3B4455;\n",
              "      fill: #D2E3FC;\n",
              "    }\n",
              "\n",
              "    [theme=dark] .colab-df-convert:hover {\n",
              "      background-color: #434B5C;\n",
              "      box-shadow: 0px 1px 3px 1px rgba(0, 0, 0, 0.15);\n",
              "      filter: drop-shadow(0px 1px 2px rgba(0, 0, 0, 0.3));\n",
              "      fill: #FFFFFF;\n",
              "    }\n",
              "  </style>\n",
              "\n",
              "      <script>\n",
              "        const buttonEl =\n",
              "          document.querySelector('#df-4a9bc066-c325-487a-952f-dd7c9e95832c button.colab-df-convert');\n",
              "        buttonEl.style.display =\n",
              "          google.colab.kernel.accessAllowed ? 'block' : 'none';\n",
              "\n",
              "        async function convertToInteractive(key) {\n",
              "          const element = document.querySelector('#df-4a9bc066-c325-487a-952f-dd7c9e95832c');\n",
              "          const dataTable =\n",
              "            await google.colab.kernel.invokeFunction('convertToInteractive',\n",
              "                                                     [key], {});\n",
              "          if (!dataTable) return;\n",
              "\n",
              "          const docLinkHtml = 'Like what you see? Visit the ' +\n",
              "            '<a target=\"_blank\" href=https://colab.research.google.com/notebooks/data_table.ipynb>data table notebook</a>'\n",
              "            + ' to learn more about interactive tables.';\n",
              "          element.innerHTML = '';\n",
              "          dataTable['output_type'] = 'display_data';\n",
              "          await google.colab.output.renderOutput(dataTable, element);\n",
              "          const docLink = document.createElement('div');\n",
              "          docLink.innerHTML = docLinkHtml;\n",
              "          element.appendChild(docLink);\n",
              "        }\n",
              "      </script>\n",
              "    </div>\n",
              "  </div>\n",
              "  "
            ]
          },
          "metadata": {},
          "execution_count": 813
        }
      ]
    },
    {
      "cell_type": "code",
      "source": [
        "Samplesubmission1.to_csv(\"Submission.csv\",index=False)"
      ],
      "metadata": {
        "id": "2xRa7OjTyK9L"
      },
      "execution_count": null,
      "outputs": []
    },
    {
      "cell_type": "code",
      "source": [
        "Samplesubmission1.is_fraud.value_counts()"
      ],
      "metadata": {
        "colab": {
          "base_uri": "https://localhost:8080/",
          "height": 287
        },
        "id": "W4NrM_ICyK_8",
        "outputId": "2db0c2f9-0f70-4ca7-85c6-f8ea6d704225"
      },
      "execution_count": null,
      "outputs": [
        {
          "output_type": "error",
          "ename": "AttributeError",
          "evalue": "ignored",
          "traceback": [
            "\u001b[0;31m---------------------------------------------------------------------------\u001b[0m",
            "\u001b[0;31mAttributeError\u001b[0m                            Traceback (most recent call last)",
            "\u001b[0;32m<ipython-input-815-726bfc70d7ea>\u001b[0m in \u001b[0;36m<module>\u001b[0;34m\u001b[0m\n\u001b[0;32m----> 1\u001b[0;31m \u001b[0mSamplesubmission1\u001b[0m\u001b[0;34m.\u001b[0m\u001b[0mis_fraud\u001b[0m\u001b[0;34m.\u001b[0m\u001b[0mvalue_counts\u001b[0m\u001b[0;34m(\u001b[0m\u001b[0;34m)\u001b[0m\u001b[0;34m\u001b[0m\u001b[0;34m\u001b[0m\u001b[0m\n\u001b[0m",
            "\u001b[0;32m/usr/local/lib/python3.7/dist-packages/pandas/core/generic.py\u001b[0m in \u001b[0;36m__getattr__\u001b[0;34m(self, name)\u001b[0m\n\u001b[1;32m   5485\u001b[0m         ):\n\u001b[1;32m   5486\u001b[0m             \u001b[0;32mreturn\u001b[0m \u001b[0mself\u001b[0m\u001b[0;34m[\u001b[0m\u001b[0mname\u001b[0m\u001b[0;34m]\u001b[0m\u001b[0;34m\u001b[0m\u001b[0;34m\u001b[0m\u001b[0m\n\u001b[0;32m-> 5487\u001b[0;31m         \u001b[0;32mreturn\u001b[0m \u001b[0mobject\u001b[0m\u001b[0;34m.\u001b[0m\u001b[0m__getattribute__\u001b[0m\u001b[0;34m(\u001b[0m\u001b[0mself\u001b[0m\u001b[0;34m,\u001b[0m \u001b[0mname\u001b[0m\u001b[0;34m)\u001b[0m\u001b[0;34m\u001b[0m\u001b[0;34m\u001b[0m\u001b[0m\n\u001b[0m\u001b[1;32m   5488\u001b[0m \u001b[0;34m\u001b[0m\u001b[0m\n\u001b[1;32m   5489\u001b[0m     \u001b[0;32mdef\u001b[0m \u001b[0m__setattr__\u001b[0m\u001b[0;34m(\u001b[0m\u001b[0mself\u001b[0m\u001b[0;34m,\u001b[0m \u001b[0mname\u001b[0m\u001b[0;34m:\u001b[0m \u001b[0mstr\u001b[0m\u001b[0;34m,\u001b[0m \u001b[0mvalue\u001b[0m\u001b[0;34m)\u001b[0m \u001b[0;34m->\u001b[0m \u001b[0;32mNone\u001b[0m\u001b[0;34m:\u001b[0m\u001b[0;34m\u001b[0m\u001b[0;34m\u001b[0m\u001b[0m\n",
            "\u001b[0;31mAttributeError\u001b[0m: 'DataFrame' object has no attribute 'is_fraud'"
          ]
        }
      ]
    },
    {
      "cell_type": "code",
      "source": [
        "print(classification_report(y_test,y_test_pred3))"
      ],
      "metadata": {
        "id": "hlIptzy2yx17",
        "outputId": "4751e50e-9d18-4aa3-f5d1-94736175d0b8",
        "colab": {
          "base_uri": "https://localhost:8080/",
          "height": 165
        }
      },
      "execution_count": null,
      "outputs": [
        {
          "output_type": "error",
          "ename": "NameError",
          "evalue": "ignored",
          "traceback": [
            "\u001b[0;31m---------------------------------------------------------------------------\u001b[0m",
            "\u001b[0;31mNameError\u001b[0m                                 Traceback (most recent call last)",
            "\u001b[0;32m<ipython-input-816-92b3d47025af>\u001b[0m in \u001b[0;36m<module>\u001b[0;34m\u001b[0m\n\u001b[0;32m----> 1\u001b[0;31m \u001b[0mprint\u001b[0m\u001b[0;34m(\u001b[0m\u001b[0mclassification_report\u001b[0m\u001b[0;34m(\u001b[0m\u001b[0my_test\u001b[0m\u001b[0;34m,\u001b[0m\u001b[0my_test_pred3\u001b[0m\u001b[0;34m)\u001b[0m\u001b[0;34m)\u001b[0m\u001b[0;34m\u001b[0m\u001b[0;34m\u001b[0m\u001b[0m\n\u001b[0m",
            "\u001b[0;31mNameError\u001b[0m: name 'y_test_pred3' is not defined"
          ]
        }
      ]
    },
    {
      "cell_type": "code",
      "source": [
        "bestmodel = dt.predict(test_data)"
      ],
      "metadata": {
        "colab": {
          "base_uri": "https://localhost:8080/",
          "height": 311
        },
        "id": "60-5ENNxcVb1",
        "outputId": "8456d5d2-9dfc-4001-e732-11e2d8f4398a"
      },
      "execution_count": null,
      "outputs": [
        {
          "output_type": "error",
          "ename": "ValueError",
          "evalue": "ignored",
          "traceback": [
            "\u001b[0;31m---------------------------------------------------------------------------\u001b[0m",
            "\u001b[0;31mValueError\u001b[0m                                Traceback (most recent call last)",
            "\u001b[0;32m<ipython-input-798-cd922010466c>\u001b[0m in \u001b[0;36m<module>\u001b[0;34m\u001b[0m\n\u001b[0;32m----> 1\u001b[0;31m \u001b[0mbestmodel\u001b[0m \u001b[0;34m=\u001b[0m \u001b[0mdt\u001b[0m\u001b[0;34m.\u001b[0m\u001b[0mpredict\u001b[0m\u001b[0;34m(\u001b[0m\u001b[0mtest_data\u001b[0m\u001b[0;34m)\u001b[0m\u001b[0;34m\u001b[0m\u001b[0;34m\u001b[0m\u001b[0m\n\u001b[0m",
            "\u001b[0;32m/usr/local/lib/python3.7/dist-packages/sklearn/tree/_classes.py\u001b[0m in \u001b[0;36mpredict\u001b[0;34m(self, X, check_input)\u001b[0m\n\u001b[1;32m    465\u001b[0m         \"\"\"\n\u001b[1;32m    466\u001b[0m         \u001b[0mcheck_is_fitted\u001b[0m\u001b[0;34m(\u001b[0m\u001b[0mself\u001b[0m\u001b[0;34m)\u001b[0m\u001b[0;34m\u001b[0m\u001b[0;34m\u001b[0m\u001b[0m\n\u001b[0;32m--> 467\u001b[0;31m         \u001b[0mX\u001b[0m \u001b[0;34m=\u001b[0m \u001b[0mself\u001b[0m\u001b[0;34m.\u001b[0m\u001b[0m_validate_X_predict\u001b[0m\u001b[0;34m(\u001b[0m\u001b[0mX\u001b[0m\u001b[0;34m,\u001b[0m \u001b[0mcheck_input\u001b[0m\u001b[0;34m)\u001b[0m\u001b[0;34m\u001b[0m\u001b[0;34m\u001b[0m\u001b[0m\n\u001b[0m\u001b[1;32m    468\u001b[0m         \u001b[0mproba\u001b[0m \u001b[0;34m=\u001b[0m \u001b[0mself\u001b[0m\u001b[0;34m.\u001b[0m\u001b[0mtree_\u001b[0m\u001b[0;34m.\u001b[0m\u001b[0mpredict\u001b[0m\u001b[0;34m(\u001b[0m\u001b[0mX\u001b[0m\u001b[0;34m)\u001b[0m\u001b[0;34m\u001b[0m\u001b[0;34m\u001b[0m\u001b[0m\n\u001b[1;32m    469\u001b[0m         \u001b[0mn_samples\u001b[0m \u001b[0;34m=\u001b[0m \u001b[0mX\u001b[0m\u001b[0;34m.\u001b[0m\u001b[0mshape\u001b[0m\u001b[0;34m[\u001b[0m\u001b[0;36m0\u001b[0m\u001b[0;34m]\u001b[0m\u001b[0;34m\u001b[0m\u001b[0;34m\u001b[0m\u001b[0m\n",
            "\u001b[0;32m/usr/local/lib/python3.7/dist-packages/sklearn/tree/_classes.py\u001b[0m in \u001b[0;36m_validate_X_predict\u001b[0;34m(self, X, check_input)\u001b[0m\n\u001b[1;32m    431\u001b[0m         \u001b[0;34m\"\"\"Validate the training data on predict (probabilities).\"\"\"\u001b[0m\u001b[0;34m\u001b[0m\u001b[0;34m\u001b[0m\u001b[0m\n\u001b[1;32m    432\u001b[0m         \u001b[0;32mif\u001b[0m \u001b[0mcheck_input\u001b[0m\u001b[0;34m:\u001b[0m\u001b[0;34m\u001b[0m\u001b[0;34m\u001b[0m\u001b[0m\n\u001b[0;32m--> 433\u001b[0;31m             \u001b[0mX\u001b[0m \u001b[0;34m=\u001b[0m \u001b[0mself\u001b[0m\u001b[0;34m.\u001b[0m\u001b[0m_validate_data\u001b[0m\u001b[0;34m(\u001b[0m\u001b[0mX\u001b[0m\u001b[0;34m,\u001b[0m \u001b[0mdtype\u001b[0m\u001b[0;34m=\u001b[0m\u001b[0mDTYPE\u001b[0m\u001b[0;34m,\u001b[0m \u001b[0maccept_sparse\u001b[0m\u001b[0;34m=\u001b[0m\u001b[0;34m\"csr\"\u001b[0m\u001b[0;34m,\u001b[0m \u001b[0mreset\u001b[0m\u001b[0;34m=\u001b[0m\u001b[0;32mFalse\u001b[0m\u001b[0;34m)\u001b[0m\u001b[0;34m\u001b[0m\u001b[0;34m\u001b[0m\u001b[0m\n\u001b[0m\u001b[1;32m    434\u001b[0m             if issparse(X) and (\n\u001b[1;32m    435\u001b[0m                 \u001b[0mX\u001b[0m\u001b[0;34m.\u001b[0m\u001b[0mindices\u001b[0m\u001b[0;34m.\u001b[0m\u001b[0mdtype\u001b[0m \u001b[0;34m!=\u001b[0m \u001b[0mnp\u001b[0m\u001b[0;34m.\u001b[0m\u001b[0mintc\u001b[0m \u001b[0;32mor\u001b[0m \u001b[0mX\u001b[0m\u001b[0;34m.\u001b[0m\u001b[0mindptr\u001b[0m\u001b[0;34m.\u001b[0m\u001b[0mdtype\u001b[0m \u001b[0;34m!=\u001b[0m \u001b[0mnp\u001b[0m\u001b[0;34m.\u001b[0m\u001b[0mintc\u001b[0m\u001b[0;34m\u001b[0m\u001b[0;34m\u001b[0m\u001b[0m\n",
            "\u001b[0;32m/usr/local/lib/python3.7/dist-packages/sklearn/base.py\u001b[0m in \u001b[0;36m_validate_data\u001b[0;34m(self, X, y, reset, validate_separately, **check_params)\u001b[0m\n\u001b[1;32m    564\u001b[0m             \u001b[0;32mraise\u001b[0m \u001b[0mValueError\u001b[0m\u001b[0;34m(\u001b[0m\u001b[0;34m\"Validation should be done on X, y or both.\"\u001b[0m\u001b[0;34m)\u001b[0m\u001b[0;34m\u001b[0m\u001b[0;34m\u001b[0m\u001b[0m\n\u001b[1;32m    565\u001b[0m         \u001b[0;32melif\u001b[0m \u001b[0;32mnot\u001b[0m \u001b[0mno_val_X\u001b[0m \u001b[0;32mand\u001b[0m \u001b[0mno_val_y\u001b[0m\u001b[0;34m:\u001b[0m\u001b[0;34m\u001b[0m\u001b[0;34m\u001b[0m\u001b[0m\n\u001b[0;32m--> 566\u001b[0;31m             \u001b[0mX\u001b[0m \u001b[0;34m=\u001b[0m \u001b[0mcheck_array\u001b[0m\u001b[0;34m(\u001b[0m\u001b[0mX\u001b[0m\u001b[0;34m,\u001b[0m \u001b[0;34m**\u001b[0m\u001b[0mcheck_params\u001b[0m\u001b[0;34m)\u001b[0m\u001b[0;34m\u001b[0m\u001b[0;34m\u001b[0m\u001b[0m\n\u001b[0m\u001b[1;32m    567\u001b[0m             \u001b[0mout\u001b[0m \u001b[0;34m=\u001b[0m \u001b[0mX\u001b[0m\u001b[0;34m\u001b[0m\u001b[0;34m\u001b[0m\u001b[0m\n\u001b[1;32m    568\u001b[0m         \u001b[0;32melif\u001b[0m \u001b[0mno_val_X\u001b[0m \u001b[0;32mand\u001b[0m \u001b[0;32mnot\u001b[0m \u001b[0mno_val_y\u001b[0m\u001b[0;34m:\u001b[0m\u001b[0;34m\u001b[0m\u001b[0;34m\u001b[0m\u001b[0m\n",
            "\u001b[0;32m/usr/local/lib/python3.7/dist-packages/sklearn/utils/validation.py\u001b[0m in \u001b[0;36mcheck_array\u001b[0;34m(array, accept_sparse, accept_large_sparse, dtype, order, copy, force_all_finite, ensure_2d, allow_nd, ensure_min_samples, ensure_min_features, estimator)\u001b[0m\n\u001b[1;32m    744\u001b[0m                     \u001b[0marray\u001b[0m \u001b[0;34m=\u001b[0m \u001b[0marray\u001b[0m\u001b[0;34m.\u001b[0m\u001b[0mastype\u001b[0m\u001b[0;34m(\u001b[0m\u001b[0mdtype\u001b[0m\u001b[0;34m,\u001b[0m \u001b[0mcasting\u001b[0m\u001b[0;34m=\u001b[0m\u001b[0;34m\"unsafe\"\u001b[0m\u001b[0;34m,\u001b[0m \u001b[0mcopy\u001b[0m\u001b[0;34m=\u001b[0m\u001b[0;32mFalse\u001b[0m\u001b[0;34m)\u001b[0m\u001b[0;34m\u001b[0m\u001b[0;34m\u001b[0m\u001b[0m\n\u001b[1;32m    745\u001b[0m                 \u001b[0;32melse\u001b[0m\u001b[0;34m:\u001b[0m\u001b[0;34m\u001b[0m\u001b[0;34m\u001b[0m\u001b[0m\n\u001b[0;32m--> 746\u001b[0;31m                     \u001b[0marray\u001b[0m \u001b[0;34m=\u001b[0m \u001b[0mnp\u001b[0m\u001b[0;34m.\u001b[0m\u001b[0masarray\u001b[0m\u001b[0;34m(\u001b[0m\u001b[0marray\u001b[0m\u001b[0;34m,\u001b[0m \u001b[0morder\u001b[0m\u001b[0;34m=\u001b[0m\u001b[0morder\u001b[0m\u001b[0;34m,\u001b[0m \u001b[0mdtype\u001b[0m\u001b[0;34m=\u001b[0m\u001b[0mdtype\u001b[0m\u001b[0;34m)\u001b[0m\u001b[0;34m\u001b[0m\u001b[0;34m\u001b[0m\u001b[0m\n\u001b[0m\u001b[1;32m    747\u001b[0m             \u001b[0;32mexcept\u001b[0m \u001b[0mComplexWarning\u001b[0m \u001b[0;32mas\u001b[0m \u001b[0mcomplex_warning\u001b[0m\u001b[0;34m:\u001b[0m\u001b[0;34m\u001b[0m\u001b[0;34m\u001b[0m\u001b[0m\n\u001b[1;32m    748\u001b[0m                 raise ValueError(\n",
            "\u001b[0;32m/usr/local/lib/python3.7/dist-packages/pandas/core/generic.py\u001b[0m in \u001b[0;36m__array__\u001b[0;34m(self, dtype)\u001b[0m\n\u001b[1;32m   1991\u001b[0m \u001b[0;34m\u001b[0m\u001b[0m\n\u001b[1;32m   1992\u001b[0m     \u001b[0;32mdef\u001b[0m \u001b[0m__array__\u001b[0m\u001b[0;34m(\u001b[0m\u001b[0mself\u001b[0m\u001b[0;34m,\u001b[0m \u001b[0mdtype\u001b[0m\u001b[0;34m:\u001b[0m \u001b[0mNpDtype\u001b[0m \u001b[0;34m|\u001b[0m \u001b[0;32mNone\u001b[0m \u001b[0;34m=\u001b[0m \u001b[0;32mNone\u001b[0m\u001b[0;34m)\u001b[0m \u001b[0;34m->\u001b[0m \u001b[0mnp\u001b[0m\u001b[0;34m.\u001b[0m\u001b[0mndarray\u001b[0m\u001b[0;34m:\u001b[0m\u001b[0;34m\u001b[0m\u001b[0;34m\u001b[0m\u001b[0m\n\u001b[0;32m-> 1993\u001b[0;31m         \u001b[0;32mreturn\u001b[0m \u001b[0mnp\u001b[0m\u001b[0;34m.\u001b[0m\u001b[0masarray\u001b[0m\u001b[0;34m(\u001b[0m\u001b[0mself\u001b[0m\u001b[0;34m.\u001b[0m\u001b[0m_values\u001b[0m\u001b[0;34m,\u001b[0m \u001b[0mdtype\u001b[0m\u001b[0;34m=\u001b[0m\u001b[0mdtype\u001b[0m\u001b[0;34m)\u001b[0m\u001b[0;34m\u001b[0m\u001b[0;34m\u001b[0m\u001b[0m\n\u001b[0m\u001b[1;32m   1994\u001b[0m \u001b[0;34m\u001b[0m\u001b[0m\n\u001b[1;32m   1995\u001b[0m     def __array_wrap__(\n",
            "\u001b[0;31mValueError\u001b[0m: could not convert string to float: 'visa_master_debit_cards'"
          ]
        }
      ]
    },
    {
      "cell_type": "code",
      "source": [
        "bestmodel[0:500]"
      ],
      "metadata": {
        "colab": {
          "base_uri": "https://localhost:8080/",
          "height": 165
        },
        "id": "PXF0dVQJcdIa",
        "outputId": "7cafef6a-01a4-442e-c06c-00d197cb878d"
      },
      "execution_count": null,
      "outputs": [
        {
          "output_type": "error",
          "ename": "NameError",
          "evalue": "ignored",
          "traceback": [
            "\u001b[0;31m---------------------------------------------------------------------------\u001b[0m",
            "\u001b[0;31mNameError\u001b[0m                                 Traceback (most recent call last)",
            "\u001b[0;32m<ipython-input-800-2c0d105e77d2>\u001b[0m in \u001b[0;36m<module>\u001b[0;34m\u001b[0m\n\u001b[0;32m----> 1\u001b[0;31m \u001b[0mbestmodel\u001b[0m\u001b[0;34m[\u001b[0m\u001b[0;36m0\u001b[0m\u001b[0;34m:\u001b[0m\u001b[0;36m500\u001b[0m\u001b[0;34m]\u001b[0m\u001b[0;34m\u001b[0m\u001b[0;34m\u001b[0m\u001b[0m\n\u001b[0m",
            "\u001b[0;31mNameError\u001b[0m: name 'bestmodel' is not defined"
          ]
        }
      ]
    },
    {
      "cell_type": "code",
      "source": [
        "test_data_output = pd.DataFrame('bestmodel.csv',index=False)"
      ],
      "metadata": {
        "colab": {
          "base_uri": "https://localhost:8080/",
          "height": 287
        },
        "id": "_L9zzJNRnJAe",
        "outputId": "f2a50500-9488-40c2-bbfc-67afc9bb4cb3"
      },
      "execution_count": null,
      "outputs": [
        {
          "output_type": "error",
          "ename": "ValueError",
          "evalue": "ignored",
          "traceback": [
            "\u001b[0;31m---------------------------------------------------------------------------\u001b[0m",
            "\u001b[0;31mValueError\u001b[0m                                Traceback (most recent call last)",
            "\u001b[0;32m<ipython-input-791-1427191e9600>\u001b[0m in \u001b[0;36m<module>\u001b[0;34m\u001b[0m\n\u001b[0;32m----> 1\u001b[0;31m \u001b[0mtest_data_output\u001b[0m \u001b[0;34m=\u001b[0m \u001b[0mpd\u001b[0m\u001b[0;34m.\u001b[0m\u001b[0mDataFrame\u001b[0m\u001b[0;34m(\u001b[0m\u001b[0;34m'bestmodel.csv'\u001b[0m\u001b[0;34m,\u001b[0m\u001b[0mindex\u001b[0m\u001b[0;34m=\u001b[0m\u001b[0;32mFalse\u001b[0m\u001b[0;34m)\u001b[0m\u001b[0;34m\u001b[0m\u001b[0;34m\u001b[0m\u001b[0m\n\u001b[0m",
            "\u001b[0;32m/usr/local/lib/python3.7/dist-packages/pandas/core/frame.py\u001b[0m in \u001b[0;36m__init__\u001b[0;34m(self, data, index, columns, dtype, copy)\u001b[0m\n\u001b[1;32m    728\u001b[0m         \u001b[0;32melse\u001b[0m\u001b[0;34m:\u001b[0m\u001b[0;34m\u001b[0m\u001b[0;34m\u001b[0m\u001b[0m\n\u001b[1;32m    729\u001b[0m             \u001b[0;32mif\u001b[0m \u001b[0mindex\u001b[0m \u001b[0;32mis\u001b[0m \u001b[0;32mNone\u001b[0m \u001b[0;32mor\u001b[0m \u001b[0mcolumns\u001b[0m \u001b[0;32mis\u001b[0m \u001b[0;32mNone\u001b[0m\u001b[0;34m:\u001b[0m\u001b[0;34m\u001b[0m\u001b[0;34m\u001b[0m\u001b[0m\n\u001b[0;32m--> 730\u001b[0;31m                 \u001b[0;32mraise\u001b[0m \u001b[0mValueError\u001b[0m\u001b[0;34m(\u001b[0m\u001b[0;34m\"DataFrame constructor not properly called!\"\u001b[0m\u001b[0;34m)\u001b[0m\u001b[0;34m\u001b[0m\u001b[0;34m\u001b[0m\u001b[0m\n\u001b[0m\u001b[1;32m    731\u001b[0m \u001b[0;34m\u001b[0m\u001b[0m\n\u001b[1;32m    732\u001b[0m             \u001b[0;31m# Argument 1 to \"ensure_index\" has incompatible type \"Collection[Any]\";\u001b[0m\u001b[0;34m\u001b[0m\u001b[0;34m\u001b[0m\u001b[0;34m\u001b[0m\u001b[0m\n",
            "\u001b[0;31mValueError\u001b[0m: DataFrame constructor not properly called!"
          ]
        }
      ]
    }
  ]
}